{
 "cells": [
  {
   "cell_type": "raw",
   "id": "40c2e580-e1c5-4790-9f1b-1395eaa9ee79",
   "metadata": {},
   "source": [
    "---\n",
    "title: \"Initiation au machine learning\"\n",
    "author: \"Pierre Jaumier\"\n",
    "date: 07/10/2024\n",
    "date-format: \"DD/MM/YYYY\"\n",
    "format:\n",
    "  html:\n",
    "    toc: true\n",
    "    html-math-method: katex\n",
    "    css: styles.css\n",
    "---"
   ]
  },
  {
   "cell_type": "markdown",
   "id": "e83e35af-d06a-42ea-bf34-6eadb7766719",
   "metadata": {},
   "source": [
    "{{< pagebreak >}}\n",
    "\n",
    "Initiation au machine learning\n",
    "\n",
    "Supports pour le cours d'initiation au machine learning proposé sur une semaine de formation."
   ]
  },
  {
   "cell_type": "markdown",
   "id": "181869c4-5bbf-4753-a978-4eeffcb9a89c",
   "metadata": {},
   "source": [
    "# Algorithme des plus proches voisins\n",
    "\n",
    "knn : k nearest neighbors"
   ]
  },
  {
   "cell_type": "markdown",
   "id": "d1b74334-f556-4c14-9b63-bf39a763379d",
   "metadata": {},
   "source": [
    "## Génération de données d'exemple"
   ]
  },
  {
   "cell_type": "code",
   "execution_count": 1,
   "id": "8f4a6f58-64e3-4aab-982d-60df72386a97",
   "metadata": {},
   "outputs": [],
   "source": [
    "points_bleus = []\n",
    "points_rouges = []"
   ]
  },
  {
   "cell_type": "markdown",
   "id": "fcbabcf4-85c6-4503-be96-f7aa60cbfcbf",
   "metadata": {},
   "source": [
    "Dans un premier exemple les points au dessus de la diagonale sont bleus et ceux en dessous sont rouges.\n",
    "\n",
    "Générer les coordonnées des différents points $(x,y)$, comprises entre 0 et 100."
   ]
  },
  {
   "cell_type": "markdown",
   "id": "eeb05a08-5733-45b7-9af8-708aa587bd11",
   "metadata": {},
   "source": [
    "[random — Generate pseudo-random numbers](https://docs.python.org/3/library/random.html)\n",
    "\n",
    "    random.randint(a, b)\n",
    "    Return a random integer N such that a <= N <= b. Alias for randrange(a, b+1).\n"
   ]
  },
  {
   "cell_type": "code",
   "execution_count": 2,
   "id": "3f0209ee-1754-4a3c-ac64-33d76c77474e",
   "metadata": {},
   "outputs": [
    {
     "data": {
      "text/plain": [
       "(31, 48, 59)"
      ]
     },
     "execution_count": 2,
     "metadata": {},
     "output_type": "execute_result"
    }
   ],
   "source": [
    "import random\n",
    "random.randint(0,100), random.randint(0,100), random.randint(0,100)"
   ]
  },
  {
   "cell_type": "code",
   "execution_count": 3,
   "id": "bf6aa587-4564-45ff-b8af-86d5e3eaee14",
   "metadata": {},
   "outputs": [
    {
     "data": {
      "text/plain": [
       "(81, 14, 3)"
      ]
     },
     "execution_count": 3,
     "metadata": {},
     "output_type": "execute_result"
    }
   ],
   "source": [
    "random.seed(42)\n",
    "random.randint(0,100), random.randint(0,100), random.randint(0,100)"
   ]
  },
  {
   "cell_type": "code",
   "execution_count": 4,
   "id": "3ed1d00d-1bbf-4518-906b-d5a22dba2a9b",
   "metadata": {},
   "outputs": [
    {
     "data": {
      "text/plain": [
       "(94, 35, 31)"
      ]
     },
     "execution_count": 4,
     "metadata": {},
     "output_type": "execute_result"
    }
   ],
   "source": [
    "random.randint(0,100), random.randint(0,100), random.randint(0,100)"
   ]
  },
  {
   "cell_type": "code",
   "execution_count": 5,
   "id": "dfe6fdff-180c-4931-a4dc-704f06995144",
   "metadata": {},
   "outputs": [
    {
     "data": {
      "text/plain": [
       "28"
      ]
     },
     "execution_count": 5,
     "metadata": {},
     "output_type": "execute_result"
    }
   ],
   "source": [
    "random.randint(0,100)"
   ]
  },
  {
   "cell_type": "markdown",
   "id": "543bc86d-1516-4a1a-a67f-2b52fd251a7b",
   "metadata": {},
   "source": [
    "Génération de 10 points de chaque couleur:"
   ]
  },
  {
   "cell_type": "code",
   "execution_count": 6,
   "id": "a82e40c4-1c3a-4295-ac78-f523be82eda9",
   "metadata": {},
   "outputs": [],
   "source": [
    "random.seed(42)\n",
    "\n",
    "n = 10  # Nombre de points par couleur\n",
    "\n",
    "while len(points_bleus)!=n or len(points_rouges)!=n:\n",
    "    x = random.randint(0,100)\n",
    "    y = random.randint(0,100)\n",
    "    if y >= x and len(points_bleus) < n:\n",
    "        points_bleus.append((x,y))\n",
    "    elif y < x and len(points_rouges) < n:\n",
    "        points_rouges.append((x,y))"
   ]
  },
  {
   "cell_type": "code",
   "execution_count": 7,
   "id": "87cb6974-8343-4a1e-9b29-9239a3db03d9",
   "metadata": {},
   "outputs": [
    {
     "data": {
      "text/plain": [
       "[(3, 94),\n",
       " (86, 94),\n",
       " (11, 27),\n",
       " (29, 64),\n",
       " (57, 75),\n",
       " (19, 27),\n",
       " (5, 93),\n",
       " (58, 68),\n",
       " (15, 48),\n",
       " (10, 70)]"
      ]
     },
     "execution_count": 7,
     "metadata": {},
     "output_type": "execute_result"
    }
   ],
   "source": [
    "points_bleus"
   ]
  },
  {
   "cell_type": "code",
   "execution_count": 8,
   "id": "ae75433b-317c-43d1-b2ef-ee30cf470df0",
   "metadata": {},
   "outputs": [
    {
     "data": {
      "text/plain": [
       "[(81, 14),\n",
       " (35, 31),\n",
       " (28, 17),\n",
       " (94, 13),\n",
       " (69, 11),\n",
       " (75, 54),\n",
       " (4, 3),\n",
       " (77, 3),\n",
       " (71, 25),\n",
       " (91, 83)]"
      ]
     },
     "execution_count": 8,
     "metadata": {},
     "output_type": "execute_result"
    }
   ],
   "source": [
    "points_rouges"
   ]
  },
  {
   "cell_type": "markdown",
   "id": "cecf8889-ab0f-4096-9d77-360f676c6767",
   "metadata": {},
   "source": [
    "## Visualisation\n",
    "\n",
    "[matplotlib scatter plot](https://matplotlib.org/stable/gallery/shapes_and_collections/scatter.html)\n",
    "\n",
    "[Les couleurs sous matplotlib](https://matplotlib.org/stable/gallery/color/color_demo.html)"
   ]
  },
  {
   "cell_type": "code",
   "execution_count": 9,
   "id": "189c4876-9397-4c03-939e-7cc01950ef5c",
   "metadata": {},
   "outputs": [
    {
     "data": {
      "image/png": "[encoded data removed]",
      "text/plain": [
       "<Figure size 640x480 with 1 Axes>"
      ]
     },
     "metadata": {},
     "output_type": "display_data"
    }
   ],
   "source": [
    "import matplotlib.pyplot as plt\n",
    "import numpy as np\n",
    "\n",
    "# points_bleus puis points_rouges\n",
    "\n",
    "abscisses = []\n",
    "ordonnées = []\n",
    "couleurs = []\n",
    "\n",
    "for x,y in points_bleus:\n",
    "    abscisses.append(x)\n",
    "    ordonnées.append(y)\n",
    "    couleurs.append('tab:blue')\n",
    "for x,y in points_rouges:\n",
    "    abscisses.append(x)\n",
    "    ordonnées.append(y)\n",
    "    couleurs.append('tab:red')\n",
    "\n",
    "plt.scatter(abscisses, ordonnées, c=couleurs, alpha=0.5)\n",
    "plt.show()"
   ]
  },
  {
   "cell_type": "markdown",
   "id": "0c4fd054-2d45-402a-8655-b1284b2298fb",
   "metadata": {},
   "source": [
    "### Classification d'un nouveau point pris au hasard\n",
    "\n",
    "exemple avec k = 3"
   ]
  },
  {
   "cell_type": "code",
   "execution_count": 10,
   "id": "856ce2e9-d5fd-43ce-9d26-e9809092fdd6",
   "metadata": {},
   "outputs": [],
   "source": [
    "# nouveau_point = (random.randint(0,100), random.randint(0,100))\n",
    "nouveau_point = (11, 48)"
   ]
  },
  {
   "cell_type": "code",
   "execution_count": 11,
   "id": "e448c894-4fbf-4876-b175-8a35a6375c27",
   "metadata": {},
   "outputs": [
    {
     "data": {
      "image/png": "[encoded data removed]",
      "text/plain": [
       "<Figure size 640x480 with 1 Axes>"
      ]
     },
     "metadata": {},
     "output_type": "display_data"
    }
   ],
   "source": [
    "# Visualisation du jeu de données et des points que l'on cherche à classer (ici représentés en vert)\n",
    "abscisses.append(11)\n",
    "ordonnées.append(48)\n",
    "abscisses.append(25)\n",
    "ordonnées.append(26)\n",
    "couleurs.append('black')\n",
    "couleurs.append('black')\n",
    "plt.scatter(abscisses, ordonnées, c=couleurs, alpha=0.5)\n",
    "plt.show()"
   ]
  },
  {
   "cell_type": "markdown",
   "id": "2dbb46dd-4214-4193-965f-01051af887e3",
   "metadata": {},
   "source": [
    "### Jeu de données initial et étiquettes associées"
   ]
  },
  {
   "cell_type": "code",
   "execution_count": 12,
   "id": "35877062-16e1-4ebb-b58d-009d4f329921",
   "metadata": {},
   "outputs": [],
   "source": [
    "points = points_bleus + points_rouges\n",
    "couleurs = ['bleu']*10 + ['rouge']*10"
   ]
  },
  {
   "cell_type": "code",
   "execution_count": 13,
   "id": "23ae2fb5-c864-4ef6-bced-920bce074aaf",
   "metadata": {},
   "outputs": [
    {
     "data": {
      "text/plain": [
       "['bleu',\n",
       " 'bleu',\n",
       " 'bleu',\n",
       " 'bleu',\n",
       " 'bleu',\n",
       " 'bleu',\n",
       " 'bleu',\n",
       " 'bleu',\n",
       " 'bleu',\n",
       " 'bleu',\n",
       " 'rouge',\n",
       " 'rouge',\n",
       " 'rouge',\n",
       " 'rouge',\n",
       " 'rouge',\n",
       " 'rouge',\n",
       " 'rouge',\n",
       " 'rouge',\n",
       " 'rouge',\n",
       " 'rouge']"
      ]
     },
     "execution_count": 13,
     "metadata": {},
     "output_type": "execute_result"
    }
   ],
   "source": [
    "couleurs"
   ]
  },
  {
   "cell_type": "markdown",
   "id": "2f4e8a15-4f9b-4ca4-8597-23855c6283ed",
   "metadata": {},
   "source": [
    "### Etapes de l'algorithme"
   ]
  },
  {
   "cell_type": "markdown",
   "id": "73aaa648-666a-491b-94e2-6453b61d013f",
   "metadata": {},
   "source": [
    "Distance entre deux points A et B du plan:\n",
    "\n",
    "$$ L_2(A,B) = \\sqrt{(x_A-x_B)^2+(y_A-y_B)^2}$$"
   ]
  },
  {
   "cell_type": "markdown",
   "id": "6b05308f-04b6-473c-947a-41d03e86b411",
   "metadata": {},
   "source": [
    "[python library math](https://docs.python.org/3/library/math.html)\n",
    " \n",
    "    math.dist(p, q)\n",
    "\n",
    "    Return the Euclidean distance between two points p and q, each given as a sequence (or iterable) of coordinates. The two points must have the same dimension."
   ]
  },
  {
   "cell_type": "code",
   "execution_count": 14,
   "id": "670aaf96-1318-4631-8dae-811a84b3d2f4",
   "metadata": {},
   "outputs": [
    {
     "data": {
      "text/plain": [
       "1.4142135623730951"
      ]
     },
     "execution_count": 14,
     "metadata": {},
     "output_type": "execute_result"
    }
   ],
   "source": [
    "import math\n",
    "\n",
    "origine = (0,0)\n",
    "unité = (1,1)\n",
    "math.dist(origine, unité)"
   ]
  },
  {
   "cell_type": "markdown",
   "id": "62368c1b-e80a-4337-be30-b597efdf659b",
   "metadata": {},
   "source": [
    "Calcul de l'ensemble des distances du nouveau point aux points du jeu de données initiales"
   ]
  },
  {
   "cell_type": "code",
   "execution_count": 15,
   "id": "53319b26-0e45-4afe-898d-7bf2882668da",
   "metadata": {},
   "outputs": [],
   "source": [
    "distances = [math.dist(point, nouveau_point) for point in points]"
   ]
  },
  {
   "cell_type": "code",
   "execution_count": 16,
   "id": "3cfe0bb4-d087-4094-a46c-8a5ff0f4e50f",
   "metadata": {},
   "outputs": [],
   "source": [
    "# La ligne précédente est équivalente à :\n",
    "distances = []\n",
    "for point in points:\n",
    "    distances.append(math.dist(point, nouveau_point))"
   ]
  },
  {
   "cell_type": "markdown",
   "id": "099ea76d-a8fe-42b0-9ce1-49e494207e2e",
   "metadata": {},
   "source": [
    "[realpython list comprehension](https://realpython.com/list-comprehension-python/)"
   ]
  },
  {
   "cell_type": "code",
   "execution_count": 17,
   "id": "5bdcbb87-87c7-403d-bce6-9e4bd3b648e8",
   "metadata": {},
   "outputs": [
    {
     "data": {
      "text/plain": [
       "[46.69047011971501,\n",
       " 87.98295289429652,\n",
       " 21.0,\n",
       " 24.08318915758459,\n",
       " 53.33854141237835,\n",
       " 22.47220505424423,\n",
       " 45.39823785126467,\n",
       " 51.07837115648854,\n",
       " 4.0,\n",
       " 22.02271554554524,\n",
       " 77.82030583337487,\n",
       " 29.410882339705484,\n",
       " 35.35533905932738,\n",
       " 90.07774419910837,\n",
       " 68.79680225126747,\n",
       " 64.28063471995279,\n",
       " 45.5411901469428,\n",
       " 79.88116173416608,\n",
       " 64.25729530566937,\n",
       " 87.32124598286491]"
      ]
     },
     "execution_count": 17,
     "metadata": {},
     "output_type": "execute_result"
    }
   ],
   "source": [
    "distances"
   ]
  },
  {
   "cell_type": "code",
   "execution_count": 18,
   "id": "015aedf7-7cdf-456e-83f5-424417a41826",
   "metadata": {},
   "outputs": [
    {
     "data": {
      "text/plain": [
       "[(46.69047011971501, 'bleu'),\n",
       " (87.98295289429652, 'bleu'),\n",
       " (21.0, 'bleu'),\n",
       " (24.08318915758459, 'bleu'),\n",
       " (53.33854141237835, 'bleu'),\n",
       " (22.47220505424423, 'bleu'),\n",
       " (45.39823785126467, 'bleu'),\n",
       " (51.07837115648854, 'bleu'),\n",
       " (4.0, 'bleu'),\n",
       " (22.02271554554524, 'bleu'),\n",
       " (77.82030583337487, 'rouge'),\n",
       " (29.410882339705484, 'rouge'),\n",
       " (35.35533905932738, 'rouge'),\n",
       " (90.07774419910837, 'rouge'),\n",
       " (68.79680225126747, 'rouge'),\n",
       " (64.28063471995279, 'rouge'),\n",
       " (45.5411901469428, 'rouge'),\n",
       " (79.88116173416608, 'rouge'),\n",
       " (64.25729530566937, 'rouge'),\n",
       " (87.32124598286491, 'rouge')]"
      ]
     },
     "execution_count": 18,
     "metadata": {},
     "output_type": "execute_result"
    }
   ],
   "source": [
    "# Liste des distances associées aux couleurs de points\n",
    "[(d, c) for (d,c) in zip(distances, couleurs)]"
   ]
  },
  {
   "cell_type": "code",
   "execution_count": 19,
   "id": "a04f0e27-f0cf-45c9-ae65-4f1f255b8799",
   "metadata": {},
   "outputs": [
    {
     "data": {
      "text/plain": [
       "[(4.0, 'bleu'),\n",
       " (21.0, 'bleu'),\n",
       " (22.02271554554524, 'bleu'),\n",
       " (22.47220505424423, 'bleu'),\n",
       " (24.08318915758459, 'bleu'),\n",
       " (29.410882339705484, 'rouge'),\n",
       " (35.35533905932738, 'rouge'),\n",
       " (45.39823785126467, 'bleu'),\n",
       " (45.5411901469428, 'rouge'),\n",
       " (46.69047011971501, 'bleu'),\n",
       " (51.07837115648854, 'bleu'),\n",
       " (53.33854141237835, 'bleu'),\n",
       " (64.25729530566937, 'rouge'),\n",
       " (64.28063471995279, 'rouge'),\n",
       " (68.79680225126747, 'rouge'),\n",
       " (77.82030583337487, 'rouge'),\n",
       " (79.88116173416608, 'rouge'),\n",
       " (87.32124598286491, 'rouge'),\n",
       " (87.98295289429652, 'bleu'),\n",
       " (90.07774419910837, 'rouge')]"
      ]
     },
     "execution_count": 19,
     "metadata": {},
     "output_type": "execute_result"
    }
   ],
   "source": [
    "distances_classées = sorted([(d, c) for (d,c) in zip(distances, couleurs)])\n",
    "distances_classées"
   ]
  },
  {
   "cell_type": "code",
   "execution_count": 20,
   "id": "97772c12-c3f1-4eeb-b4c1-64f8033678e5",
   "metadata": {},
   "outputs": [
    {
     "data": {
      "text/plain": [
       "[(4.0, 'bleu'), (21.0, 'bleu'), (22.02271554554524, 'bleu')]"
      ]
     },
     "execution_count": 20,
     "metadata": {},
     "output_type": "execute_result"
    }
   ],
   "source": [
    "k=3\n",
    "distances_classées[:k]"
   ]
  },
  {
   "cell_type": "markdown",
   "id": "012c19ad-8d51-4ea3-8ddd-464bcb0ded08",
   "metadata": {},
   "source": [
    "Cas d'une classification erronée (dûe au manque de points dans le jeu de données initial)"
   ]
  },
  {
   "cell_type": "code",
   "execution_count": 21,
   "id": "56cc86c0-03b4-4ef1-bf2a-0de22a9b8ab5",
   "metadata": {},
   "outputs": [
    {
     "data": {
      "text/plain": [
       "[(6.082762530298219, 'bleu'),\n",
       " (9.486832980505138, 'rouge'),\n",
       " (11.180339887498949, 'rouge')]"
      ]
     },
     "execution_count": 21,
     "metadata": {},
     "output_type": "execute_result"
    }
   ],
   "source": [
    "nouveau_point = (25, 26)  # devrait être classé en bleu\n",
    "distances = [math.dist(point, nouveau_point) for point in points]\n",
    "plus_petites_distances = sorted([(d, c) for (d,c) in zip(distances, couleurs)])[:k]\n",
    "plus_petites_distances"
   ]
  },
  {
   "cell_type": "markdown",
   "id": "8f5202e8-7942-4284-9002-1feb242a9abb",
   "metadata": {},
   "source": [
    "Extraction de la couleur la plus fréquente:"
   ]
  },
  {
   "cell_type": "code",
   "execution_count": 22,
   "id": "e4b47109-2d4c-4123-b8d7-4f35d193d400",
   "metadata": {},
   "outputs": [
    {
     "data": {
      "text/plain": [
       "'rouge'"
      ]
     },
     "execution_count": 22,
     "metadata": {},
     "output_type": "execute_result"
    }
   ],
   "source": [
    "from collections import Counter\n",
    "Counter([couleur for _, couleur in plus_petites_distances]).most_common(1)[0][0]"
   ]
  },
  {
   "cell_type": "markdown",
   "id": "9f99f88e-1341-49ff-87f0-5dd1ab39aad4",
   "metadata": {},
   "source": [
    "## Fonction kNN"
   ]
  },
  {
   "cell_type": "code",
   "execution_count": 23,
   "id": "ea0a7a9b-4651-40a0-bc84-1772961933a1",
   "metadata": {},
   "outputs": [],
   "source": [
    "from collections import Counter\n",
    "\n",
    "def kNN(X, y, new_x, k=3):\n",
    "    \"\"\"\n",
    "    args:\n",
    "        X: jeu de données initiales\n",
    "        y: classes associées aux éléments de X \n",
    "        new_x: nouveau point que l'on souhaite classer\n",
    "        k: nombre de voisins pris dans l'évaluation\n",
    "\n",
    "    return:\n",
    "        La classe de `y` la plus fréquente\n",
    "    \"\"\"\n",
    "    distances = [math.dist(new_x, x) for x in X]\n",
    "    plus_petites_distances = sorted([(d, c) for (d,c) in zip(distances, y)])[:k]\n",
    "    counter = Counter([classe for _, classe in plus_petites_distances])\n",
    "    \n",
    "    return counter.most_common(1)[0][0]"
   ]
  },
  {
   "cell_type": "code",
   "execution_count": 24,
   "id": "2cd0cc21-558c-469d-a32f-4fdead0abc64",
   "metadata": {},
   "outputs": [
    {
     "data": {
      "text/plain": [
       "'rouge'"
      ]
     },
     "execution_count": 24,
     "metadata": {},
     "output_type": "execute_result"
    }
   ],
   "source": [
    "kNN(points, couleurs, (25, 26))  # devrait être classé en bleu"
   ]
  },
  {
   "cell_type": "code",
   "execution_count": 25,
   "id": "8808139e-effc-4bf4-a983-8a2b943dfa7e",
   "metadata": {},
   "outputs": [
    {
     "data": {
      "text/plain": [
       "'bleu'"
      ]
     },
     "execution_count": 25,
     "metadata": {},
     "output_type": "execute_result"
    }
   ],
   "source": [
    "kNN(points, couleurs, (11, 48))  # devrait être classé en bleu"
   ]
  },
  {
   "cell_type": "markdown",
   "id": "25433692-d2ec-41d9-9ee8-4a731b25a153",
   "metadata": {},
   "source": [
    "## Références\n",
    "\n",
    "[StatQuest: K-nearest neighbors, Clearly Explained](https://www.youtube.com/watch?v=HVXime0nQeI)"
   ]
  },
  {
   "cell_type": "markdown",
   "id": "ffd0c047-9aa0-40f0-b2d3-ed4764df3463",
   "metadata": {},
   "source": [
    "# Normalisation"
   ]
  },
  {
   "cell_type": "markdown",
   "id": "5aef0825",
   "metadata": {},
   "source": [
    "## Normalisation: motivation\n",
    "\n",
    "Création d'un jeu de données d'exemple"
   ]
  },
  {
   "cell_type": "code",
   "execution_count": 26,
   "id": "4c112081-4219-4cde-bef1-56e354cbfb3b",
   "metadata": {},
   "outputs": [],
   "source": [
    "from collections import namedtuple\n",
    "\n",
    "Point = namedtuple('Point', 'x1 x2')"
   ]
  },
  {
   "cell_type": "code",
   "execution_count": 27,
   "id": "f83da559-e9e9-4c38-829f-2ab54a0f5cb7",
   "metadata": {},
   "outputs": [
    {
     "data": {
      "text/plain": [
       "Point(x1=1, x2=2)"
      ]
     },
     "execution_count": 27,
     "metadata": {},
     "output_type": "execute_result"
    }
   ],
   "source": [
    "p = Point(1, 2)\n",
    "p"
   ]
  },
  {
   "cell_type": "code",
   "execution_count": 28,
   "id": "31b49db1-810b-4772-80d5-7937b3555323",
   "metadata": {},
   "outputs": [
    {
     "data": {
      "text/plain": [
       "1"
      ]
     },
     "execution_count": 28,
     "metadata": {},
     "output_type": "execute_result"
    }
   ],
   "source": [
    "p.x1"
   ]
  },
  {
   "cell_type": "code",
   "execution_count": 29,
   "id": "a573dad1-c8d5-47db-92d1-47d3b4a2cf25",
   "metadata": {},
   "outputs": [
    {
     "data": {
      "text/plain": [
       "1"
      ]
     },
     "execution_count": 29,
     "metadata": {},
     "output_type": "execute_result"
    }
   ],
   "source": [
    "p[0]"
   ]
  },
  {
   "cell_type": "code",
   "execution_count": 30,
   "id": "5da90add-cfe5-4cc2-b81f-34ec8525fee8",
   "metadata": {},
   "outputs": [
    {
     "data": {
      "text/plain": [
       "[0, 2, 4, 6, 8, 10]"
      ]
     },
     "execution_count": 30,
     "metadata": {},
     "output_type": "execute_result"
    }
   ],
   "source": [
    "# abscisses\n",
    "list(range(0,12,2))"
   ]
  },
  {
   "cell_type": "code",
   "execution_count": 31,
   "id": "2b46ac35",
   "metadata": {},
   "outputs": [],
   "source": [
    "points_bleus = [Point(x1, 0) for x1 in range(2,12,2)]\n",
    "points_rouges = [Point(x1, 1) for x1 in range(0,10,2)]\n",
    "\n",
    "points = points_bleus + points_rouges\n",
    "couleurs = ['bleu']*len(points_bleus) + ['rouge']*len(points_rouges)"
   ]
  },
  {
   "cell_type": "code",
   "execution_count": 32,
   "id": "8e7867df-8dc2-42a5-a759-affd0fdb6a2e",
   "metadata": {},
   "outputs": [
    {
     "data": {
      "text/plain": [
       "[Point(x1=2, x2=0),\n",
       " Point(x1=4, x2=0),\n",
       " Point(x1=6, x2=0),\n",
       " Point(x1=8, x2=0),\n",
       " Point(x1=10, x2=0),\n",
       " Point(x1=0, x2=1),\n",
       " Point(x1=2, x2=1),\n",
       " Point(x1=4, x2=1),\n",
       " Point(x1=6, x2=1),\n",
       " Point(x1=8, x2=1)]"
      ]
     },
     "execution_count": 32,
     "metadata": {},
     "output_type": "execute_result"
    }
   ],
   "source": [
    "points"
   ]
  },
  {
   "cell_type": "code",
   "execution_count": 33,
   "id": "64c92c0c-31ad-48bf-a598-a3f8ad306da2",
   "metadata": {},
   "outputs": [
    {
     "data": {
      "image/png": "[encoded data removed]",
      "text/plain": [
       "<Figure size 640x480 with 1 Axes>"
      ]
     },
     "metadata": {},
     "output_type": "display_data"
    }
   ],
   "source": [
    "import matplotlib.pyplot as plt\n",
    "\n",
    "abscisses  = [point.x1 for point in points]\n",
    "ordonnées = [point.x2 for point in points]\n",
    "\n",
    "point_inconnu = Point(10, 1)\n",
    "\n",
    "colors = []\n",
    "for c in couleurs:\n",
    "    if c == 'bleu':\n",
    "        colors.append('tab:blue')\n",
    "    else:\n",
    "        colors.append('tab:red')\n",
    "\n",
    "# point_inconnu\n",
    "abscisses.append(point_inconnu.x1)\n",
    "ordonnées.append(point_inconnu.x2)\n",
    "colors.append('black')\n",
    "\n",
    "plt.ylim(-0.5, 10)\n",
    "plt.scatter(abscisses, ordonnées, c=colors, alpha=0.5)\n",
    "plt.show()"
   ]
  },
  {
   "cell_type": "markdown",
   "id": "11d85efe-e311-4082-8891-2a76af94c129",
   "metadata": {},
   "source": [
    "`(10, 1)` serait rouge mais classé bleu pour  k=1\n"
   ]
  },
  {
   "cell_type": "code",
   "execution_count": 34,
   "id": "027c7f79-09a2-4b8b-a99b-f38c25029e13",
   "metadata": {},
   "outputs": [
    {
     "data": {
      "text/plain": [
       "'bleu'"
      ]
     },
     "execution_count": 34,
     "metadata": {},
     "output_type": "execute_result"
    }
   ],
   "source": [
    "kNN(points, couleurs, point_inconnu, k=1)"
   ]
  },
  {
   "cell_type": "code",
   "execution_count": 35,
   "id": "85853097-04d9-4643-a659-558c9e6b58ff",
   "metadata": {},
   "outputs": [
    {
     "data": {
      "text/plain": [
       "'bleu'"
      ]
     },
     "execution_count": 35,
     "metadata": {},
     "output_type": "execute_result"
    }
   ],
   "source": [
    "kNN(points, couleurs, point_inconnu, k=3)"
   ]
  },
  {
   "cell_type": "markdown",
   "id": "174022d4-45e8-4e91-a35b-869b6ec9a815",
   "metadata": {},
   "source": [
    "## Moyenne, variance et écart type\n",
    "\n",
    "Pour l'ensemble de n valeurs `x = [x_1, ..., x_n ]`, on définit:\n",
    "- la moyenne (mean):\n",
    "$$\\overline{x} = \\mu = \\frac{1}{n} \\sum_{i=1}^{n}x_{i}$$\n",
    "- La variance qui est une mesure de la dispersion de l'échantillon, c'est la moyenne des carrés des distances à la moyenne de l'échantillon.\n",
    "$$Var(x)=\\sigma^2=\\frac{1}{n} \\sum_{i=1}^{n}(x_{i}-\\mu)^2$$\n",
    "- l'écart type (standard deviation) \n",
    "$$\\sigma=\\sqrt{Var(x)}=\\sqrt{\\frac{1}{n} \\sum_{i=1}^{n}(x_{i}-\\overline{x})^2}$$"
   ]
  },
  {
   "cell_type": "markdown",
   "id": "17231e05-99c5-47e8-bb0b-e25f8ab5dc30",
   "metadata": {},
   "source": [
    "## Normalisation standard\n",
    "\n",
    "Pour l'ensemble de n valeurs $x = [x_1, ..., x_n ]$, on définit:\n",
    "$$z_{i} = \\frac{x_{i}-\\mu}{\\sigma}$$\n",
    "\n",
    "On utilise `z`à la place de `x`\n",
    "\n",
    "On fait le même procédé sur chacun des axes"
   ]
  },
  {
   "cell_type": "code",
   "execution_count": 36,
   "id": "4729e1c2-ef08-40a4-89f3-3328d852d200",
   "metadata": {},
   "outputs": [
    {
     "data": {
      "text/plain": [
       "[Point(x1=2, x2=0),\n",
       " Point(x1=4, x2=0),\n",
       " Point(x1=6, x2=0),\n",
       " Point(x1=8, x2=0),\n",
       " Point(x1=10, x2=0),\n",
       " Point(x1=0, x2=1),\n",
       " Point(x1=2, x2=1),\n",
       " Point(x1=4, x2=1),\n",
       " Point(x1=6, x2=1),\n",
       " Point(x1=8, x2=1)]"
      ]
     },
     "execution_count": 36,
     "metadata": {},
     "output_type": "execute_result"
    }
   ],
   "source": [
    "points"
   ]
  },
  {
   "cell_type": "code",
   "execution_count": 37,
   "id": "604cab68-33a9-4e73-9114-f16bd13b8eaf",
   "metadata": {},
   "outputs": [
    {
     "data": {
      "text/plain": [
       "['bleu',\n",
       " 'bleu',\n",
       " 'bleu',\n",
       " 'bleu',\n",
       " 'bleu',\n",
       " 'rouge',\n",
       " 'rouge',\n",
       " 'rouge',\n",
       " 'rouge',\n",
       " 'rouge']"
      ]
     },
     "execution_count": 37,
     "metadata": {},
     "output_type": "execute_result"
    }
   ],
   "source": [
    "couleurs"
   ]
  },
  {
   "cell_type": "code",
   "execution_count": 38,
   "id": "9019cc55-e002-4691-9580-90b6324ae274",
   "metadata": {},
   "outputs": [
    {
     "data": {
      "text/plain": [
       "[2, 4, 6, 8, 10, 0, 2, 4, 6, 8]"
      ]
     },
     "execution_count": 38,
     "metadata": {},
     "output_type": "execute_result"
    }
   ],
   "source": [
    "x1 = [point.x1 for point in points]\n",
    "x1"
   ]
  },
  {
   "cell_type": "markdown",
   "id": "6a3a047b-ca5a-4219-8338-0d37115b6e0f",
   "metadata": {},
   "source": [
    "[statistics — Mathematical statistics functions](https://docs.python.org/3/library/statistics.html)"
   ]
  },
  {
   "cell_type": "code",
   "execution_count": 39,
   "id": "e4d24c62-bd40-4c87-b664-e4a109cc47f9",
   "metadata": {},
   "outputs": [
    {
     "data": {
      "text/plain": [
       "5"
      ]
     },
     "execution_count": 39,
     "metadata": {},
     "output_type": "execute_result"
    }
   ],
   "source": [
    "from statistics import mean, stdev, pstdev\n",
    "# Moyenne\n",
    "mean(x1)"
   ]
  },
  {
   "cell_type": "code",
   "execution_count": 40,
   "id": "35c6df54-434d-47f6-9331-7048ffadc679",
   "metadata": {},
   "outputs": [
    {
     "data": {
      "text/plain": [
       "3.0"
      ]
     },
     "execution_count": 40,
     "metadata": {},
     "output_type": "execute_result"
    }
   ],
   "source": [
    "# Ecart type\n",
    "pstdev(x1)"
   ]
  },
  {
   "cell_type": "markdown",
   "id": "6b18b21a-256f-47bf-9483-521313c70180",
   "metadata": {},
   "source": [
    "Remarque: `stdev` sert à évaluer l'écart type d'une population à partir d'un échantillon, ne donne pas le même résultat que la formule proposée qui, comme `pstdev`donne directement l'écart type d'une population."
   ]
  },
  {
   "cell_type": "code",
   "execution_count": 41,
   "id": "b8574d4b-2f79-4424-87db-58a219d66fa2",
   "metadata": {},
   "outputs": [
    {
     "data": {
      "text/plain": [
       "3.1622776601683795"
      ]
     },
     "execution_count": 41,
     "metadata": {},
     "output_type": "execute_result"
    }
   ],
   "source": [
    "stdev(x1)"
   ]
  },
  {
   "cell_type": "code",
   "execution_count": 42,
   "id": "4264e681-8ecf-4e57-9876-23bdab8466be",
   "metadata": {},
   "outputs": [
    {
     "data": {
      "text/plain": [
       "3.0"
      ]
     },
     "execution_count": 42,
     "metadata": {},
     "output_type": "execute_result"
    }
   ],
   "source": [
    "math.sqrt((1/len(x1))*sum([(x1_i - mean(x1))**2 for x1_i in x1]))"
   ]
  },
  {
   "cell_type": "code",
   "execution_count": 43,
   "id": "5127bead-e126-4688-848c-d99fc2ead8b5",
   "metadata": {},
   "outputs": [
    {
     "data": {
      "text/plain": [
       "[-1.0,\n",
       " -0.3333333333333333,\n",
       " 0.3333333333333333,\n",
       " 1.0,\n",
       " 1.6666666666666667,\n",
       " -1.6666666666666667,\n",
       " -1.0,\n",
       " -0.3333333333333333,\n",
       " 0.3333333333333333,\n",
       " 1.0]"
      ]
     },
     "execution_count": 43,
     "metadata": {},
     "output_type": "execute_result"
    }
   ],
   "source": [
    "z1 = [(x1_i - mean(x1))/pstdev(x1) for x1_i in x1]\n",
    "z1"
   ]
  },
  {
   "cell_type": "code",
   "execution_count": 44,
   "id": "04fbdd18-4b8e-4f30-b2dc-8ea36fdb38db",
   "metadata": {},
   "outputs": [
    {
     "data": {
      "text/plain": [
       "0.0"
      ]
     },
     "execution_count": 44,
     "metadata": {},
     "output_type": "execute_result"
    }
   ],
   "source": [
    "mean(z1)"
   ]
  },
  {
   "cell_type": "code",
   "execution_count": 45,
   "id": "746ca187-06de-4389-848c-2dedc506b074",
   "metadata": {},
   "outputs": [
    {
     "data": {
      "text/plain": [
       "1.0"
      ]
     },
     "execution_count": 45,
     "metadata": {},
     "output_type": "execute_result"
    }
   ],
   "source": [
    "pstdev(z1)"
   ]
  },
  {
   "cell_type": "code",
   "execution_count": 46,
   "id": "f465914f-9a4a-480a-aed9-2ecca5451e26",
   "metadata": {},
   "outputs": [
    {
     "data": {
      "text/plain": [
       "[-1.0, -1.0, -1.0, -1.0, -1.0, 1.0, 1.0, 1.0, 1.0, 1.0]"
      ]
     },
     "execution_count": 46,
     "metadata": {},
     "output_type": "execute_result"
    }
   ],
   "source": [
    "x2 = [point.x2 for point in points]\n",
    "z2 = [(x2_i - mean(x2))/pstdev(x2) for x2_i in x2]\n",
    "z2"
   ]
  },
  {
   "cell_type": "code",
   "execution_count": 47,
   "id": "c6878f57-193c-47aa-a54b-ed846b4c78f6",
   "metadata": {},
   "outputs": [
    {
     "data": {
      "text/plain": [
       "(0.0, 1.0)"
      ]
     },
     "execution_count": 47,
     "metadata": {},
     "output_type": "execute_result"
    }
   ],
   "source": [
    "mean(z2), pstdev(z2)"
   ]
  },
  {
   "cell_type": "code",
   "execution_count": 48,
   "id": "73c32249-2e6f-483d-a4a7-21ced9012e03",
   "metadata": {},
   "outputs": [
    {
     "data": {
      "text/plain": [
       "Point(x1=10, x2=1)"
      ]
     },
     "execution_count": 48,
     "metadata": {},
     "output_type": "execute_result"
    }
   ],
   "source": [
    "point_inconnu"
   ]
  },
  {
   "cell_type": "markdown",
   "id": "58b2552c-a787-4927-a44e-80a212c4b06c",
   "metadata": {},
   "source": [
    "Les valeurs de moyennes et d'écarts types sont reprises pour la modification des coordonnées du point inconnu."
   ]
  },
  {
   "cell_type": "code",
   "execution_count": 49,
   "id": "8fa44fe7-9c8f-4732-9b68-4e697f88c86f",
   "metadata": {},
   "outputs": [],
   "source": [
    "z1_inconnu = (point_inconnu.x1 - mean(x1))/pstdev(x1)\n",
    "z2_inconnu = (point_inconnu.x2 - mean(x2))/pstdev(x2)\n",
    "\n",
    "# Pour l'affichage\n",
    "z1.append(z1_inconnu)\n",
    "z2.append(z2_inconnu)"
   ]
  },
  {
   "cell_type": "code",
   "execution_count": 50,
   "id": "930f8b63-0f67-468c-a84d-9575c1ad8a0c",
   "metadata": {},
   "outputs": [
    {
     "data": {
      "image/png": "[encoded data removed]",
      "text/plain": [
       "<Figure size 640x480 with 1 Axes>"
      ]
     },
     "metadata": {},
     "output_type": "display_data"
    }
   ],
   "source": [
    "colors = []\n",
    "for c in couleurs:\n",
    "    if c == 'bleu':\n",
    "        colors.append('tab:blue')\n",
    "    else:\n",
    "        colors.append('tab:red')\n",
    "colors.append('black')\n",
    "\n",
    "plt.ylim(-1.6, 1.6)\n",
    "plt.scatter(z1, z2, c=colors, alpha=0.5)\n",
    "plt.show()"
   ]
  },
  {
   "cell_type": "markdown",
   "id": "1659b6da-00d8-4b2e-91f9-24d6fb86a4ef",
   "metadata": {},
   "source": [
    "## kNN sur données normalisées"
   ]
  },
  {
   "cell_type": "code",
   "execution_count": 51,
   "id": "102c3276-6cf8-456f-9065-5bb078c8ede8",
   "metadata": {},
   "outputs": [
    {
     "data": {
      "text/plain": [
       "[(-1.0, -1.0),\n",
       " (-0.3333333333333333, -1.0),\n",
       " (0.3333333333333333, -1.0),\n",
       " (1.0, -1.0),\n",
       " (1.6666666666666667, -1.0),\n",
       " (-1.6666666666666667, 1.0),\n",
       " (-1.0, 1.0),\n",
       " (-0.3333333333333333, 1.0),\n",
       " (0.3333333333333333, 1.0),\n",
       " (1.0, 1.0)]"
      ]
     },
     "execution_count": 51,
     "metadata": {},
     "output_type": "execute_result"
    }
   ],
   "source": [
    "z1.pop()\n",
    "z2.pop()\n",
    "list(zip(z1, z2))"
   ]
  },
  {
   "cell_type": "code",
   "execution_count": 52,
   "id": "24295dfa-7eed-4ad8-8fbd-e59ae827d41e",
   "metadata": {},
   "outputs": [],
   "source": [
    "X_normalisé = list(zip(z1, z2))"
   ]
  },
  {
   "cell_type": "code",
   "execution_count": 53,
   "id": "257f5c0d-02fa-4e1c-bcaf-1f8321c51820",
   "metadata": {},
   "outputs": [
    {
     "data": {
      "text/plain": [
       "Point(x1=1.6666666666666667, x2=1.0)"
      ]
     },
     "execution_count": 53,
     "metadata": {},
     "output_type": "execute_result"
    }
   ],
   "source": [
    "point_inconnu_normalisé = Point(z1_inconnu, z2_inconnu)\n",
    "point_inconnu_normalisé"
   ]
  },
  {
   "cell_type": "code",
   "execution_count": 54,
   "id": "e2e4923a-e9d2-4f7b-9f91-654bfd852069",
   "metadata": {},
   "outputs": [
    {
     "data": {
      "text/plain": [
       "'rouge'"
      ]
     },
     "execution_count": 54,
     "metadata": {},
     "output_type": "execute_result"
    }
   ],
   "source": [
    "kNN(X_normalisé, couleurs, point_inconnu_normalisé, k=1)"
   ]
  },
  {
   "cell_type": "code",
   "execution_count": 55,
   "id": "26c52bd7-c162-4e60-9d95-853d10881c34",
   "metadata": {},
   "outputs": [
    {
     "data": {
      "text/plain": [
       "'rouge'"
      ]
     },
     "execution_count": 55,
     "metadata": {},
     "output_type": "execute_result"
    }
   ],
   "source": [
    "kNN(X_normalisé, couleurs, point_inconnu_normalisé, k=3)"
   ]
  },
  {
   "cell_type": "code",
   "execution_count": 56,
   "id": "814d4a90-c941-4c08-8906-2179059dac21",
   "metadata": {},
   "outputs": [
    {
     "data": {
      "text/plain": [
       "'rouge'"
      ]
     },
     "execution_count": 56,
     "metadata": {},
     "output_type": "execute_result"
    }
   ],
   "source": [
    "kNN(X_normalisé, couleurs, point_inconnu_normalisé, k=2)"
   ]
  },
  {
   "cell_type": "markdown",
   "id": "7d077a8d-16c1-4b1d-a6f5-089ab7898c2f",
   "metadata": {},
   "source": [
    "# Parallèle avec scikit learn\n",
    "\n",
    "Nous allons coder deux classes au fonctionnement similaire à celles de scikit learn: StandardScaler pour la normalisation et NearestNeighbors pour le knn.\n",
    "\n",
    "> Ne pas utiliser `sklearn` pour l'instant."
   ]
  },
  {
   "cell_type": "markdown",
   "id": "2e4b288c-faa7-44de-84ea-a3cfb6572943",
   "metadata": {},
   "source": [
    "## Nomenclature"
   ]
  },
  {
   "cell_type": "code",
   "execution_count": 57,
   "id": "7a38a088-2042-4f54-b245-40d35ef8dc6f",
   "metadata": {},
   "outputs": [
    {
     "data": {
      "text/html": [
       "<div>\n",
       "<style scoped>\n",
       "    .dataframe tbody tr th:only-of-type {\n",
       "        vertical-align: middle;\n",
       "    }\n",
       "\n",
       "    .dataframe tbody tr th {\n",
       "        vertical-align: top;\n",
       "    }\n",
       "\n",
       "    .dataframe thead th {\n",
       "        text-align: right;\n",
       "    }\n",
       "</style>\n",
       "<table border=\"1\" class=\"dataframe\">\n",
       "  <thead>\n",
       "    <tr style=\"text-align: right;\">\n",
       "      <th></th>\n",
       "      <th>abscisse</th>\n",
       "      <th>ordonnée</th>\n",
       "      <th>couleur</th>\n",
       "    </tr>\n",
       "  </thead>\n",
       "  <tbody>\n",
       "    <tr>\n",
       "      <th>0</th>\n",
       "      <td>2</td>\n",
       "      <td>0</td>\n",
       "      <td>bleu</td>\n",
       "    </tr>\n",
       "    <tr>\n",
       "      <th>1</th>\n",
       "      <td>4</td>\n",
       "      <td>0</td>\n",
       "      <td>bleu</td>\n",
       "    </tr>\n",
       "    <tr>\n",
       "      <th>2</th>\n",
       "      <td>6</td>\n",
       "      <td>0</td>\n",
       "      <td>bleu</td>\n",
       "    </tr>\n",
       "    <tr>\n",
       "      <th>3</th>\n",
       "      <td>8</td>\n",
       "      <td>0</td>\n",
       "      <td>bleu</td>\n",
       "    </tr>\n",
       "    <tr>\n",
       "      <th>4</th>\n",
       "      <td>10</td>\n",
       "      <td>0</td>\n",
       "      <td>bleu</td>\n",
       "    </tr>\n",
       "    <tr>\n",
       "      <th>5</th>\n",
       "      <td>0</td>\n",
       "      <td>1</td>\n",
       "      <td>rouge</td>\n",
       "    </tr>\n",
       "    <tr>\n",
       "      <th>6</th>\n",
       "      <td>2</td>\n",
       "      <td>1</td>\n",
       "      <td>rouge</td>\n",
       "    </tr>\n",
       "    <tr>\n",
       "      <th>7</th>\n",
       "      <td>4</td>\n",
       "      <td>1</td>\n",
       "      <td>rouge</td>\n",
       "    </tr>\n",
       "    <tr>\n",
       "      <th>8</th>\n",
       "      <td>6</td>\n",
       "      <td>1</td>\n",
       "      <td>rouge</td>\n",
       "    </tr>\n",
       "    <tr>\n",
       "      <th>9</th>\n",
       "      <td>8</td>\n",
       "      <td>1</td>\n",
       "      <td>rouge</td>\n",
       "    </tr>\n",
       "  </tbody>\n",
       "</table>\n",
       "</div>"
      ],
      "text/plain": [
       "   abscisse  ordonnée couleur\n",
       "0         2         0    bleu\n",
       "1         4         0    bleu\n",
       "2         6         0    bleu\n",
       "3         8         0    bleu\n",
       "4        10         0    bleu\n",
       "5         0         1   rouge\n",
       "6         2         1   rouge\n",
       "7         4         1   rouge\n",
       "8         6         1   rouge\n",
       "9         8         1   rouge"
      ]
     },
     "execution_count": 57,
     "metadata": {},
     "output_type": "execute_result"
    }
   ],
   "source": [
    "import pandas as pd\n",
    "from collections import namedtuple\n",
    "\n",
    "Point = namedtuple('Point', 'x_1 x_2')\n",
    "\n",
    "points_bleus = [Point(x_1, 0) for x_1 in range(2,12,2)]\n",
    "points_rouges = [Point(x_1, 1) for x_1 in range(0,10,2)]\n",
    "\n",
    "points = points_bleus + points_rouges\n",
    "couleurs = ['bleu']*len(points_bleus) + ['rouge']*len(points_rouges)\n",
    "\n",
    "data = pd.DataFrame({'abscisse' : [point.x_1 for point in points],\n",
    "                     'ordonnée' : [point.x_2 for point in points],\n",
    "                     'couleur' : couleurs})\n",
    "data\n",
    "\n",
    "# observation // individu\n",
    "# X : caractéristiques (features), ici [abscisse, ordonnée], [x_1, x_2]\n",
    "# y : classe, cible ici couleur"
   ]
  },
  {
   "cell_type": "markdown",
   "id": "2e29da64-6dd6-43f5-bfd9-1d57f8c97df6",
   "metadata": {},
   "source": [
    "Scikit-learn travaille avec des valeurs numériques (Notre algorithme quant à lui autorise des valeurs textuelles pour `y`)"
   ]
  },
  {
   "cell_type": "code",
   "execution_count": 58,
   "id": "529f5ca0-4db7-4073-96e8-2ffe4fa6eee6",
   "metadata": {},
   "outputs": [
    {
     "data": {
      "text/plain": [
       "[True, True, True, True, True, False, False, False, False, False]"
      ]
     },
     "execution_count": 58,
     "metadata": {},
     "output_type": "execute_result"
    }
   ],
   "source": [
    "[c=='bleu' for c in couleurs]"
   ]
  },
  {
   "cell_type": "code",
   "execution_count": 59,
   "id": "71e31896-19d7-454b-8dc0-b4cb40897719",
   "metadata": {},
   "outputs": [
    {
     "data": {
      "text/html": [
       "<div>\n",
       "<style scoped>\n",
       "    .dataframe tbody tr th:only-of-type {\n",
       "        vertical-align: middle;\n",
       "    }\n",
       "\n",
       "    .dataframe tbody tr th {\n",
       "        vertical-align: top;\n",
       "    }\n",
       "\n",
       "    .dataframe thead th {\n",
       "        text-align: right;\n",
       "    }\n",
       "</style>\n",
       "<table border=\"1\" class=\"dataframe\">\n",
       "  <thead>\n",
       "    <tr style=\"text-align: right;\">\n",
       "      <th></th>\n",
       "      <th>x_1</th>\n",
       "      <th>x_2</th>\n",
       "      <th>y</th>\n",
       "    </tr>\n",
       "  </thead>\n",
       "  <tbody>\n",
       "    <tr>\n",
       "      <th>0</th>\n",
       "      <td>2</td>\n",
       "      <td>0</td>\n",
       "      <td>1</td>\n",
       "    </tr>\n",
       "    <tr>\n",
       "      <th>1</th>\n",
       "      <td>4</td>\n",
       "      <td>0</td>\n",
       "      <td>1</td>\n",
       "    </tr>\n",
       "    <tr>\n",
       "      <th>2</th>\n",
       "      <td>6</td>\n",
       "      <td>0</td>\n",
       "      <td>1</td>\n",
       "    </tr>\n",
       "    <tr>\n",
       "      <th>3</th>\n",
       "      <td>8</td>\n",
       "      <td>0</td>\n",
       "      <td>1</td>\n",
       "    </tr>\n",
       "    <tr>\n",
       "      <th>4</th>\n",
       "      <td>10</td>\n",
       "      <td>0</td>\n",
       "      <td>1</td>\n",
       "    </tr>\n",
       "    <tr>\n",
       "      <th>5</th>\n",
       "      <td>0</td>\n",
       "      <td>1</td>\n",
       "      <td>0</td>\n",
       "    </tr>\n",
       "    <tr>\n",
       "      <th>6</th>\n",
       "      <td>2</td>\n",
       "      <td>1</td>\n",
       "      <td>0</td>\n",
       "    </tr>\n",
       "    <tr>\n",
       "      <th>7</th>\n",
       "      <td>4</td>\n",
       "      <td>1</td>\n",
       "      <td>0</td>\n",
       "    </tr>\n",
       "    <tr>\n",
       "      <th>8</th>\n",
       "      <td>6</td>\n",
       "      <td>1</td>\n",
       "      <td>0</td>\n",
       "    </tr>\n",
       "    <tr>\n",
       "      <th>9</th>\n",
       "      <td>8</td>\n",
       "      <td>1</td>\n",
       "      <td>0</td>\n",
       "    </tr>\n",
       "  </tbody>\n",
       "</table>\n",
       "</div>"
      ],
      "text/plain": [
       "   x_1  x_2  y\n",
       "0    2    0  1\n",
       "1    4    0  1\n",
       "2    6    0  1\n",
       "3    8    0  1\n",
       "4   10    0  1\n",
       "5    0    1  0\n",
       "6    2    1  0\n",
       "7    4    1  0\n",
       "8    6    1  0\n",
       "9    8    1  0"
      ]
     },
     "execution_count": 59,
     "metadata": {},
     "output_type": "execute_result"
    }
   ],
   "source": [
    "data = pd.DataFrame({'x_1' : [point.x_1 for point in points],\n",
    "                     'x_2' : [point.x_2 for point in points],\n",
    "                     'y' : [int(c=='bleu') for c in couleurs]})\n",
    "data"
   ]
  },
  {
   "cell_type": "code",
   "execution_count": 60,
   "id": "8cc1d8f9-7243-4028-a63c-73633f502131",
   "metadata": {},
   "outputs": [
    {
     "name": "stdout",
     "output_type": "stream",
     "text": [
      " x_1  x_2\n",
      "   2    0\n",
      "   4    0\n",
      "   6    0\n",
      "   8    0\n",
      "  10    0\n",
      "   0    1\n",
      "   2    1\n",
      "   4    1\n",
      "   6    1\n",
      "   8    1\n"
     ]
    }
   ],
   "source": [
    "# X\n",
    "X = pd.DataFrame({'x_1' : [point.x_1 for point in points],\n",
    "                  'x_2' : [point.x_2 for point in points]})\n",
    "print(X.to_string(index=False))"
   ]
  },
  {
   "cell_type": "markdown",
   "id": "f7f8548f-5669-49a2-b185-e78975e42ae2",
   "metadata": {},
   "source": [
    "$$\n",
    "X=\n",
    "\\begin{bmatrix}\n",
    "2 & 0\\\\ \n",
    "4 & 0\\\\ \n",
    "6 & 0\\\\ \n",
    "\\vdots & \\vdots \\\\ \n",
    "8 & 1\\\\ \n",
    "\\end{bmatrix}\n",
    "$$"
   ]
  },
  {
   "cell_type": "code",
   "execution_count": 61,
   "id": "789bd5ef-527f-4bb2-96a2-ef139fa4069a",
   "metadata": {},
   "outputs": [
    {
     "name": "stdout",
     "output_type": "stream",
     "text": [
      " y\n",
      " 1\n",
      " 1\n",
      " 1\n",
      " 1\n",
      " 1\n",
      " 0\n",
      " 0\n",
      " 0\n",
      " 0\n",
      " 0\n"
     ]
    }
   ],
   "source": [
    "# y\n",
    "y = pd.DataFrame({'y' : [int(c=='bleu') for c in couleurs]})\n",
    "print(y.to_string(index=False))"
   ]
  },
  {
   "cell_type": "markdown",
   "id": "0f13b981-a033-40a3-8da7-f177d59cbf2c",
   "metadata": {},
   "source": [
    "$$\n",
    "y=\n",
    "\\begin{bmatrix}\n",
    "1\\\\ \n",
    "1\\\\ \n",
    "1\\\\ \n",
    "\\vdots \\\\ \n",
    "0\\\\ \n",
    "\\end{bmatrix}\n",
    "$$"
   ]
  },
  {
   "cell_type": "markdown",
   "id": "b717288f-0ede-4fc2-b5bf-3a3ba98cd55a",
   "metadata": {},
   "source": [
    "## Standardisation\n",
    "\n",
    "Ne pas utiliser `sklearn` pour l'instant. Par contre, on va s'inspirer de la signature des fonctions de [sklearn.preprocessing.StandardScaler](https://scikit-learn.org/stable/modules/generated/sklearn.preprocessing.StandardScaler.html)"
   ]
  },
  {
   "cell_type": "code",
   "execution_count": 62,
   "id": "aee00337-f8f0-45c4-931b-cdf04af3dc20",
   "metadata": {},
   "outputs": [],
   "source": [
    "class Scaler():\n",
    "    def __init__(self):\n",
    "        pass\n",
    "    def fit(self, X):\n",
    "        \"\"\"Compute the mean and std to be used for later scaling.\"\"\"\n",
    "        pass\n",
    "    def transform(self, X):\n",
    "        \"\"\"Perform standardization by centering and scaling.\"\"\"\n",
    "        pass"
   ]
  },
  {
   "cell_type": "code",
   "execution_count": 63,
   "id": "7719f716-566b-4b9f-a016-13884cf7e0ac",
   "metadata": {},
   "outputs": [
    {
     "data": {
      "text/plain": [
       "[Point(x_1=2, x_2=0),\n",
       " Point(x_1=4, x_2=0),\n",
       " Point(x_1=6, x_2=0),\n",
       " Point(x_1=8, x_2=0),\n",
       " Point(x_1=10, x_2=0),\n",
       " Point(x_1=0, x_2=1),\n",
       " Point(x_1=2, x_2=1),\n",
       " Point(x_1=4, x_2=1),\n",
       " Point(x_1=6, x_2=1),\n",
       " Point(x_1=8, x_2=1)]"
      ]
     },
     "execution_count": 63,
     "metadata": {},
     "output_type": "execute_result"
    }
   ],
   "source": [
    "points"
   ]
  },
  {
   "cell_type": "code",
   "execution_count": 64,
   "id": "61e504fc-7195-484f-b7fc-e3dac4a8e71c",
   "metadata": {},
   "outputs": [
    {
     "data": {
      "text/plain": [
       "array([[ 2.,  0.],\n",
       "       [ 4.,  0.],\n",
       "       [ 6.,  0.],\n",
       "       [ 8.,  0.],\n",
       "       [10.,  0.],\n",
       "       [ 0.,  1.],\n",
       "       [ 2.,  1.],\n",
       "       [ 4.,  1.],\n",
       "       [ 6.,  1.],\n",
       "       [ 8.,  1.]])"
      ]
     },
     "execution_count": 64,
     "metadata": {},
     "output_type": "execute_result"
    }
   ],
   "source": [
    "import numpy as np\n",
    "X = np.array(points, dtype=float)\n",
    "X"
   ]
  },
  {
   "cell_type": "code",
   "execution_count": 65,
   "id": "f910d720-34a8-4a06-a3d8-07f233bbdb6e",
   "metadata": {},
   "outputs": [
    {
     "data": {
      "text/plain": [
       "(10, 2)"
      ]
     },
     "execution_count": 65,
     "metadata": {},
     "output_type": "execute_result"
    }
   ],
   "source": [
    "X.shape"
   ]
  },
  {
   "cell_type": "code",
   "execution_count": 66,
   "id": "76e09b3b-187e-4ff5-8e43-7c35777fcadc",
   "metadata": {},
   "outputs": [
    {
     "name": "stdout",
     "output_type": "stream",
     "text": [
      "Vecteur colonne 0\n",
      "[[ 2.]\n",
      " [ 4.]\n",
      " [ 6.]\n",
      " [ 8.]\n",
      " [10.]\n",
      " [ 0.]\n",
      " [ 2.]\n",
      " [ 4.]\n",
      " [ 6.]\n",
      " [ 8.]]\n",
      "\n",
      "\n",
      "Vecteur colonne 1\n",
      "[[0.]\n",
      " [0.]\n",
      " [0.]\n",
      " [0.]\n",
      " [0.]\n",
      " [1.]\n",
      " [1.]\n",
      " [1.]\n",
      " [1.]\n",
      " [1.]]\n",
      "\n",
      "\n"
     ]
    }
   ],
   "source": [
    "for j in range(X.shape[1]):\n",
    "    print(f'Vecteur colonne {j}')\n",
    "    print(np.atleast_2d(X[:, j]).T)\n",
    "    print('\\n')"
   ]
  },
  {
   "cell_type": "code",
   "execution_count": 67,
   "id": "41d37e70-43cc-48e2-9711-6ab83e139610",
   "metadata": {},
   "outputs": [
    {
     "data": {
      "text/plain": [
       "[5.0, 0.5]"
      ]
     },
     "execution_count": 67,
     "metadata": {},
     "output_type": "execute_result"
    }
   ],
   "source": [
    "from statistics import mean, stdev\n",
    "_mean = []\n",
    "_stdev = []\n",
    "for j in range(X.shape[1]):\n",
    "    _mean.append(mean(X[:, j]))\n",
    "    _stdev.append(stdev(X[:, j]))\n",
    "_mean"
   ]
  },
  {
   "cell_type": "code",
   "execution_count": 68,
   "id": "ed3b0f10-b6f5-4112-a018-52162cec30c6",
   "metadata": {},
   "outputs": [
    {
     "data": {
      "text/plain": [
       "[3.1622776601683795, 0.5270462766947299]"
      ]
     },
     "execution_count": 68,
     "metadata": {},
     "output_type": "execute_result"
    }
   ],
   "source": [
    "_stdev"
   ]
  },
  {
   "cell_type": "markdown",
   "id": "11d13341-c1ed-4fd6-b6b5-3beab7325a8e",
   "metadata": {},
   "source": [
    "Remarque: stdev plutôt que pstdev, car on peu considérer que l'on évalue l'écart type d'une population bien plus grande. En fait, ici les deux sont équivalents."
   ]
  },
  {
   "cell_type": "code",
   "execution_count": 69,
   "id": "635b0e6a-5293-41cf-a290-4e9147d492ba",
   "metadata": {},
   "outputs": [
    {
     "data": {
      "text/plain": [
       "array([[0., 0.],\n",
       "       [0., 0.],\n",
       "       [0., 0.],\n",
       "       [0., 0.],\n",
       "       [0., 0.],\n",
       "       [0., 0.],\n",
       "       [0., 0.],\n",
       "       [0., 0.],\n",
       "       [0., 0.],\n",
       "       [0., 0.]])"
      ]
     },
     "execution_count": 69,
     "metadata": {},
     "output_type": "execute_result"
    }
   ],
   "source": [
    "X_normalisé = np.zeros_like(X)\n",
    "X_normalisé"
   ]
  },
  {
   "cell_type": "code",
   "execution_count": 70,
   "id": "56260f1e-0907-4bde-af83-bcde4acae3ac",
   "metadata": {},
   "outputs": [],
   "source": [
    "for j in range(X.shape[1]):\n",
    "    X_normalisé[:, j] = (X[:, j] - _mean[j])/_stdev[j]"
   ]
  },
  {
   "cell_type": "code",
   "execution_count": 71,
   "id": "46b3f753-44e9-4b34-8fee-513bcef3220e",
   "metadata": {},
   "outputs": [
    {
     "data": {
      "text/plain": [
       "array([[-0.9486833 , -0.9486833 ],\n",
       "       [-0.31622777, -0.9486833 ],\n",
       "       [ 0.31622777, -0.9486833 ],\n",
       "       [ 0.9486833 , -0.9486833 ],\n",
       "       [ 1.58113883, -0.9486833 ],\n",
       "       [-1.58113883,  0.9486833 ],\n",
       "       [-0.9486833 ,  0.9486833 ],\n",
       "       [-0.31622777,  0.9486833 ],\n",
       "       [ 0.31622777,  0.9486833 ],\n",
       "       [ 0.9486833 ,  0.9486833 ]])"
      ]
     },
     "execution_count": 71,
     "metadata": {},
     "output_type": "execute_result"
    }
   ],
   "source": [
    "X_normalisé"
   ]
  },
  {
   "cell_type": "code",
   "execution_count": 72,
   "id": "ef3eb392-eaee-458d-b696-40404c21e82a",
   "metadata": {},
   "outputs": [],
   "source": [
    "class Scaler():\n",
    "    def __init__(self):\n",
    "        self._mean = []\n",
    "        self._stdev = []\n",
    "    def fit(self, X):\n",
    "        \"\"\"Compute the mean and std to be used for later scaling.\"\"\"\n",
    "        X = np.array(X, dtype=float)\n",
    "        self._mean.clear()\n",
    "        self._stdev.clear()\n",
    "        for axe in range(X.shape[1]):\n",
    "            self._mean.append(mean(X[:, axe]))\n",
    "            self._stdev.append(stdev(X[:, axe]))\n",
    "    def transform(self, X):\n",
    "        \"\"\"Perform standardization by centering and scaling.\"\"\"\n",
    "        X = np.array(X, dtype=float)\n",
    "        X_normalisé = np.zeros_like(X)        \n",
    "        for j in range(X.shape[1]):\n",
    "            X_normalisé[:, j] = (X[:, j] - self._mean[j])/self._stdev[j]\n",
    "        return X_normalisé"
   ]
  },
  {
   "cell_type": "code",
   "execution_count": 73,
   "id": "218ebf0d-3daf-43a9-8526-2fd9847d22fd",
   "metadata": {},
   "outputs": [
    {
     "data": {
      "text/plain": [
       "array([[-0.9486833 , -0.9486833 ],\n",
       "       [-0.31622777, -0.9486833 ],\n",
       "       [ 0.31622777, -0.9486833 ],\n",
       "       [ 0.9486833 , -0.9486833 ],\n",
       "       [ 1.58113883, -0.9486833 ],\n",
       "       [-1.58113883,  0.9486833 ],\n",
       "       [-0.9486833 ,  0.9486833 ],\n",
       "       [-0.31622777,  0.9486833 ],\n",
       "       [ 0.31622777,  0.9486833 ],\n",
       "       [ 0.9486833 ,  0.9486833 ]])"
      ]
     },
     "execution_count": 73,
     "metadata": {},
     "output_type": "execute_result"
    }
   ],
   "source": [
    "scaler = Scaler()\n",
    "scaler.fit(points)\n",
    "points_normalisés = scaler.transform(points)\n",
    "points_normalisés"
   ]
  },
  {
   "cell_type": "code",
   "execution_count": 74,
   "id": "c830ad0e-8fdf-4895-bfd0-a35eab5fa3ff",
   "metadata": {},
   "outputs": [
    {
     "data": {
      "text/plain": [
       "array([[1.58113883, 0.9486833 ]])"
      ]
     },
     "execution_count": 74,
     "metadata": {},
     "output_type": "execute_result"
    }
   ],
   "source": [
    "point_inconnu = Point(10, 1)\n",
    "scaler.transform([point_inconnu])"
   ]
  },
  {
   "cell_type": "code",
   "execution_count": 75,
   "id": "f90ef040-249e-4205-9697-bcd189ed7810",
   "metadata": {},
   "outputs": [],
   "source": [
    "# exemple avec X qui a plus de caractéristiques (i.e. colonnes):"
   ]
  },
  {
   "cell_type": "code",
   "execution_count": 76,
   "id": "6a5143e7-fc10-4308-b21e-ab936591e88f",
   "metadata": {},
   "outputs": [
    {
     "data": {
      "text/plain": [
       "array([[83.09934843, 70.7708862 , 25.3335158 , 48.63451057, 36.18838536],\n",
       "       [22.55555815, 26.97835092, 60.7139201 , 68.64884267,  0.52602388],\n",
       "       [86.4091598 , 55.41345421, 57.79210772, 88.2442086 , 87.02527141],\n",
       "       [80.57458884, 55.85006234, 57.21028627, 46.14293692, 78.31167989]])"
      ]
     },
     "execution_count": 76,
     "metadata": {},
     "output_type": "execute_result"
    }
   ],
   "source": [
    "X = np.random.rand(4,5)*100\n",
    "X"
   ]
  },
  {
   "cell_type": "code",
   "execution_count": 77,
   "id": "3d216e22-dac9-4f39-8d53-6f00a6d62b33",
   "metadata": {},
   "outputs": [
    {
     "data": {
      "text/plain": [
       "array([[ 0.48988251,  1.01190747, -1.49365893, -0.72646452, -0.35774617],\n",
       "       [-1.49538991, -1.38115425,  0.62621673,  0.29149991, -1.24839601],\n",
       "       [ 0.59841349,  0.17269407,  0.45115149,  1.28815499,  0.91187991],\n",
       "       [ 0.40709391,  0.19655271,  0.4162907 , -0.85319038,  0.69426227]])"
      ]
     },
     "execution_count": 77,
     "metadata": {},
     "output_type": "execute_result"
    }
   ],
   "source": [
    "scaler = Scaler()\n",
    "scaler.fit(X)\n",
    "scaler.transform(X)"
   ]
  },
  {
   "cell_type": "code",
   "execution_count": 78,
   "id": "131618e3-7cce-4de6-8882-756b67e6d46a",
   "metadata": {},
   "outputs": [
    {
     "data": {
      "text/plain": [
       "-6.938893903907228e-17"
      ]
     },
     "execution_count": 78,
     "metadata": {},
     "output_type": "execute_result"
    }
   ],
   "source": [
    "mean(scaler.transform(X)[:,1])"
   ]
  },
  {
   "cell_type": "markdown",
   "id": "632bf169-ebc8-4d29-bb1b-8c090ac6748a",
   "metadata": {},
   "source": [
    "## Classification\n",
    "\n",
    "Ne pas utiliser `sklearn` pour l'instant. Par contre, on va s'inspirer de la signature des fonctions de \n",
    "[sklearn.neighbors.KNeighborsClassifier](https://scikit-learn.org/stable/modules/generated/sklearn.neighbors.KNeighborsClassifier.html#sklearn.neighbors.KNeighborsClassifier)."
   ]
  },
  {
   "cell_type": "code",
   "execution_count": 79,
   "id": "20a7608a-96a1-4047-b2a4-f76f3f2aaccd",
   "metadata": {},
   "outputs": [],
   "source": [
    "class knnClassifier():\n",
    "    def __init__(self, k=3):\n",
    "        pass\n",
    "        \n",
    "    def fit(self, X, y):\n",
    "        \"\"\"Fit the nearest neighbors estimator from the training dataset.\"\"\"\n",
    "        pass\n",
    "    \n",
    "    def predict(self, X):\n",
    "        \"\"\"Predict the class labels for the provided data.\"\"\"\n",
    "        pass"
   ]
  },
  {
   "cell_type": "code",
   "execution_count": 80,
   "id": "78d85588-b919-49ec-9d3e-1f940ddd91bf",
   "metadata": {},
   "outputs": [],
   "source": [
    "class knnClassifier():\n",
    "    def __init__(self, k=3):\n",
    "        self.k = k\n",
    "        self._fit_X = None\n",
    "        self._fit_y = None\n",
    "        \n",
    "    def fit(self, X, y):\n",
    "        \"\"\"Fit the nearest neighbors estimator from the training dataset.\"\"\"\n",
    "        self._fit_X = np.array(X, dtype=float)\n",
    "        self._fit_y = y\n",
    "    \n",
    "    def predict(self, X):\n",
    "        \"\"\"Predict the class labels for the provided data.\"\"\"\n",
    "        def kNN(new_x):\n",
    "            \"\"\"\n",
    "            args:\n",
    "                X: jeu de données initiales\n",
    "                y: classes associées aux éléments de X \n",
    "                new_x: nouveau point que l'on souhaite classer\n",
    "                k: nombre de voisins pris dans l'évaluation\n",
    "        \n",
    "            return:\n",
    "                La classe de `y` la plus fréquente\n",
    "            \"\"\"\n",
    "            distances = [math.dist(new_x, x) for x in self._fit_X]\n",
    "            plus_petites_distances = sorted([(d, c) for (d,c) in \\\n",
    "                                             zip(distances, self._fit_y)])[:self.k]\n",
    "            counter = Counter([classe for _, classe in plus_petites_distances])\n",
    "            \n",
    "            return counter.most_common(1)[0][0]\n",
    "            \n",
    "        return [kNN(x) for x in X]"
   ]
  },
  {
   "cell_type": "code",
   "execution_count": 81,
   "id": "c9abcc36-1ff6-4719-8a49-ff492293fa6b",
   "metadata": {},
   "outputs": [],
   "source": [
    "points_inconnus = [Point(0, 0), Point(10, 1)]"
   ]
  },
  {
   "cell_type": "code",
   "execution_count": 82,
   "id": "1344a15d-11aa-4079-a69c-fd37528e197d",
   "metadata": {},
   "outputs": [
    {
     "data": {
      "text/plain": [
       "['rouge', 'bleu']"
      ]
     },
     "execution_count": 82,
     "metadata": {},
     "output_type": "execute_result"
    }
   ],
   "source": [
    "# Sans normalisation\n",
    "classifier = knnClassifier()\n",
    "classifier.fit(points, couleurs)\n",
    "classifier.predict(points_inconnus)"
   ]
  },
  {
   "cell_type": "code",
   "execution_count": 83,
   "id": "d0aa4e17-dc11-4e8a-ab64-7987b895ad0e",
   "metadata": {},
   "outputs": [
    {
     "data": {
      "text/plain": [
       "['bleu', 'rouge']"
      ]
     },
     "execution_count": 83,
     "metadata": {},
     "output_type": "execute_result"
    }
   ],
   "source": [
    "# Avec normalisation\n",
    "scaler = Scaler()\n",
    "scaler.fit(points)\n",
    "points_normalisés = scaler.transform(points)\n",
    "points_inconnus_normalisés = scaler.transform(points_inconnus)\n",
    "\n",
    "classifier = knnClassifier()\n",
    "classifier.fit(points_normalisés, couleurs)\n",
    "classifier.predict(points_inconnus_normalisés)"
   ]
  },
  {
   "cell_type": "markdown",
   "id": "e2db3e16",
   "metadata": {},
   "source": [
    "# Application à un vrai jeu de données\n",
    "\n",
    "Peut-on prédire si un client va acheter une assurance ou pas?\n",
    "\n",
    "[dataset Caravan](https://islp.readthedocs.io/en/latest/datasets/Caravan.html)\n",
    "\n",
    "[instructions d'installations](https://islp.readthedocs.io/en/latest/installation.html)\n",
    "\n",
    "Les données contiennent 5 822 enregistrements de clients réels. Chaque enregistrement se compose de 86 variables, contenant des données sociodémographiques (variables 1 à 43) et la souscription ou la possession de certains produits (variables 44 à 86). Les données sociodémographiques sont dérivées des codes postaux. Tous les clients vivant dans des zones ayant le même code postal ont les mêmes attributs sociodémographiques. La variable 86 (Achat) indique si le client a souscrit une police d'assurance caravane. De plus amples informations sur les variables individuelles peuvent être obtenues sur [http://www.liacs.nl/~putten/library/cc2000/data.html](http://www.liacs.nl/~putten/library/cc2000/data.html)"
   ]
  },
  {
   "cell_type": "markdown",
   "id": "a646ebb9",
   "metadata": {},
   "source": [
    "## Séparation du jeu de données en données d'entraînement et données de test"
   ]
  },
  {
   "cell_type": "code",
   "execution_count": 84,
   "id": "94fcb78a",
   "metadata": {},
   "outputs": [
    {
     "data": {
      "text/plain": [
       "Index(['MOSTYPE', 'MAANTHUI', 'MGEMOMV', 'MGEMLEEF', 'MOSHOOFD', 'MGODRK',\n",
       "       'MGODPR', 'MGODOV', 'MGODGE', 'MRELGE', 'MRELSA', 'MRELOV', 'MFALLEEN',\n",
       "       'MFGEKIND', 'MFWEKIND', 'MOPLHOOG', 'MOPLMIDD', 'MOPLLAAG', 'MBERHOOG',\n",
       "       'MBERZELF', 'MBERBOER', 'MBERMIDD', 'MBERARBG', 'MBERARBO', 'MSKA',\n",
       "       'MSKB1', 'MSKB2', 'MSKC', 'MSKD', 'MHHUUR', 'MHKOOP', 'MAUT1', 'MAUT2',\n",
       "       'MAUT0', 'MZFONDS', 'MZPART', 'MINKM30', 'MINK3045', 'MINK4575',\n",
       "       'MINK7512', 'MINK123M', 'MINKGEM', 'MKOOPKLA', 'PWAPART', 'PWABEDR',\n",
       "       'PWALAND', 'PPERSAUT', 'PBESAUT', 'PMOTSCO', 'PVRAAUT', 'PAANHANG',\n",
       "       'PTRACTOR', 'PWERKT', 'PBROM', 'PLEVEN', 'PPERSONG', 'PGEZONG',\n",
       "       'PWAOREG', 'PBRAND', 'PZEILPL', 'PPLEZIER', 'PFIETS', 'PINBOED',\n",
       "       'PBYSTAND', 'AWAPART', 'AWABEDR', 'AWALAND', 'APERSAUT', 'ABESAUT',\n",
       "       'AMOTSCO', 'AVRAAUT', 'AAANHANG', 'ATRACTOR', 'AWERKT', 'ABROM',\n",
       "       'ALEVEN', 'APERSONG', 'AGEZONG', 'AWAOREG', 'ABRAND', 'AZEILPL',\n",
       "       'APLEZIER', 'AFIETS', 'AINBOED', 'ABYSTAND', 'Purchase'],\n",
       "      dtype='object')"
      ]
     },
     "execution_count": 84,
     "metadata": {},
     "output_type": "execute_result"
    }
   ],
   "source": [
    "from ISLP import load_data\n",
    "caravan = load_data('Caravan')\n",
    "caravan.columns"
   ]
  },
  {
   "cell_type": "code",
   "execution_count": 85,
   "id": "7b9b3b63",
   "metadata": {},
   "outputs": [
    {
     "data": {
      "text/plain": [
       "(5822, 86)"
      ]
     },
     "execution_count": 85,
     "metadata": {},
     "output_type": "execute_result"
    }
   ],
   "source": [
    "caravan.shape"
   ]
  },
  {
   "cell_type": "markdown",
   "id": "fa8dda52",
   "metadata": {},
   "source": [
    "Séparation du jeu de données en données d'entraînement (80%) et données de test (20%) sans `sklearn`"
   ]
  },
  {
   "cell_type": "code",
   "execution_count": 86,
   "id": "3c8d5bc8",
   "metadata": {},
   "outputs": [
    {
     "data": {
      "text/html": [
       "<div>\n",
       "<style scoped>\n",
       "    .dataframe tbody tr th:only-of-type {\n",
       "        vertical-align: middle;\n",
       "    }\n",
       "\n",
       "    .dataframe tbody tr th {\n",
       "        vertical-align: top;\n",
       "    }\n",
       "\n",
       "    .dataframe thead th {\n",
       "        text-align: right;\n",
       "    }\n",
       "</style>\n",
       "<table border=\"1\" class=\"dataframe\">\n",
       "  <thead>\n",
       "    <tr style=\"text-align: right;\">\n",
       "      <th></th>\n",
       "      <th>MOSTYPE</th>\n",
       "      <th>MAANTHUI</th>\n",
       "      <th>MGEMOMV</th>\n",
       "      <th>MGEMLEEF</th>\n",
       "      <th>MOSHOOFD</th>\n",
       "      <th>MGODRK</th>\n",
       "      <th>MGODPR</th>\n",
       "      <th>MGODOV</th>\n",
       "      <th>MGODGE</th>\n",
       "      <th>MRELGE</th>\n",
       "      <th>...</th>\n",
       "      <th>APERSONG</th>\n",
       "      <th>AGEZONG</th>\n",
       "      <th>AWAOREG</th>\n",
       "      <th>ABRAND</th>\n",
       "      <th>AZEILPL</th>\n",
       "      <th>APLEZIER</th>\n",
       "      <th>AFIETS</th>\n",
       "      <th>AINBOED</th>\n",
       "      <th>ABYSTAND</th>\n",
       "      <th>Purchase</th>\n",
       "    </tr>\n",
       "  </thead>\n",
       "  <tbody>\n",
       "    <tr>\n",
       "      <th>0</th>\n",
       "      <td>33</td>\n",
       "      <td>1</td>\n",
       "      <td>3</td>\n",
       "      <td>2</td>\n",
       "      <td>8</td>\n",
       "      <td>0</td>\n",
       "      <td>5</td>\n",
       "      <td>1</td>\n",
       "      <td>3</td>\n",
       "      <td>7</td>\n",
       "      <td>...</td>\n",
       "      <td>0</td>\n",
       "      <td>0</td>\n",
       "      <td>0</td>\n",
       "      <td>1</td>\n",
       "      <td>0</td>\n",
       "      <td>0</td>\n",
       "      <td>0</td>\n",
       "      <td>0</td>\n",
       "      <td>0</td>\n",
       "      <td>No</td>\n",
       "    </tr>\n",
       "    <tr>\n",
       "      <th>1</th>\n",
       "      <td>37</td>\n",
       "      <td>1</td>\n",
       "      <td>2</td>\n",
       "      <td>2</td>\n",
       "      <td>8</td>\n",
       "      <td>1</td>\n",
       "      <td>4</td>\n",
       "      <td>1</td>\n",
       "      <td>4</td>\n",
       "      <td>6</td>\n",
       "      <td>...</td>\n",
       "      <td>0</td>\n",
       "      <td>0</td>\n",
       "      <td>0</td>\n",
       "      <td>1</td>\n",
       "      <td>0</td>\n",
       "      <td>0</td>\n",
       "      <td>0</td>\n",
       "      <td>0</td>\n",
       "      <td>0</td>\n",
       "      <td>No</td>\n",
       "    </tr>\n",
       "    <tr>\n",
       "      <th>2</th>\n",
       "      <td>37</td>\n",
       "      <td>1</td>\n",
       "      <td>2</td>\n",
       "      <td>2</td>\n",
       "      <td>8</td>\n",
       "      <td>0</td>\n",
       "      <td>4</td>\n",
       "      <td>2</td>\n",
       "      <td>4</td>\n",
       "      <td>3</td>\n",
       "      <td>...</td>\n",
       "      <td>0</td>\n",
       "      <td>0</td>\n",
       "      <td>0</td>\n",
       "      <td>1</td>\n",
       "      <td>0</td>\n",
       "      <td>0</td>\n",
       "      <td>0</td>\n",
       "      <td>0</td>\n",
       "      <td>0</td>\n",
       "      <td>No</td>\n",
       "    </tr>\n",
       "    <tr>\n",
       "      <th>3</th>\n",
       "      <td>9</td>\n",
       "      <td>1</td>\n",
       "      <td>3</td>\n",
       "      <td>3</td>\n",
       "      <td>3</td>\n",
       "      <td>2</td>\n",
       "      <td>3</td>\n",
       "      <td>2</td>\n",
       "      <td>4</td>\n",
       "      <td>5</td>\n",
       "      <td>...</td>\n",
       "      <td>0</td>\n",
       "      <td>0</td>\n",
       "      <td>0</td>\n",
       "      <td>1</td>\n",
       "      <td>0</td>\n",
       "      <td>0</td>\n",
       "      <td>0</td>\n",
       "      <td>0</td>\n",
       "      <td>0</td>\n",
       "      <td>No</td>\n",
       "    </tr>\n",
       "    <tr>\n",
       "      <th>4</th>\n",
       "      <td>40</td>\n",
       "      <td>1</td>\n",
       "      <td>4</td>\n",
       "      <td>2</td>\n",
       "      <td>10</td>\n",
       "      <td>1</td>\n",
       "      <td>4</td>\n",
       "      <td>1</td>\n",
       "      <td>4</td>\n",
       "      <td>7</td>\n",
       "      <td>...</td>\n",
       "      <td>0</td>\n",
       "      <td>0</td>\n",
       "      <td>0</td>\n",
       "      <td>1</td>\n",
       "      <td>0</td>\n",
       "      <td>0</td>\n",
       "      <td>0</td>\n",
       "      <td>0</td>\n",
       "      <td>0</td>\n",
       "      <td>No</td>\n",
       "    </tr>\n",
       "  </tbody>\n",
       "</table>\n",
       "<p>5 rows × 86 columns</p>\n",
       "</div>"
      ],
      "text/plain": [
       "   MOSTYPE  MAANTHUI  MGEMOMV  MGEMLEEF  MOSHOOFD  MGODRK  MGODPR  MGODOV  \\\n",
       "0       33         1        3         2         8       0       5       1   \n",
       "1       37         1        2         2         8       1       4       1   \n",
       "2       37         1        2         2         8       0       4       2   \n",
       "3        9         1        3         3         3       2       3       2   \n",
       "4       40         1        4         2        10       1       4       1   \n",
       "\n",
       "   MGODGE  MRELGE  ...  APERSONG  AGEZONG  AWAOREG  ABRAND  AZEILPL  APLEZIER  \\\n",
       "0       3       7  ...         0        0        0       1        0         0   \n",
       "1       4       6  ...         0        0        0       1        0         0   \n",
       "2       4       3  ...         0        0        0       1        0         0   \n",
       "3       4       5  ...         0        0        0       1        0         0   \n",
       "4       4       7  ...         0        0        0       1        0         0   \n",
       "\n",
       "   AFIETS  AINBOED  ABYSTAND  Purchase  \n",
       "0       0        0         0        No  \n",
       "1       0        0         0        No  \n",
       "2       0        0         0        No  \n",
       "3       0        0         0        No  \n",
       "4       0        0         0        No  \n",
       "\n",
       "[5 rows x 86 columns]"
      ]
     },
     "execution_count": 86,
     "metadata": {},
     "output_type": "execute_result"
    }
   ],
   "source": [
    "caravan.head()"
   ]
  },
  {
   "cell_type": "code",
   "execution_count": 87,
   "id": "61c3f169",
   "metadata": {},
   "outputs": [
    {
     "data": {
      "text/plain": [
       "MOSTYPE      int64\n",
       "MAANTHUI     int64\n",
       "MGEMOMV      int64\n",
       "MGEMLEEF     int64\n",
       "MOSHOOFD     int64\n",
       "             ...  \n",
       "APLEZIER     int64\n",
       "AFIETS       int64\n",
       "AINBOED      int64\n",
       "ABYSTAND     int64\n",
       "Purchase    object\n",
       "Length: 86, dtype: object"
      ]
     },
     "execution_count": 87,
     "metadata": {},
     "output_type": "execute_result"
    }
   ],
   "source": [
    "caravan.dtypes"
   ]
  },
  {
   "cell_type": "code",
   "execution_count": 88,
   "id": "59b7edd8-713b-4acf-a001-ff775887143c",
   "metadata": {},
   "outputs": [
    {
     "data": {
      "text/plain": [
       "0       0\n",
       "1       0\n",
       "2       0\n",
       "3       0\n",
       "4       0\n",
       "       ..\n",
       "5817    0\n",
       "5818    0\n",
       "5819    1\n",
       "5820    0\n",
       "5821    0\n",
       "Name: Purchase, Length: 5822, dtype: int64"
      ]
     },
     "execution_count": 88,
     "metadata": {},
     "output_type": "execute_result"
    }
   ],
   "source": [
    "caravan.Purchase.map(lambda x: int(x=='Yes'))"
   ]
  },
  {
   "cell_type": "code",
   "execution_count": 89,
   "id": "645684af-af76-4697-b130-08899c3f2e81",
   "metadata": {},
   "outputs": [],
   "source": [
    "caravan.Purchase = caravan.Purchase.map(lambda x: int(x=='Yes'))"
   ]
  },
  {
   "cell_type": "code",
   "execution_count": 90,
   "id": "a7b7b97c-5fb1-4954-84dc-75d77d233ac6",
   "metadata": {},
   "outputs": [
    {
     "data": {
      "text/plain": [
       "array([[33,  1,  3, ...,  0,  0,  0],\n",
       "       [37,  1,  2, ...,  0,  0,  0],\n",
       "       [37,  1,  2, ...,  0,  0,  0],\n",
       "       ...,\n",
       "       [33,  1,  3, ...,  0,  0,  1],\n",
       "       [34,  1,  3, ...,  0,  0,  0],\n",
       "       [33,  1,  3, ...,  0,  0,  0]])"
      ]
     },
     "execution_count": 90,
     "metadata": {},
     "output_type": "execute_result"
    }
   ],
   "source": [
    "caravan.to_numpy()"
   ]
  },
  {
   "cell_type": "code",
   "execution_count": 91,
   "id": "4f38a054-b50e-4a1c-9a2a-d0059483ce54",
   "metadata": {},
   "outputs": [
    {
     "data": {
      "text/plain": [
       "(5822, 85)"
      ]
     },
     "execution_count": 91,
     "metadata": {},
     "output_type": "execute_result"
    }
   ],
   "source": [
    "X = caravan.to_numpy()[:,:-1]\n",
    "X.shape"
   ]
  },
  {
   "cell_type": "code",
   "execution_count": 92,
   "id": "aff4d6ea-3ed5-4f14-ab8b-eb8e2941927d",
   "metadata": {},
   "outputs": [
    {
     "data": {
      "text/plain": [
       "(5822,)"
      ]
     },
     "execution_count": 92,
     "metadata": {},
     "output_type": "execute_result"
    }
   ],
   "source": [
    "y = caravan.to_numpy()[:,-1]\n",
    "y.shape"
   ]
  },
  {
   "cell_type": "code",
   "execution_count": 93,
   "id": "ca965c5a-2145-4b57-9d5c-3c1c6c036875",
   "metadata": {},
   "outputs": [
    {
     "data": {
      "text/plain": [
       "array([[33,  1,  3, ...,  0,  0,  0],\n",
       "       [37,  1,  2, ...,  0,  0,  0],\n",
       "       [37,  1,  2, ...,  0,  0,  0],\n",
       "       ...,\n",
       "       [33,  1,  3, ...,  0,  0,  0],\n",
       "       [34,  1,  3, ...,  0,  0,  0],\n",
       "       [33,  1,  3, ...,  0,  0,  0]])"
      ]
     },
     "execution_count": 93,
     "metadata": {},
     "output_type": "execute_result"
    }
   ],
   "source": [
    "X"
   ]
  },
  {
   "cell_type": "code",
   "execution_count": 94,
   "id": "9a1dcb11-abff-4989-bf17-cf501dc214b3",
   "metadata": {},
   "outputs": [
    {
     "data": {
      "text/plain": [
       "array([0, 0, 0, ..., 1, 0, 0])"
      ]
     },
     "execution_count": 94,
     "metadata": {},
     "output_type": "execute_result"
    }
   ],
   "source": [
    "y"
   ]
  },
  {
   "cell_type": "code",
   "execution_count": 95,
   "id": "7d642d64-e3a3-4bf4-b0a1-e1208669b653",
   "metadata": {},
   "outputs": [
    {
     "data": {
      "text/plain": [
       "(list, 5822, 85)"
      ]
     },
     "execution_count": 95,
     "metadata": {},
     "output_type": "execute_result"
    }
   ],
   "source": [
    "# Sans utilisation de numpy X_, y_\n",
    "X_ = X.tolist()\n",
    "type(X_), len(X_), len(X_[0])"
   ]
  },
  {
   "cell_type": "code",
   "execution_count": 96,
   "id": "79a4c49c-6bea-40df-88fe-3acec3aa7b95",
   "metadata": {},
   "outputs": [
    {
     "data": {
      "text/plain": [
       "(list, 5822)"
      ]
     },
     "execution_count": 96,
     "metadata": {},
     "output_type": "execute_result"
    }
   ],
   "source": [
    "y_ = y.tolist()\n",
    "type(y_), len(y_)"
   ]
  },
  {
   "cell_type": "markdown",
   "id": "b71b6050-3067-4353-b4b1-c9b9c4938182",
   "metadata": {},
   "source": [
    "### Solution avec random.shuffle(x)\n",
    "\n",
    "Solution avec [random.shuffle(x)](https://docs.python.org/3/library/random.html)"
   ]
  },
  {
   "cell_type": "code",
   "execution_count": 97,
   "id": "ff90630d-772c-45fc-9c6d-1a3f4b06c691",
   "metadata": {},
   "outputs": [
    {
     "data": {
      "text/plain": [
       "[0, 1, 2, 3, 4, 5, 6, 7, 8, 9]"
      ]
     },
     "execution_count": 97,
     "metadata": {},
     "output_type": "execute_result"
    }
   ],
   "source": [
    "indices = list(range(10))\n",
    "indices"
   ]
  },
  {
   "cell_type": "code",
   "execution_count": 98,
   "id": "95fc4b97-a1b1-4909-b7eb-2669d303a6c6",
   "metadata": {},
   "outputs": [],
   "source": [
    "import random"
   ]
  },
  {
   "cell_type": "code",
   "execution_count": 99,
   "id": "22896afa-dee7-4f94-9c53-4040701dd041",
   "metadata": {},
   "outputs": [
    {
     "data": {
      "text/plain": [
       "[2, 9, 7, 1, 6, 0, 8, 3, 5, 4]"
      ]
     },
     "execution_count": 99,
     "metadata": {},
     "output_type": "execute_result"
    }
   ],
   "source": [
    "random.shuffle(indices)\n",
    "indices"
   ]
  },
  {
   "cell_type": "code",
   "execution_count": 100,
   "id": "9d1ad01c-71f0-41d0-8a4a-e6d68e82cedd",
   "metadata": {},
   "outputs": [
    {
     "data": {
      "text/plain": [
       "2"
      ]
     },
     "execution_count": 100,
     "metadata": {},
     "output_type": "execute_result"
    }
   ],
   "source": [
    "import math\n",
    "séparateur = math.floor(len(indices)*20/100)\n",
    "séparateur"
   ]
  },
  {
   "cell_type": "code",
   "execution_count": 101,
   "id": "f9da41ea-ec0d-4c55-897e-2d4a81f6689d",
   "metadata": {},
   "outputs": [
    {
     "data": {
      "text/plain": [
       "[2, 9]"
      ]
     },
     "execution_count": 101,
     "metadata": {},
     "output_type": "execute_result"
    }
   ],
   "source": [
    "indices[:séparateur]"
   ]
  },
  {
   "cell_type": "code",
   "execution_count": 102,
   "id": "b1a9397e-25d5-4f9f-bf2a-b8e66701057d",
   "metadata": {},
   "outputs": [
    {
     "data": {
      "text/plain": [
       "[7, 1, 6, 0, 8, 3, 5, 4]"
      ]
     },
     "execution_count": 102,
     "metadata": {},
     "output_type": "execute_result"
    }
   ],
   "source": [
    "indices[séparateur:]"
   ]
  },
  {
   "cell_type": "markdown",
   "id": "c555ef08-db4c-441f-b170-f15e37303c56",
   "metadata": {},
   "source": [
    "### Solution avec random.sample()\n",
    "\n",
    "Solution avec [random.sample()](https://docs.python.org/3/library/random.html)"
   ]
  },
  {
   "cell_type": "code",
   "execution_count": 103,
   "id": "aa664747-f958-48f0-ac99-6b5e13cfa992",
   "metadata": {},
   "outputs": [],
   "source": [
    "random.seed(0)"
   ]
  },
  {
   "cell_type": "code",
   "execution_count": 104,
   "id": "1a954056-230f-4aad-9ec5-6579e6ba192f",
   "metadata": {},
   "outputs": [
    {
     "data": {
      "text/plain": [
       "[0, 1, 2, 3, 4, 5, 6, 7, 8, 9]"
      ]
     },
     "execution_count": 104,
     "metadata": {},
     "output_type": "execute_result"
    }
   ],
   "source": [
    "list(range(10))"
   ]
  },
  {
   "cell_type": "code",
   "execution_count": 105,
   "id": "f487e821-a2f6-4b1d-b429-8e291d756f5f",
   "metadata": {},
   "outputs": [
    {
     "data": {
      "text/plain": [
       "[6, 9, 0]"
      ]
     },
     "execution_count": 105,
     "metadata": {},
     "output_type": "execute_result"
    }
   ],
   "source": [
    "random.sample(range(10), k=3)"
   ]
  },
  {
   "cell_type": "code",
   "execution_count": 106,
   "id": "616a961a-0c93-448f-a2e8-8338d344b3b5",
   "metadata": {},
   "outputs": [
    {
     "data": {
      "text/plain": [
       "1164"
      ]
     },
     "execution_count": 106,
     "metadata": {},
     "output_type": "execute_result"
    }
   ],
   "source": [
    "nombre_de_ligne = X.shape[0]\n",
    "random.seed(3141592)\n",
    "# 20%\n",
    "taille_de_l_échantillon = math.floor(nombre_de_ligne*20/100)\n",
    "échantillon = random.sample(range(nombre_de_ligne),\n",
    "                            k=taille_de_l_échantillon)\n",
    "len(échantillon)"
   ]
  },
  {
   "cell_type": "code",
   "execution_count": 107,
   "id": "42ea9eb9-46c7-4c21-b6be-f6e6a3f72332",
   "metadata": {},
   "outputs": [
    {
     "data": {
      "text/plain": [
       "1164"
      ]
     },
     "execution_count": 107,
     "metadata": {},
     "output_type": "execute_result"
    }
   ],
   "source": [
    "len(set(échantillon))"
   ]
  },
  {
   "cell_type": "code",
   "execution_count": 108,
   "id": "0672a883-7e38-4a69-b0ff-76cc1d0aaac0",
   "metadata": {},
   "outputs": [
    {
     "data": {
      "text/plain": [
       "(1164, 85)"
      ]
     },
     "execution_count": 108,
     "metadata": {},
     "output_type": "execute_result"
    }
   ],
   "source": [
    "X_test = X[échantillon, :]\n",
    "X_test.shape"
   ]
  },
  {
   "cell_type": "code",
   "execution_count": 109,
   "id": "ddb3fe06-5ddc-4563-96ed-b9447e971b67",
   "metadata": {},
   "outputs": [
    {
     "data": {
      "text/plain": [
       "(1164,)"
      ]
     },
     "execution_count": 109,
     "metadata": {},
     "output_type": "execute_result"
    }
   ],
   "source": [
    "y_test = y[échantillon]\n",
    "y_test.shape"
   ]
  },
  {
   "cell_type": "code",
   "execution_count": 110,
   "id": "da084899-7fcf-4786-a49a-24950066f55c",
   "metadata": {},
   "outputs": [
    {
     "data": {
      "text/plain": [
       "{1, 7, 8}"
      ]
     },
     "execution_count": 110,
     "metadata": {},
     "output_type": "execute_result"
    }
   ],
   "source": [
    "# Exemple pour récupérer les indices restants\n",
    "échantillon_test = random.sample(range(10), k=3)\n",
    "set(échantillon_test)"
   ]
  },
  {
   "cell_type": "code",
   "execution_count": 111,
   "id": "83365cbb-05db-4fde-ad05-3e19536fed26",
   "metadata": {},
   "outputs": [
    {
     "data": {
      "text/plain": [
       "{0, 1, 2, 3, 4, 5, 6, 7, 8, 9}"
      ]
     },
     "execution_count": 111,
     "metadata": {},
     "output_type": "execute_result"
    }
   ],
   "source": [
    "indices = set(range(10))\n",
    "indices"
   ]
  },
  {
   "cell_type": "code",
   "execution_count": 112,
   "id": "f0bf3f87-326b-4f67-8495-2c4cccc65d57",
   "metadata": {},
   "outputs": [
    {
     "data": {
      "text/plain": [
       "{0, 2, 3, 4, 5, 6, 9}"
      ]
     },
     "execution_count": 112,
     "metadata": {},
     "output_type": "execute_result"
    }
   ],
   "source": [
    "indices.difference_update(échantillon_test)\n",
    "indices"
   ]
  },
  {
   "cell_type": "code",
   "execution_count": 113,
   "id": "839d3408-e088-48a5-8cc4-ee1715af7393",
   "metadata": {},
   "outputs": [
    {
     "data": {
      "text/plain": [
       "4658"
      ]
     },
     "execution_count": 113,
     "metadata": {},
     "output_type": "execute_result"
    }
   ],
   "source": [
    "# Pour notre jeu de données\n",
    "indices_restants = set(range(nombre_de_ligne))\n",
    "indices_restants.difference_update(échantillon)\n",
    "indices_restants = list(indices_restants)\n",
    "len(indices_restants)"
   ]
  },
  {
   "cell_type": "code",
   "execution_count": 114,
   "id": "cd4d5676-6045-445f-b23f-023093f73e50",
   "metadata": {},
   "outputs": [
    {
     "data": {
      "text/plain": [
       "(4658, 85)"
      ]
     },
     "execution_count": 114,
     "metadata": {},
     "output_type": "execute_result"
    }
   ],
   "source": [
    "X_train = X[indices_restants, :]\n",
    "X_train.shape"
   ]
  },
  {
   "cell_type": "code",
   "execution_count": 115,
   "id": "a57f9b4a-892a-4f2f-b20a-f733f4a129c2",
   "metadata": {},
   "outputs": [
    {
     "data": {
      "text/plain": [
       "(4658,)"
      ]
     },
     "execution_count": 115,
     "metadata": {},
     "output_type": "execute_result"
    }
   ],
   "source": [
    "y_train = y[indices_restants]\n",
    "y_train.shape"
   ]
  },
  {
   "cell_type": "markdown",
   "id": "0db56b23-15c8-4f30-bd59-1a62bffe5d4e",
   "metadata": {},
   "source": [
    "Vérifier que la distribution des valeurs dans `y_train` et `y_test` corresponde à celle de `y`. Est-on sûr que ce soit le cas à chaque fois?"
   ]
  },
  {
   "cell_type": "code",
   "execution_count": 116,
   "id": "f40c7816-7abd-44fd-9be1-cdbc3906b8d2",
   "metadata": {},
   "outputs": [
    {
     "data": {
      "text/plain": [
       "0.05775010734220696"
      ]
     },
     "execution_count": 116,
     "metadata": {},
     "output_type": "execute_result"
    }
   ],
   "source": [
    "y_train.sum()/len(y_train)"
   ]
  },
  {
   "cell_type": "code",
   "execution_count": 117,
   "id": "83a27611-d4d6-4191-aace-024aa2ce06c2",
   "metadata": {},
   "outputs": [
    {
     "data": {
      "text/plain": [
       "0.06786941580756013"
      ]
     },
     "execution_count": 117,
     "metadata": {},
     "output_type": "execute_result"
    }
   ],
   "source": [
    "y_test.sum()/len(y_test)"
   ]
  },
  {
   "cell_type": "markdown",
   "id": "92a49d49-33ba-4b6b-8417-a007256aaded",
   "metadata": {},
   "source": [
    "## Notre implémentation des algorithmes"
   ]
  },
  {
   "cell_type": "markdown",
   "id": "89f97dc7-1cff-4c49-9972-6f6efac82c03",
   "metadata": {},
   "source": [
    "Test de nos objets sur ce jeu de données (si la généralisation à un nombre arbitraire de colonnes a été faite)"
   ]
  },
  {
   "cell_type": "code",
   "execution_count": 118,
   "id": "67f1a057-149b-4c14-9985-554752232c95",
   "metadata": {},
   "outputs": [],
   "source": [
    "import numpy as np\n",
    "from collections import Counter\n",
    "from statistics import mean, stdev"
   ]
  },
  {
   "cell_type": "code",
   "execution_count": 119,
   "id": "a7b646be-9b81-442b-838a-35c3c90257f4",
   "metadata": {},
   "outputs": [],
   "source": [
    "class Scaler():\n",
    "    def __init__(self):\n",
    "        self._mean = []\n",
    "        self._stdev = []\n",
    "    def fit(self, X):\n",
    "        \"\"\"Compute the mean and std to be used for later scaling.\"\"\"\n",
    "        X = np.array(X, dtype=float)\n",
    "        self._mean.clear()\n",
    "        self._stdev.clear()\n",
    "        for axe in range(X.shape[1]):\n",
    "            self._mean.append(mean(X[:, axe]))\n",
    "            self._stdev.append(stdev(X[:, axe]))\n",
    "    def transform(self, X):\n",
    "        \"\"\"Perform standardization by centering and scaling.\"\"\"\n",
    "        X = np.array(X, dtype=float)\n",
    "        X_normalisé = np.zeros_like(X)        \n",
    "        for j in range(X.shape[1]):\n",
    "            X_normalisé[:, j] = (X[:, j] - self._mean[j])/self._stdev[j]\n",
    "        return X_normalisé"
   ]
  },
  {
   "cell_type": "code",
   "execution_count": 120,
   "id": "38d21886-ae46-4d5c-8115-85ebf8a64e01",
   "metadata": {},
   "outputs": [],
   "source": [
    "class knnClassifier():\n",
    "    def __init__(self, k=3):\n",
    "        self.k = k\n",
    "        self._fit_X = None\n",
    "        self._fit_y = None\n",
    "        \n",
    "    def fit(self, X, y):\n",
    "        \"\"\"Fit the nearest neighbors estimator from the training dataset.\"\"\"\n",
    "        self._fit_X = np.array(X, dtype=float)\n",
    "        self._fit_y = y\n",
    "    \n",
    "    def predict(self, X):\n",
    "        \"\"\"Predict the class labels for the provided data.\"\"\"\n",
    "        def kNN(new_x):\n",
    "            \"\"\"\n",
    "            args:\n",
    "                X: jeu de données initiales\n",
    "                y: classes associées aux éléments de X \n",
    "                new_x: nouveau point que l'on souhaite classer\n",
    "                k: nombre de voisins pris dans l'évaluation\n",
    "        \n",
    "            return:\n",
    "                La classe de `y` la plus fréquente\n",
    "            \"\"\"\n",
    "            distances = [math.dist(new_x, x) for x in self._fit_X]\n",
    "            plus_petites_distances = sorted([(d, c) for (d,c) in \\\n",
    "                                             zip(distances, self._fit_y)])[:self.k]\n",
    "            counter = Counter([classe for _, classe in plus_petites_distances])\n",
    "            \n",
    "            return counter.most_common(1)[0][0]\n",
    "            \n",
    "        return [kNN(x) for x in X]"
   ]
  },
  {
   "cell_type": "markdown",
   "id": "0831134d-5a5b-41cd-96b3-c450aa190ff2",
   "metadata": {},
   "source": [
    "### Sans normalisation"
   ]
  },
  {
   "cell_type": "code",
   "execution_count": 121,
   "id": "8728ea93-8315-48e6-86b5-9d9dd5c1dc0c",
   "metadata": {},
   "outputs": [],
   "source": [
    "# sans normalisation\n",
    "\n",
    "# apprentissage\n",
    "classifier = knnClassifier()\n",
    "classifier.fit(X_train, y_train)\n",
    "\n",
    "# inférence\n",
    "y_test_predicted = classifier.predict(X_test)\n"
   ]
  },
  {
   "cell_type": "markdown",
   "id": "60bed3b0-9217-40a1-a86d-840f03b71858",
   "metadata": {},
   "source": [
    "Quel est le taux d'erreur?"
   ]
  },
  {
   "cell_type": "code",
   "execution_count": 122,
   "id": "80b841ef-f2fa-4d0e-bc21-50f136372201",
   "metadata": {},
   "outputs": [
    {
     "data": {
      "text/plain": [
       "0.0859106529209622"
      ]
     },
     "execution_count": 122,
     "metadata": {},
     "output_type": "execute_result"
    }
   ],
   "source": [
    "sum(y_test_predicted != y_test)/len(y_test)"
   ]
  },
  {
   "cell_type": "markdown",
   "id": "e538ec4c-998a-475e-af0a-b0da61ac6284",
   "metadata": {},
   "source": [
    "### Avec normalisation"
   ]
  },
  {
   "cell_type": "code",
   "execution_count": 123,
   "id": "4c74a895-050d-4b9f-afef-8bcc1fb7b9a6",
   "metadata": {},
   "outputs": [],
   "source": [
    "# avec normalisation\n",
    "\n",
    "scaler = Scaler()\n",
    "scaler.fit(X_train)\n",
    "X_train_normalized = scaler.transform(X_train)\n",
    "\n",
    "# apprentissage\n",
    "classifier = knnClassifier()\n",
    "classifier.fit(X_train_normalized, y_train)\n",
    "\n",
    "# inférence\n",
    "X_test_normalized = scaler.transform(X_test)\n",
    "y_test_predicted = classifier.predict(X_test_normalized)\n"
   ]
  },
  {
   "cell_type": "code",
   "execution_count": 124,
   "id": "8eb78042-5acd-4cec-a04a-331b965e00ec",
   "metadata": {},
   "outputs": [
    {
     "data": {
      "text/plain": [
       "0.08247422680412371"
      ]
     },
     "execution_count": 124,
     "metadata": {},
     "output_type": "execute_result"
    }
   ],
   "source": [
    "sum(y_test_predicted != y_test)/len(y_test)"
   ]
  },
  {
   "cell_type": "markdown",
   "id": "6c5a70a5-bef0-4425-bcda-f0de56172961",
   "metadata": {},
   "source": [
    "Différence légère sur le taux d'erreur."
   ]
  },
  {
   "cell_type": "markdown",
   "id": "d978edf9-395e-494c-8107-c0a5cfab8f0b",
   "metadata": {},
   "source": [
    "### Quelle mesure pour la pertinence de notre algorithme?"
   ]
  },
  {
   "cell_type": "code",
   "execution_count": 125,
   "id": "3049bbbe-9e3c-4416-a348-bcaa164a244e",
   "metadata": {},
   "outputs": [
    {
     "data": {
      "text/plain": [
       "0    5474\n",
       "1     348\n",
       "Name: Purchase, dtype: int64"
      ]
     },
     "execution_count": 125,
     "metadata": {},
     "output_type": "execute_result"
    }
   ],
   "source": [
    "caravan.Purchase.value_counts()"
   ]
  },
  {
   "cell_type": "markdown",
   "id": "c2c4154f-613b-4602-96f3-4fd3c35540bb",
   "metadata": {},
   "source": [
    "Le taux d'erreur KNN sur les 1 000 observations de test est d'un peu moins de 10%. À première vue, cela peut paraître plutôt bon. Cependant, étant donné qu'un peu plus de 6 % des clients ont souscrit une assurance, nous pourrions réduire le taux d'erreur à près de 6 % en prédisant toujours Non, quelles que soient les valeurs des prédicteurs ! C'est ce qu'on appelle l'hypothèse nulle.}\n",
    "\n",
    "Supposons qu’il y ait un coût non négligeable à tenter de vendre une assurance à un individu donné. Par exemple, un vendeur doit peut-être rendre visite à chaque client potentiel. Si l’entreprise tente de vendre de l’assurance à une sélection aléatoire de clients, le taux de réussite ne sera que de 6 %, ce qui pourrait être bien trop faible compte tenu des coûts impliqués. Au lieu de cela, l’entreprise aimerait essayer de vendre de l’assurance uniquement aux clients susceptibles de l’acheter. Le taux d’erreur global n’a donc aucun intérêt. Au lieu de cela, la fraction d’individus dont on prévoit correctement qu’ils souscriront une assurance est intéressante."
   ]
  },
  {
   "cell_type": "markdown",
   "id": "630b4d20-35d2-4b13-b050-f54162aa6807",
   "metadata": {},
   "source": [
    "Comment mesurer ce taux?"
   ]
  },
  {
   "cell_type": "code",
   "execution_count": 126,
   "id": "f3cd46ed-ec8e-4499-b856-f96b6055ac7f",
   "metadata": {},
   "outputs": [],
   "source": [
    "from ISLP import confusion_table"
   ]
  },
  {
   "cell_type": "code",
   "execution_count": 127,
   "id": "1434754a-70a0-4780-9f2b-d1748c35bb31",
   "metadata": {},
   "outputs": [
    {
     "data": {
      "text/html": [
       "<div>\n",
       "<style scoped>\n",
       "    .dataframe tbody tr th:only-of-type {\n",
       "        vertical-align: middle;\n",
       "    }\n",
       "\n",
       "    .dataframe tbody tr th {\n",
       "        vertical-align: top;\n",
       "    }\n",
       "\n",
       "    .dataframe thead th {\n",
       "        text-align: right;\n",
       "    }\n",
       "</style>\n",
       "<table border=\"1\" class=\"dataframe\">\n",
       "  <thead>\n",
       "    <tr style=\"text-align: right;\">\n",
       "      <th>Truth</th>\n",
       "      <th>0</th>\n",
       "      <th>1</th>\n",
       "    </tr>\n",
       "    <tr>\n",
       "      <th>Predicted</th>\n",
       "      <th></th>\n",
       "      <th></th>\n",
       "    </tr>\n",
       "  </thead>\n",
       "  <tbody>\n",
       "    <tr>\n",
       "      <th>0</th>\n",
       "      <td>1063</td>\n",
       "      <td>74</td>\n",
       "    </tr>\n",
       "    <tr>\n",
       "      <th>1</th>\n",
       "      <td>22</td>\n",
       "      <td>5</td>\n",
       "    </tr>\n",
       "  </tbody>\n",
       "</table>\n",
       "</div>"
      ],
      "text/plain": [
       "Truth         0   1\n",
       "Predicted          \n",
       "0          1063  74\n",
       "1            22   5"
      ]
     },
     "execution_count": 127,
     "metadata": {},
     "output_type": "execute_result"
    }
   ],
   "source": [
    "confusion_table(y_test_predicted, y_test)"
   ]
  },
  {
   "cell_type": "code",
   "execution_count": 128,
   "id": "320530a0-df88-4276-b706-921457cfaec7",
   "metadata": {},
   "outputs": [
    {
     "data": {
      "text/plain": [
       "0.18518518518518517"
      ]
     },
     "execution_count": 128,
     "metadata": {},
     "output_type": "execute_result"
    }
   ],
   "source": [
    "5/(22+5)"
   ]
  },
  {
   "cell_type": "code",
   "execution_count": 129,
   "id": "8a237a4d-5fab-4cde-b8a8-32e70c7daedc",
   "metadata": {},
   "outputs": [
    {
     "data": {
      "text/plain": [
       "0.06786941580756013"
      ]
     },
     "execution_count": 129,
     "metadata": {},
     "output_type": "execute_result"
    }
   ],
   "source": [
    "# Clients choisis au hasard\n",
    "(74+5)/(74+5+1063+22)"
   ]
  },
  {
   "cell_type": "code",
   "execution_count": 130,
   "id": "c70dbd7c-a36b-4c24-904c-758a0f9eacf2",
   "metadata": {},
   "outputs": [],
   "source": [
    "assert len(y_test) == 74+5+1063+22"
   ]
  },
  {
   "cell_type": "markdown",
   "id": "d0e78719-241d-47b5-8abd-d590fa27a8c2",
   "metadata": {},
   "source": [
    "## Avec scikit-learn"
   ]
  },
  {
   "cell_type": "markdown",
   "id": "ac37e911-8255-4c75-8205-52615648d74f",
   "metadata": {},
   "source": [
    "### k=1 sans normalisation"
   ]
  },
  {
   "cell_type": "code",
   "execution_count": 131,
   "id": "0767fbb1-a31b-4fb3-a103-1de6b858c903",
   "metadata": {},
   "outputs": [],
   "source": [
    "import pandas as pd\n",
    "from sklearn.preprocessing import StandardScaler\n",
    "from sklearn.neighbors import KNeighborsClassifier\n",
    "from sklearn.model_selection import train_test_split"
   ]
  },
  {
   "cell_type": "code",
   "execution_count": 132,
   "id": "0b49e949-97e6-48ce-a0f4-c79bf07178d6",
   "metadata": {},
   "outputs": [
    {
     "data": {
      "text/html": [
       "<div>\n",
       "<style scoped>\n",
       "    .dataframe tbody tr th:only-of-type {\n",
       "        vertical-align: middle;\n",
       "    }\n",
       "\n",
       "    .dataframe tbody tr th {\n",
       "        vertical-align: top;\n",
       "    }\n",
       "\n",
       "    .dataframe thead th {\n",
       "        text-align: right;\n",
       "    }\n",
       "</style>\n",
       "<table border=\"1\" class=\"dataframe\">\n",
       "  <thead>\n",
       "    <tr style=\"text-align: right;\">\n",
       "      <th>Truth</th>\n",
       "      <th>0</th>\n",
       "      <th>1</th>\n",
       "    </tr>\n",
       "    <tr>\n",
       "      <th>Predicted</th>\n",
       "      <th></th>\n",
       "      <th></th>\n",
       "    </tr>\n",
       "  </thead>\n",
       "  <tbody>\n",
       "    <tr>\n",
       "      <th>0</th>\n",
       "      <td>1021</td>\n",
       "      <td>69</td>\n",
       "    </tr>\n",
       "    <tr>\n",
       "      <th>1</th>\n",
       "      <td>66</td>\n",
       "      <td>8</td>\n",
       "    </tr>\n",
       "  </tbody>\n",
       "</table>\n",
       "</div>"
      ],
      "text/plain": [
       "Truth         0   1\n",
       "Predicted          \n",
       "0          1021  69\n",
       "1            66   8"
      ]
     },
     "execution_count": 132,
     "metadata": {},
     "output_type": "execute_result"
    }
   ],
   "source": [
    "# avec un seul voisin: k=1, sans normalisation\n",
    "\n",
    "(X_train,\n",
    " X_test,\n",
    " y_train,\n",
    " y_test) = train_test_split(X,\n",
    "                            y,\n",
    "                            test_size=1164,\n",
    "                            random_state=0)\n",
    "knn1 = KNeighborsClassifier(n_neighbors=1)\n",
    "knn1_pred = knn1.fit(X_train, y_train).predict(X_test)\n",
    "np.mean(y_test != knn1_pred), np.mean(y_test)\n",
    "confusion_table(knn1_pred, y_test)"
   ]
  },
  {
   "cell_type": "code",
   "execution_count": 133,
   "id": "ae9976b2-b20f-48a7-a08d-551512b52d0d",
   "metadata": {},
   "outputs": [
    {
     "data": {
      "text/plain": [
       "0.10810810810810811"
      ]
     },
     "execution_count": 133,
     "metadata": {},
     "output_type": "execute_result"
    }
   ],
   "source": [
    "8/(66+8)"
   ]
  },
  {
   "cell_type": "markdown",
   "id": "76ab2e84-165c-4332-b10b-c1babb26eee2",
   "metadata": {},
   "source": [
    "### k=1 avec normalisation"
   ]
  },
  {
   "cell_type": "code",
   "execution_count": 134,
   "id": "5941a023-176c-4452-817f-64d9f3cbd311",
   "metadata": {},
   "outputs": [
    {
     "data": {
      "text/html": [
       "<div>\n",
       "<style scoped>\n",
       "    .dataframe tbody tr th:only-of-type {\n",
       "        vertical-align: middle;\n",
       "    }\n",
       "\n",
       "    .dataframe tbody tr th {\n",
       "        vertical-align: top;\n",
       "    }\n",
       "\n",
       "    .dataframe thead th {\n",
       "        text-align: right;\n",
       "    }\n",
       "</style>\n",
       "<table border=\"1\" class=\"dataframe\">\n",
       "  <thead>\n",
       "    <tr style=\"text-align: right;\">\n",
       "      <th>Truth</th>\n",
       "      <th>0</th>\n",
       "      <th>1</th>\n",
       "    </tr>\n",
       "    <tr>\n",
       "      <th>Predicted</th>\n",
       "      <th></th>\n",
       "      <th></th>\n",
       "    </tr>\n",
       "  </thead>\n",
       "  <tbody>\n",
       "    <tr>\n",
       "      <th>0</th>\n",
       "      <td>1071</td>\n",
       "      <td>73</td>\n",
       "    </tr>\n",
       "    <tr>\n",
       "      <th>1</th>\n",
       "      <td>16</td>\n",
       "      <td>4</td>\n",
       "    </tr>\n",
       "  </tbody>\n",
       "</table>\n",
       "</div>"
      ],
      "text/plain": [
       "Truth         0   1\n",
       "Predicted          \n",
       "0          1071  73\n",
       "1            16   4"
      ]
     },
     "execution_count": 134,
     "metadata": {},
     "output_type": "execute_result"
    }
   ],
   "source": [
    "# avec un seul voisin: k=1\n",
    "\n",
    "scaler_sk = StandardScaler(with_mean=True,\n",
    "                        with_std=True,\n",
    "                        copy=True)\n",
    "scaler_sk.fit(X)\n",
    "X_std = scaler_sk.transform(X)\n",
    "\n",
    "(X_train,\n",
    " X_test,\n",
    " y_train,\n",
    " y_test) = train_test_split(X_std,\n",
    "                            y,\n",
    "                            test_size=1164,\n",
    "                            random_state=0)\n",
    "knn1 = KNeighborsClassifier(n_neighbors=1)\n",
    "X_test_std = scaler_sk.transform(X_test)\n",
    "knn1_pred = knn1.fit(X_train, y_train).predict(X_test_std)\n",
    "np.mean(y_test != knn1_pred), np.mean(y_test)\n",
    "confusion_table(knn1_pred, y_test)"
   ]
  },
  {
   "cell_type": "code",
   "execution_count": 135,
   "id": "08fc535e-dda2-4e08-8ba3-47ffc03e0e22",
   "metadata": {},
   "outputs": [
    {
     "data": {
      "text/plain": [
       "0.2"
      ]
     },
     "execution_count": 135,
     "metadata": {},
     "output_type": "execute_result"
    }
   ],
   "source": [
    "4/(16+4)"
   ]
  },
  {
   "cell_type": "markdown",
   "id": "917aeee5-7378-47cb-a36a-ef9b5c9ba4fe",
   "metadata": {},
   "source": [
    "### k=3 sans normalisation"
   ]
  },
  {
   "cell_type": "code",
   "execution_count": 136,
   "id": "2dd3445c-1a72-41e3-98e6-7a2772e8aafc",
   "metadata": {},
   "outputs": [
    {
     "data": {
      "text/html": [
       "<div>\n",
       "<style scoped>\n",
       "    .dataframe tbody tr th:only-of-type {\n",
       "        vertical-align: middle;\n",
       "    }\n",
       "\n",
       "    .dataframe tbody tr th {\n",
       "        vertical-align: top;\n",
       "    }\n",
       "\n",
       "    .dataframe thead th {\n",
       "        text-align: right;\n",
       "    }\n",
       "</style>\n",
       "<table border=\"1\" class=\"dataframe\">\n",
       "  <thead>\n",
       "    <tr style=\"text-align: right;\">\n",
       "      <th>Truth</th>\n",
       "      <th>0</th>\n",
       "      <th>1</th>\n",
       "    </tr>\n",
       "    <tr>\n",
       "      <th>Predicted</th>\n",
       "      <th></th>\n",
       "      <th></th>\n",
       "    </tr>\n",
       "  </thead>\n",
       "  <tbody>\n",
       "    <tr>\n",
       "      <th>0</th>\n",
       "      <td>1072</td>\n",
       "      <td>77</td>\n",
       "    </tr>\n",
       "    <tr>\n",
       "      <th>1</th>\n",
       "      <td>15</td>\n",
       "      <td>0</td>\n",
       "    </tr>\n",
       "  </tbody>\n",
       "</table>\n",
       "</div>"
      ],
      "text/plain": [
       "Truth         0   1\n",
       "Predicted          \n",
       "0          1072  77\n",
       "1            15   0"
      ]
     },
     "execution_count": 136,
     "metadata": {},
     "output_type": "execute_result"
    }
   ],
   "source": [
    "(X_train,\n",
    " X_test,\n",
    " y_train,\n",
    " y_test) = train_test_split(X,\n",
    "                            y,\n",
    "                            test_size=1164,\n",
    "                            random_state=0)\n",
    "knn3 = KNeighborsClassifier(n_neighbors=3)\n",
    "knn3_pred = knn3.fit(X_train, y_train).predict(X_test)\n",
    "np.mean(y_test != knn3_pred), np.mean(y_test)\n",
    "confusion_table(knn3_pred, y_test)"
   ]
  },
  {
   "cell_type": "markdown",
   "id": "868152a8-3efa-477e-a774-b8c4b804c53c",
   "metadata": {},
   "source": [
    "Bof, bof..."
   ]
  },
  {
   "cell_type": "markdown",
   "id": "b462b999-1d42-479d-8ccd-9bf7197e9286",
   "metadata": {},
   "source": [
    "### k=3 avec normalisation"
   ]
  },
  {
   "cell_type": "code",
   "execution_count": 137,
   "id": "f57d2b23-9114-453f-843b-e1c0af3a562f",
   "metadata": {},
   "outputs": [
    {
     "data": {
      "text/html": [
       "<div>\n",
       "<style scoped>\n",
       "    .dataframe tbody tr th:only-of-type {\n",
       "        vertical-align: middle;\n",
       "    }\n",
       "\n",
       "    .dataframe tbody tr th {\n",
       "        vertical-align: top;\n",
       "    }\n",
       "\n",
       "    .dataframe thead th {\n",
       "        text-align: right;\n",
       "    }\n",
       "</style>\n",
       "<table border=\"1\" class=\"dataframe\">\n",
       "  <thead>\n",
       "    <tr style=\"text-align: right;\">\n",
       "      <th>Truth</th>\n",
       "      <th>0</th>\n",
       "      <th>1</th>\n",
       "    </tr>\n",
       "    <tr>\n",
       "      <th>Predicted</th>\n",
       "      <th></th>\n",
       "      <th></th>\n",
       "    </tr>\n",
       "  </thead>\n",
       "  <tbody>\n",
       "    <tr>\n",
       "      <th>0</th>\n",
       "      <td>1078</td>\n",
       "      <td>74</td>\n",
       "    </tr>\n",
       "    <tr>\n",
       "      <th>1</th>\n",
       "      <td>9</td>\n",
       "      <td>3</td>\n",
       "    </tr>\n",
       "  </tbody>\n",
       "</table>\n",
       "</div>"
      ],
      "text/plain": [
       "Truth         0   1\n",
       "Predicted          \n",
       "0          1078  74\n",
       "1             9   3"
      ]
     },
     "execution_count": 137,
     "metadata": {},
     "output_type": "execute_result"
    }
   ],
   "source": [
    "scaler_sk = StandardScaler(with_mean=True,\n",
    "                        with_std=True,\n",
    "                        copy=True)\n",
    "scaler_sk.fit(X)\n",
    "X_std = scaler_sk.transform(X)\n",
    "\n",
    "(X_train,\n",
    " X_test,\n",
    " y_train,\n",
    " y_test) = train_test_split(X_std,\n",
    "                            y,\n",
    "                            test_size=1164,\n",
    "                            random_state=0)\n",
    "knn3 = KNeighborsClassifier(n_neighbors=3)\n",
    "X_test_std = scaler_sk.transform(X_test)\n",
    "knn3_pred = knn3.fit(X_train, y_train).predict(X_test_std)\n",
    "np.mean(y_test != knn3_pred), np.mean(y_test)\n",
    "confusion_table(knn3_pred, y_test)"
   ]
  },
  {
   "cell_type": "code",
   "execution_count": 138,
   "id": "0e5d1da4-6de0-401f-b9f5-852be6726a75",
   "metadata": {},
   "outputs": [
    {
     "data": {
      "text/plain": [
       "0.25"
      ]
     },
     "execution_count": 138,
     "metadata": {},
     "output_type": "execute_result"
    }
   ],
   "source": [
    "3/(9+3)"
   ]
  },
  {
   "cell_type": "markdown",
   "id": "8e9155f2-b80d-4d86-9412-42e4e277a62e",
   "metadata": {},
   "source": [
    "Meilleur score, mais peu d'éléments choisis."
   ]
  },
  {
   "cell_type": "markdown",
   "id": "a57ff2b6",
   "metadata": {},
   "source": [
    "## Références"
   ]
  },
  {
   "cell_type": "markdown",
   "id": "655c445a-bd20-49b9-bddb-70b58f1370f2",
   "metadata": {},
   "source": [
    "[Introduction to Statistical Learning with applications in Python: Logistic Regression, LDA, QDA, and KNN](https://islp.readthedocs.io/en/latest/labs/Ch04-classification-lab.html)"
   ]
  },
  {
   "cell_type": "markdown",
   "id": "33fc47b9-f8a8-44b8-aed2-b57112149d86",
   "metadata": {},
   "source": [
    "# Arbres de décision \n",
    "\n",
    "decision trees"
   ]
  },
  {
   "cell_type": "markdown",
   "id": "97a6efa2-bd44-4f72-9623-ff81f24b3398",
   "metadata": {},
   "source": [
    "## Création du jeu de données exemple\n",
    "\n",
    "La vidéo dont est inspiré l'exemple: [Lecture 10 - Decision Trees and Ensemble Methods | Stanford CS229: Machine Learning (Autumn 2018)](https://www.youtube.com/watch?v=wr9gUr-eWdA&list=PLoROMvodv4rMiGQp3WXShtMGgzqpfVfbU&index=11)\n",
    "\n",
    "toy dataset: **y a-t-il de la neige pour aller skier?**\n",
    "\n",
    "On définit un jeu de données simplifiées de zones propices au ski en fonction de la lattitude et du jour de l'année\n",
    "\n",
    "Les conditions pour avoir de la neige sont définies comme suit:\n",
    "\n",
    "hiver austral:\n",
    "- latitude < -45\n",
    "- mois juillet, août, septembre $\\iff jour \\in [[180, 270]]$\n",
    "\n",
    "hiver boréal:\n",
    "- latitude > 45\n",
    "- mois novembre, décembre, janvier, février, mars, avril $\\iff jour \\in [[305, 365]] ou [[0, 120]]]$\n",
    "\n",
    "Les points propices seront classés dans la classe `Vrai / Bleu`, les autres dans la classe `Faux / Rouge`."
   ]
  },
  {
   "cell_type": "code",
   "execution_count": 139,
   "id": "2adc72d0-e1b4-4f62-8519-89aa49a0b42b",
   "metadata": {},
   "outputs": [],
   "source": [
    "pôle_nord = 90\n",
    "pôle_sud = -90"
   ]
  },
  {
   "cell_type": "code",
   "execution_count": 140,
   "id": "39e0450a-9628-4382-805c-b099cca9f831",
   "metadata": {},
   "outputs": [],
   "source": [
    "from collections import namedtuple\n",
    "\n",
    "Point = namedtuple('Point', 'jour latitude')"
   ]
  },
  {
   "cell_type": "code",
   "execution_count": 141,
   "id": "df6dc6f0-f4f6-4094-ad5f-9e210da274b2",
   "metadata": {},
   "outputs": [],
   "source": [
    "import random\n",
    "random.seed(42)\n",
    "points = [Point(random.randint(0,364),random.randint(pôle_sud, pôle_nord)) \\\n",
    "          for _ in range(100)]"
   ]
  },
  {
   "cell_type": "code",
   "execution_count": 142,
   "id": "b5df1657-d62d-492d-95f2-3c17bcdffc60",
   "metadata": {},
   "outputs": [
    {
     "data": {
      "text/plain": [
       "[Point(jour=327, latitude=-62),\n",
       " Point(jour=12, latitude=-20),\n",
       " Point(jour=125, latitude=-33),\n",
       " Point(jour=71, latitude=-64),\n",
       " Point(jour=346, latitude=49)]"
      ]
     },
     "execution_count": 142,
     "metadata": {},
     "output_type": "execute_result"
    }
   ],
   "source": [
    "points[:5]"
   ]
  },
  {
   "cell_type": "markdown",
   "id": "f2becb1f-554e-47f2-811d-1a9bc4f91a45",
   "metadata": {},
   "source": [
    "Equivalent à:\n",
    "```python\n",
    "import random\n",
    "random.seed(42)\n",
    "points = []\n",
    "for _ in range(100):\n",
    "    x = random.randint(0,364)\n",
    "    y = random.randint(pôle_sud, pôle_nord)\n",
    "    points.append(Point(x, y))\n",
    "```"
   ]
  },
  {
   "cell_type": "code",
   "execution_count": 143,
   "id": "e8797f74-97ab-4e57-a525-30d69816ca8d",
   "metadata": {},
   "outputs": [
    {
     "data": {
      "image/png": "[encoded data removed]",
      "text/plain": [
       "<Figure size 640x480 with 1 Axes>"
      ]
     },
     "metadata": {},
     "output_type": "display_data"
    }
   ],
   "source": [
    "import matplotlib.pyplot as plt\n",
    "import numpy as np\n",
    "\n",
    "abscisses = [point.jour for point in points]\n",
    "ordonnées = [point.latitude for point in points]\n",
    "\n",
    "fig, ax = plt.subplots()\n",
    "\n",
    "ax.set_title('Points considérés')\n",
    "ax.scatter(abscisses, ordonnées, alpha=0.5)\n",
    "\n",
    "ax.set_xlabel('jour')\n",
    "ax.set_ylabel('latitude')\n",
    "\n",
    "plt.ylim(-95, 95)\n",
    "plt.show()"
   ]
  },
  {
   "cell_type": "markdown",
   "id": "926a95f7-4f6e-4249-9c1c-43f5d53f79c7",
   "metadata": {},
   "source": [
    "hiver austral:\n",
    "- latitude < -45\n",
    "- mois juillet, août, septembre $\\iff jour \\in [[180, 270]]$\n",
    "\n",
    "hiver boréal:\n",
    "- latitude > 45\n",
    "- mois novembre, décembre, janvier, février, mars, avril $\\iff jour \\in [[305, 365]] ou [[0, 120]]]$"
   ]
  },
  {
   "cell_type": "code",
   "execution_count": 144,
   "id": "a244e4b4-4bef-4403-8f86-a8ce4287a6d1",
   "metadata": {},
   "outputs": [
    {
     "data": {
      "text/plain": [
       "[False, False, False, False, True]"
      ]
     },
     "execution_count": 144,
     "metadata": {},
     "output_type": "execute_result"
    }
   ],
   "source": [
    "y = []\n",
    "for point in points:\n",
    "    if point.latitude<-45 and 180<=point.jour<=270:\n",
    "        y.append(True)\n",
    "    elif point.latitude>45 and (0<=point.jour<=120 or 305<=point.jour<=365):\n",
    "        y.append(True)\n",
    "    else:\n",
    "        y.append(False)\n",
    "\n",
    "y[:5]"
   ]
  },
  {
   "cell_type": "code",
   "execution_count": 145,
   "id": "b26069cf-b213-4c2f-86a9-3cc62d0c75f3",
   "metadata": {},
   "outputs": [
    {
     "data": {
      "text/plain": [
       "[Point(jour=327, latitude=-62),\n",
       " Point(jour=12, latitude=-20),\n",
       " Point(jour=125, latitude=-33),\n",
       " Point(jour=71, latitude=-64),\n",
       " Point(jour=346, latitude=49)]"
      ]
     },
     "execution_count": 145,
     "metadata": {},
     "output_type": "execute_result"
    }
   ],
   "source": [
    "points[:5]"
   ]
  },
  {
   "cell_type": "code",
   "execution_count": 146,
   "id": "58eab8db-1a9e-4057-8b71-280cc037f91e",
   "metadata": {},
   "outputs": [],
   "source": [
    "# 1 = bleu\n",
    "# 0 = rouge\n",
    "couleurs = list(map(lambda y_i: 'blue' if y_i else 'red', y))"
   ]
  },
  {
   "cell_type": "code",
   "execution_count": 147,
   "id": "e06f37ae-dd1c-4046-a5e2-e0b8def8dfa4",
   "metadata": {},
   "outputs": [
    {
     "data": {
      "text/plain": [
       "['red', 'red', 'red', 'red', 'blue']"
      ]
     },
     "execution_count": 147,
     "metadata": {},
     "output_type": "execute_result"
    }
   ],
   "source": [
    "couleurs[:5]"
   ]
  },
  {
   "cell_type": "code",
   "execution_count": 148,
   "id": "5077b5f1-725a-42d1-8855-e2f552965a8d",
   "metadata": {},
   "outputs": [
    {
     "data": {
      "image/png": "[encoded data removed]",
      "text/plain": [
       "<Figure size 640x480 with 1 Axes>"
      ]
     },
     "metadata": {},
     "output_type": "display_data"
    }
   ],
   "source": [
    "fig, ax = plt.subplots()\n",
    "\n",
    "ax.set_title('Classification')\n",
    "ax.scatter(abscisses, ordonnées, c=couleurs, alpha=0.5)\n",
    "\n",
    "ax.set_xlabel('jour')\n",
    "ax.set_ylabel('latitude')\n",
    "\n",
    "plt.ylim(-95, 95)\n",
    "plt.show()"
   ]
  },
  {
   "cell_type": "markdown",
   "id": "3ab26922-71ec-469c-8866-faa7104f0acc",
   "metadata": {},
   "source": [
    "## Représentation graphique des premières séparations\n",
    "\n",
    "Critère de choix des séparations: avoir le plus de chance d'avoir des points bleus.\n"
   ]
  },
  {
   "cell_type": "markdown",
   "id": "571b4030-638e-4403-9fe4-4e25e2b945dc",
   "metadata": {},
   "source": [
    "### Région condidérée: ensemble des points"
   ]
  },
  {
   "cell_type": "code",
   "execution_count": 149,
   "id": "b7d91295-7874-4a01-9b27-f0fa7321b6b6",
   "metadata": {},
   "outputs": [
    {
     "data": {
      "image/png": "[encoded data removed]",
      "text/plain": [
       "<Figure size 640x480 with 1 Axes>"
      ]
     },
     "metadata": {},
     "output_type": "display_data"
    }
   ],
   "source": [
    "# Premier choix de séparation pour avoir le plus de chance d'avoir des points bleus\n",
    "# latitude > 45\n",
    "fig, ax = plt.subplots()\n",
    "\n",
    "ax.set_title('Région R en R1 et R2')\n",
    "ax.scatter(abscisses, ordonnées, c=couleurs, alpha=0.5)\n",
    "ax.axhline(y=45, color='g', alpha=0.5)\n",
    "\n",
    "ax.set_xlabel('jour')\n",
    "ax.set_ylabel('latitude')\n",
    "\n",
    "plt.ylim(-95, 95)\n",
    "plt.show()"
   ]
  },
  {
   "cell_type": "markdown",
   "id": "5a232f08-1809-4007-94c4-0d84c48571e7",
   "metadata": {},
   "source": [
    "### Région R1 classée en bleu"
   ]
  },
  {
   "cell_type": "code",
   "execution_count": 150,
   "id": "181278df-cf3e-4b6f-9b80-9d0c8b26daa6",
   "metadata": {},
   "outputs": [
    {
     "data": {
      "text/html": [
       "<div>\n",
       "<style scoped>\n",
       "    .dataframe tbody tr th:only-of-type {\n",
       "        vertical-align: middle;\n",
       "    }\n",
       "\n",
       "    .dataframe tbody tr th {\n",
       "        vertical-align: top;\n",
       "    }\n",
       "\n",
       "    .dataframe thead th {\n",
       "        text-align: right;\n",
       "    }\n",
       "</style>\n",
       "<table border=\"1\" class=\"dataframe\">\n",
       "  <thead>\n",
       "    <tr style=\"text-align: right;\">\n",
       "      <th></th>\n",
       "      <th>x_1</th>\n",
       "      <th>x_2</th>\n",
       "      <th>y</th>\n",
       "      <th>color</th>\n",
       "    </tr>\n",
       "  </thead>\n",
       "  <tbody>\n",
       "    <tr>\n",
       "      <th>0</th>\n",
       "      <td>327</td>\n",
       "      <td>-62</td>\n",
       "      <td>False</td>\n",
       "      <td>red</td>\n",
       "    </tr>\n",
       "    <tr>\n",
       "      <th>1</th>\n",
       "      <td>12</td>\n",
       "      <td>-20</td>\n",
       "      <td>False</td>\n",
       "      <td>red</td>\n",
       "    </tr>\n",
       "    <tr>\n",
       "      <th>2</th>\n",
       "      <td>125</td>\n",
       "      <td>-33</td>\n",
       "      <td>False</td>\n",
       "      <td>red</td>\n",
       "    </tr>\n",
       "    <tr>\n",
       "      <th>3</th>\n",
       "      <td>71</td>\n",
       "      <td>-64</td>\n",
       "      <td>False</td>\n",
       "      <td>red</td>\n",
       "    </tr>\n",
       "    <tr>\n",
       "      <th>4</th>\n",
       "      <td>346</td>\n",
       "      <td>49</td>\n",
       "      <td>True</td>\n",
       "      <td>blue</td>\n",
       "    </tr>\n",
       "  </tbody>\n",
       "</table>\n",
       "</div>"
      ],
      "text/plain": [
       "   x_1  x_2      y color\n",
       "0  327  -62  False   red\n",
       "1   12  -20  False   red\n",
       "2  125  -33  False   red\n",
       "3   71  -64  False   red\n",
       "4  346   49   True  blue"
      ]
     },
     "execution_count": 150,
     "metadata": {},
     "output_type": "execute_result"
    }
   ],
   "source": [
    "import pandas as pd\n",
    "\n",
    "df = pd.DataFrame({'x_1' : [point.jour for point in points],\n",
    "                   'x_2' : [point.latitude for point in points],\n",
    "                   'y': y,\n",
    "                   'color': couleurs\n",
    "                 })\n",
    "df.head()"
   ]
  },
  {
   "cell_type": "markdown",
   "id": "77b91070-0f9b-489f-a270-60bb8de3e636",
   "metadata": {},
   "source": [
    "[Sélection de lignes en fonction d'une valeur sur une colonne](https://pandas.pydata.org/docs/getting_started/intro_tutorials/03_subset_data.html)"
   ]
  },
  {
   "cell_type": "code",
   "execution_count": 151,
   "id": "8d4a5e7f-209d-474c-b2ef-5e69dba2ea6a",
   "metadata": {},
   "outputs": [
    {
     "data": {
      "text/html": [
       "<div>\n",
       "<style scoped>\n",
       "    .dataframe tbody tr th:only-of-type {\n",
       "        vertical-align: middle;\n",
       "    }\n",
       "\n",
       "    .dataframe tbody tr th {\n",
       "        vertical-align: top;\n",
       "    }\n",
       "\n",
       "    .dataframe thead th {\n",
       "        text-align: right;\n",
       "    }\n",
       "</style>\n",
       "<table border=\"1\" class=\"dataframe\">\n",
       "  <thead>\n",
       "    <tr style=\"text-align: right;\">\n",
       "      <th></th>\n",
       "      <th>x_1</th>\n",
       "      <th>x_2</th>\n",
       "      <th>y</th>\n",
       "      <th>color</th>\n",
       "    </tr>\n",
       "  </thead>\n",
       "  <tbody>\n",
       "    <tr>\n",
       "      <th>4</th>\n",
       "      <td>346</td>\n",
       "      <td>49</td>\n",
       "      <td>True</td>\n",
       "      <td>blue</td>\n",
       "    </tr>\n",
       "    <tr>\n",
       "      <th>5</th>\n",
       "      <td>44</td>\n",
       "      <td>61</td>\n",
       "      <td>True</td>\n",
       "      <td>blue</td>\n",
       "    </tr>\n",
       "    <tr>\n",
       "      <th>9</th>\n",
       "      <td>258</td>\n",
       "      <td>64</td>\n",
       "      <td>False</td>\n",
       "      <td>red</td>\n",
       "    </tr>\n",
       "    <tr>\n",
       "      <th>10</th>\n",
       "      <td>13</td>\n",
       "      <td>53</td>\n",
       "      <td>True</td>\n",
       "      <td>blue</td>\n",
       "    </tr>\n",
       "    <tr>\n",
       "      <th>11</th>\n",
       "      <td>101</td>\n",
       "      <td>76</td>\n",
       "      <td>True</td>\n",
       "      <td>blue</td>\n",
       "    </tr>\n",
       "  </tbody>\n",
       "</table>\n",
       "</div>"
      ],
      "text/plain": [
       "    x_1  x_2      y color\n",
       "4   346   49   True  blue\n",
       "5    44   61   True  blue\n",
       "9   258   64  False   red\n",
       "10   13   53   True  blue\n",
       "11  101   76   True  blue"
      ]
     },
     "execution_count": 151,
     "metadata": {},
     "output_type": "execute_result"
    }
   ],
   "source": [
    "df_R1= df[df.x_2 > 45].copy()\n",
    "df_R1.head()"
   ]
  },
  {
   "cell_type": "code",
   "execution_count": 152,
   "id": "3cdbfe3f-4a91-476b-aaa1-6a4c009cd7c5",
   "metadata": {},
   "outputs": [
    {
     "data": {
      "image/png": "[encoded data removed]",
      "text/plain": [
       "<Figure size 640x480 with 1 Axes>"
      ]
     },
     "metadata": {},
     "output_type": "display_data"
    }
   ],
   "source": [
    "# Région R1 classée en bleu\n",
    "\n",
    "fig, ax = plt.subplots()\n",
    "\n",
    "ax.set_title('Région R1 classée en bleu')\n",
    "ax.scatter(df_R1.x_1, df_R1.x_2, c=df_R1.color, alpha=0.5)\n",
    "ax.axhline(y=45, color='g', alpha=0.5)\n",
    "ax.fill_between(x=[-0,365], y1=45, y2=90, color='blue', alpha=.25)\n",
    "ax.set_xlabel('jour')\n",
    "ax.set_ylabel('latitude')\n",
    "plt.ylim(-95, 95)\n",
    "plt.show()"
   ]
  },
  {
   "cell_type": "markdown",
   "id": "52a4aa14-5fdb-49d2-ada0-bbdcb640bbc2",
   "metadata": {},
   "source": [
    "### Région R2 classée en rouge"
   ]
  },
  {
   "cell_type": "code",
   "execution_count": 153,
   "id": "05d03ceb-81e4-42a2-8cd3-eabddcd0d921",
   "metadata": {},
   "outputs": [
    {
     "data": {
      "image/png": "[encoded data removed]",
      "text/plain": [
       "<Figure size 640x480 with 1 Axes>"
      ]
     },
     "metadata": {},
     "output_type": "display_data"
    }
   ],
   "source": [
    "# Région R2 classée en rouge\n",
    "\n",
    "df_R2= df[df.x_2 <= 45]\n",
    "fig, ax = plt.subplots()\n",
    "\n",
    "ax.set_title('Région R2 classée en rouge')\n",
    "ax.scatter(df_R2.x_1, df_R2.x_2, c=df_R2.color, alpha=0.5)\n",
    "ax.axhline(y=45, color='g', alpha=0.5)\n",
    "ax.fill_between(x=[-0,365], y1=-90, y2=45, color='red', alpha=.25)\n",
    "ax.set_xlabel('jour')\n",
    "ax.set_ylabel('latitude')\n",
    "plt.ylim(-95, 95)\n",
    "plt.show()"
   ]
  },
  {
   "cell_type": "markdown",
   "id": "a1f76756-4a79-4e7c-b716-be17b8035b40",
   "metadata": {},
   "source": [
    "### Arbre de hauteur 1\n",
    "\n",
    "Algorithme d'un arbre de décision d'une hauteur de 1"
   ]
  },
  {
   "cell_type": "code",
   "execution_count": 154,
   "id": "b0d3a3b1-267e-433d-978c-deefa8a6a185",
   "metadata": {},
   "outputs": [],
   "source": [
    "# Arbre avec une hauteur = 1\n",
    "def classification_h1(point):\n",
    "    if point.latitude > 45:\n",
    "        return True\n",
    "    else:\n",
    "        return False"
   ]
  },
  {
   "cell_type": "markdown",
   "id": "05dab3f8-c949-46b4-8629-0a0d537c8842",
   "metadata": {},
   "source": [
    "Ecriture équivalente:\n",
    "```python\n",
    "def classification_h1(point):\n",
    "    return point.latitude > 45\n",
    "```"
   ]
  },
  {
   "cell_type": "code",
   "execution_count": 155,
   "id": "5cc3837b-accc-4bc1-b99b-e4aba1fa7e39",
   "metadata": {},
   "outputs": [
    {
     "data": {
      "text/plain": [
       "True"
      ]
     },
     "execution_count": 155,
     "metadata": {},
     "output_type": "execute_result"
    }
   ],
   "source": [
    "# R1\n",
    "classification_h1(Point(150, 75))"
   ]
  },
  {
   "cell_type": "code",
   "execution_count": 156,
   "id": "97b8dc16-9a73-415c-a2c1-fe18f0bcde9e",
   "metadata": {},
   "outputs": [
    {
     "data": {
      "text/plain": [
       "0.36"
      ]
     },
     "execution_count": 156,
     "metadata": {},
     "output_type": "execute_result"
    }
   ],
   "source": [
    "# Taux d'erreur dans R1 (point.latitude > 45) zone classée en bleu\n",
    "9/(10+9+6)"
   ]
  },
  {
   "cell_type": "code",
   "execution_count": 157,
   "id": "ac38ae14-6c5a-4528-a114-13bc4cfa2cea",
   "metadata": {},
   "outputs": [
    {
     "data": {
      "text/plain": [
       "0.36"
      ]
     },
     "execution_count": 157,
     "metadata": {},
     "output_type": "execute_result"
    }
   ],
   "source": [
    "df_R1.loc[df.y == False].shape[0]/df_R1.shape[0]"
   ]
  },
  {
   "cell_type": "code",
   "execution_count": 158,
   "id": "d143f79b-9841-4c0e-af32-a379ace146f7",
   "metadata": {},
   "outputs": [
    {
     "data": {
      "text/plain": [
       "False"
      ]
     },
     "execution_count": 158,
     "metadata": {},
     "output_type": "execute_result"
    }
   ],
   "source": [
    "# R2\n",
    "classification_h1(Point(150, -75))"
   ]
  },
  {
   "cell_type": "code",
   "execution_count": 159,
   "id": "d5079675-036b-4cec-b3f9-2181ca5323c8",
   "metadata": {},
   "outputs": [
    {
     "data": {
      "text/plain": [
       "0.08"
      ]
     },
     "execution_count": 159,
     "metadata": {},
     "output_type": "execute_result"
    }
   ],
   "source": [
    "# Taux d'erreur dans R2 (point.latitude <= 45) zone classée en rouge\n",
    "df_R2.loc[df.y == True].shape[0]/df_R2.shape[0]"
   ]
  },
  {
   "cell_type": "code",
   "execution_count": 160,
   "id": "1f8665fc-56d9-4782-8666-e053b539840f",
   "metadata": {},
   "outputs": [
    {
     "data": {
      "text/plain": [
       "0.15"
      ]
     },
     "execution_count": 160,
     "metadata": {},
     "output_type": "execute_result"
    }
   ],
   "source": [
    "# Taux d'erreur sur l'ensemble du jeu de données\n",
    "sum([classification_h1(point) != y[i] for i, point in enumerate(points)])/len(y)"
   ]
  },
  {
   "cell_type": "markdown",
   "id": "9abba119-0e48-4ca0-9899-8cf8cdedf757",
   "metadata": {},
   "source": [
    "### Arbre de hauteur 2\n",
    "\n",
    "\n",
    "Algorithme d'un arbre de décision d'une hauteur de 2\n",
    "\n",
    "On travaille de manière récursive sur chacune des régions R1 et R2 définies"
   ]
  },
  {
   "cell_type": "code",
   "execution_count": 161,
   "id": "518a4b56-f8a3-481c-b853-2d2380e6606d",
   "metadata": {},
   "outputs": [
    {
     "data": {
      "image/png": "[encoded data removed]",
      "text/plain": [
       "<Figure size 640x480 with 1 Axes>"
      ]
     },
     "metadata": {},
     "output_type": "display_data"
    }
   ],
   "source": [
    "# Second choix de séparation pour avoir le plus de chance d'avoir des points bleus\n",
    "# jour < 120\n",
    "\n",
    "fig, ax = plt.subplots()\n",
    "\n",
    "ax.set_title('Région R1')\n",
    "ax.scatter(df_R1.x_1, df_R1.x_2, c=df_R1.color, alpha=0.5)\n",
    "ax.axhline(y=45, color='g', alpha=0.5)\n",
    "ax.axvline(x=120, color='y', alpha=0.5)\n",
    "ax.set_xlabel('jour')\n",
    "ax.set_ylabel('latitude')\n",
    "plt.ylim(-95, 95)\n",
    "plt.show()"
   ]
  },
  {
   "cell_type": "code",
   "execution_count": 162,
   "id": "316ee3f3-bf1a-40e0-8e7b-9289d6fa44b1",
   "metadata": {},
   "outputs": [
    {
     "data": {
      "image/png": "[encoded data removed]",
      "text/plain": [
       "<Figure size 640x480 with 1 Axes>"
      ]
     },
     "metadata": {},
     "output_type": "display_data"
    }
   ],
   "source": [
    "# Second choix de séparation pour avoir le plus de chance d'avoir des points bleus\n",
    "# jour < 120\n",
    "\n",
    "fig, ax = plt.subplots()\n",
    "\n",
    "y1 = [45, 90]\n",
    "\n",
    "ax.fill_betweenx(y1, 0, 120, facecolor='blue', alpha=0.25)\n",
    "ax.fill_betweenx(y1, 120, 365, facecolor='red', alpha=0.25)\n",
    "\n",
    "ax.set_title('Segmentation de la région R1')\n",
    "ax.scatter(df_R1.x_1, df_R1.x_2, c=df_R1.color, alpha=0.5)\n",
    "ax.axhline(y=45, color='g', alpha=0.5)\n",
    "ax.axvline(x=120, color='y', alpha=0.5)\n",
    "plt.ylim(-95, 95)\n",
    "plt.show()"
   ]
  },
  {
   "cell_type": "code",
   "execution_count": 163,
   "id": "f4151f1c-9851-4b39-9e52-62e40b7f92d8",
   "metadata": {},
   "outputs": [
    {
     "data": {
      "image/png": "[encoded data removed]",
      "text/plain": [
       "<Figure size 640x480 with 1 Axes>"
      ]
     },
     "metadata": {},
     "output_type": "display_data"
    }
   ],
   "source": [
    "df_R2= df[df.x_2 <= 45]\n",
    "fig, ax = plt.subplots()\n",
    "\n",
    "ax.set_title('Région R2')\n",
    "ax.scatter(df_R2.x_1, df_R2.x_2, c=df_R2.color, alpha=0.5)\n",
    "ax.axhline(y=45, color='g', alpha=0.5)\n",
    "ax.axhline(y=-45, color='y', alpha=0.5)\n",
    "ax.set_xlabel('jour')\n",
    "ax.set_ylabel('latitude')\n",
    "plt.ylim(-95, 95)\n",
    "plt.show()"
   ]
  },
  {
   "cell_type": "code",
   "execution_count": 164,
   "id": "9e84c123-6ba2-4104-b2ee-b42b8f0dfb09",
   "metadata": {},
   "outputs": [
    {
     "data": {
      "image/png": "[encoded data removed]",
      "text/plain": [
       "<Figure size 640x480 with 1 Axes>"
      ]
     },
     "metadata": {},
     "output_type": "display_data"
    }
   ],
   "source": [
    "df_R2= df[df.x_2 <= 45]\n",
    "fig, ax = plt.subplots()\n",
    "\n",
    "ax.fill_between(x=[0,365], y1=-90, y2=-45, color='blue', alpha=.25)\n",
    "ax.fill_between(x=[0,365], y1=-45, y2=45, color='red', alpha=.25)\n",
    "\n",
    "ax.set_title('Segmentation de la région R2')\n",
    "ax.scatter(df_R2.x_1, df_R2.x_2, c=df_R2.color, alpha=0.5)\n",
    "ax.axhline(y=45, color='g', alpha=0.5)\n",
    "ax.axhline(y=-45, color='y', alpha=0.5)\n",
    "\n",
    "ax.set_xlabel('jour')\n",
    "ax.set_ylabel('latitude')\n",
    "plt.ylim(-95, 95)\n",
    "plt.show()\n"
   ]
  },
  {
   "cell_type": "code",
   "execution_count": 165,
   "id": "a530ac5d-287c-4a31-b060-7d12dd8d368b",
   "metadata": {},
   "outputs": [],
   "source": [
    "# Arbre avec une hauteur = 2\n",
    "def classification_h2(point):\n",
    "    if point.latitude > 45:\n",
    "        if point.jour < 120:\n",
    "            return True\n",
    "        else:\n",
    "            return False\n",
    "    else:  # point.latitude <= 45\n",
    "        if point.latitude < -45:\n",
    "            return True\n",
    "        else:\n",
    "            return False"
   ]
  },
  {
   "cell_type": "code",
   "execution_count": 166,
   "id": "3cc564a3-ae41-4dba-8912-e34ddac316b0",
   "metadata": {},
   "outputs": [],
   "source": [
    "# Arbre avec une hauteur = 2\n",
    "def classification_h2(point):\n",
    "    if point.latitude > 45:\n",
    "        return point.jour < 120\n",
    "    else:  # point.latitude <= 45\n",
    "        return point.latitude < -45"
   ]
  },
  {
   "cell_type": "code",
   "execution_count": 167,
   "id": "698934ad-ad54-40b8-b42d-d1b4381c7034",
   "metadata": {},
   "outputs": [
    {
     "data": {
      "text/plain": [
       "True"
      ]
     },
     "execution_count": 167,
     "metadata": {},
     "output_type": "execute_result"
    }
   ],
   "source": [
    "classification_h2(Point(150, -75))"
   ]
  },
  {
   "cell_type": "code",
   "execution_count": 168,
   "id": "fbb1b2e0-4b26-4588-91b6-9bc0a6b3c113",
   "metadata": {},
   "outputs": [],
   "source": [
    "# Taux d'erreur sur l'ensemble du jeu de données"
   ]
  },
  {
   "cell_type": "code",
   "execution_count": 169,
   "id": "7c146a0d-2e2d-4a68-a000-cdec62bccee2",
   "metadata": {},
   "outputs": [
    {
     "data": {
      "text/plain": [
       "0.28"
      ]
     },
     "execution_count": 169,
     "metadata": {},
     "output_type": "execute_result"
    }
   ],
   "source": [
    "sum([classification_h2(point) != y[i] for i, point in enumerate(points)])/len(y)"
   ]
  },
  {
   "cell_type": "markdown",
   "id": "cdf3f0c9-8094-4db8-9b61-d9b262d684f2",
   "metadata": {},
   "source": [
    "## Classification avec scikit learn"
   ]
  },
  {
   "cell_type": "markdown",
   "id": "f09b1565-5b53-4e92-95e3-ff12247398f2",
   "metadata": {},
   "source": [
    "[Classifieur par arbre de décision](https://scikit-learn.org/stable/modules/generated/sklearn.tree.DecisionTreeClassifier.html)\n",
    "\n",
    "[Visualize a Decision Tree](https://mljar.com/blog/visualize-decision-tree/)"
   ]
  },
  {
   "cell_type": "code",
   "execution_count": 170,
   "id": "1f9c5fac-1d13-4359-b250-b64a7c98ccc1",
   "metadata": {},
   "outputs": [],
   "source": [
    "from matplotlib import pyplot as plt\n",
    "from sklearn.tree import DecisionTreeClassifier \n",
    "from sklearn import tree\n",
    "# Fit the classifier with default hyper-parameters\n",
    "# clf = DecisionTreeClassifier(random_state=1234)\n",
    "clf = DecisionTreeClassifier(max_depth=2, random_state=1234)\n",
    "X = points\n",
    "model = clf.fit(X, y)"
   ]
  },
  {
   "cell_type": "code",
   "execution_count": 171,
   "id": "b557c794-c7a5-47f1-91ce-4b4774767985",
   "metadata": {},
   "outputs": [
    {
     "name": "stdout",
     "output_type": "stream",
     "text": [
      "|--- feature_1 <= 42.50\n",
      "|   |--- feature_1 <= -62.50\n",
      "|   |   |--- class: False\n",
      "|   |--- feature_1 >  -62.50\n",
      "|   |   |--- class: False\n",
      "|--- feature_1 >  42.50\n",
      "|   |--- feature_0 <= 121.00\n",
      "|   |   |--- class: True\n",
      "|   |--- feature_0 >  121.00\n",
      "|   |   |--- class: False\n",
      "\n"
     ]
    }
   ],
   "source": [
    "text_representation = tree.export_text(clf)\n",
    "print(text_representation)"
   ]
  },
  {
   "cell_type": "code",
   "execution_count": 172,
   "id": "aae7b7c9-395c-4ce6-907d-fa66d3e7450f",
   "metadata": {},
   "outputs": [
    {
     "data": {
      "image/png": "[encoded data removed]",
      "text/plain": [
       "<Figure size 640x480 with 1 Axes>"
      ]
     },
     "metadata": {},
     "output_type": "display_data"
    }
   ],
   "source": [
    "# arbre de hauteur max_depth=2\n",
    "\n",
    "fig = plt.figure()\n",
    "_ = tree.plot_tree(clf, \n",
    "                   feature_names=['jour', 'latitude'],  \n",
    "                   class_names=['pas de ski', 'ski'],\n",
    "                   filled=True)"
   ]
  },
  {
   "cell_type": "code",
   "execution_count": 173,
   "id": "4546832b-67c4-4189-bada-9ba781cb7dac",
   "metadata": {},
   "outputs": [
    {
     "data": {
      "image/png": "[encoded data removed]",
      "text/plain": [
       "<Figure size 1280x960 with 1 Axes>"
      ]
     },
     "metadata": {},
     "output_type": "display_data"
    }
   ],
   "source": [
    "# arbre de hauteur maximale max_depth=None\n",
    "\n",
    "clf = DecisionTreeClassifier(random_state=1234)\n",
    "X = points\n",
    "model = clf.fit(X, y)\n",
    "fig = plt.figure(figsize=(12.8,9.6))\n",
    "_ = tree.plot_tree(clf, \n",
    "                   feature_names=['jour', 'latitude'],  \n",
    "                   class_names=['pas de ski', 'ski'],\n",
    "                   filled=True)"
   ]
  },
  {
   "cell_type": "markdown",
   "id": "da1810bb-c68b-4d84-ae1e-e2ad695d5115",
   "metadata": {},
   "source": [
    "Est-ce qu'un nouveau point est bien classé par notre algo?"
   ]
  },
  {
   "cell_type": "markdown",
   "id": "b30961e3-604d-4dab-a438-76991b6c6968",
   "metadata": {},
   "source": [
    "# Application des arbres de décision à un vrai jeu de données\n",
    "\n",
    "Peut-on prédire si un client va acheter une assurance ou pas?\n",
    "\n",
    "[dataset Caravan](https://islp.readthedocs.io/en/latest/datasets/Caravan.html)\n"
   ]
  },
  {
   "cell_type": "markdown",
   "id": "043b4aa9-e6d8-4b3b-a134-188dcd7e75c3",
   "metadata": {},
   "source": [
    "Nous allons utiliser un [Classifieur par arbre de décision](https://scikit-learn.org/stable/modules/generated/sklearn.tree.DecisionTreeClassifier.html) et comparer les résultats avec kNN.\n",
    "\n",
    "Le but est d'avoir au final l'algorithme le plus performant pour répondre à notre problématique."
   ]
  },
  {
   "cell_type": "markdown",
   "id": "65783ca6-7372-4d53-94fc-176c8543eba7",
   "metadata": {},
   "source": [
    "## Classification de référence (baseline)"
   ]
  },
  {
   "cell_type": "code",
   "execution_count": 174,
   "id": "d680d4fe-1d38-46c0-bf4f-94e44196862d",
   "metadata": {},
   "outputs": [],
   "source": [
    "from ISLP import load_data\n",
    "from ISLP import confusion_table\n",
    "from sklearn.model_selection import train_test_split\n",
    "from sklearn.tree import DecisionTreeClassifier "
   ]
  },
  {
   "cell_type": "markdown",
   "id": "4aaf69a4-bd73-47b5-97f0-cfea79e843db",
   "metadata": {},
   "source": [
    "Utiliser un [Classifieur par arbre de décision](https://scikit-learn.org/stable/modules/generated/sklearn.tree.DecisionTreeClassifier.html) en laissant les paramètres par défaut de sklearn.\n",
    "\n",
    "Afficher la table de confusion pour l'évaluation du jeu de test."
   ]
  },
  {
   "cell_type": "code",
   "execution_count": 175,
   "id": "91b84745-0a3d-4f4a-a661-da88f69d7c5f",
   "metadata": {},
   "outputs": [
    {
     "data": {
      "text/html": [
       "<div>\n",
       "<style scoped>\n",
       "    .dataframe tbody tr th:only-of-type {\n",
       "        vertical-align: middle;\n",
       "    }\n",
       "\n",
       "    .dataframe tbody tr th {\n",
       "        vertical-align: top;\n",
       "    }\n",
       "\n",
       "    .dataframe thead th {\n",
       "        text-align: right;\n",
       "    }\n",
       "</style>\n",
       "<table border=\"1\" class=\"dataframe\">\n",
       "  <thead>\n",
       "    <tr style=\"text-align: right;\">\n",
       "      <th>Truth</th>\n",
       "      <th>0</th>\n",
       "      <th>1</th>\n",
       "    </tr>\n",
       "    <tr>\n",
       "      <th>Predicted</th>\n",
       "      <th></th>\n",
       "      <th></th>\n",
       "    </tr>\n",
       "  </thead>\n",
       "  <tbody>\n",
       "    <tr>\n",
       "      <th>0</th>\n",
       "      <td>1015</td>\n",
       "      <td>64</td>\n",
       "    </tr>\n",
       "    <tr>\n",
       "      <th>1</th>\n",
       "      <td>72</td>\n",
       "      <td>13</td>\n",
       "    </tr>\n",
       "  </tbody>\n",
       "</table>\n",
       "</div>"
      ],
      "text/plain": [
       "Truth         0   1\n",
       "Predicted          \n",
       "0          1015  64\n",
       "1            72  13"
      ]
     },
     "execution_count": 175,
     "metadata": {},
     "output_type": "execute_result"
    }
   ],
   "source": [
    "caravan = load_data('Caravan')\n",
    "\n",
    "y = caravan.Purchase.map(lambda x: 1 if x=='Yes' else 0)  # Pour les métriques de scikit learn\n",
    "X = caravan.drop(columns=['Purchase'])\n",
    "\n",
    "(X_train,\n",
    " X_test,\n",
    " y_train,\n",
    " y_test) = train_test_split(X,\n",
    "                            y,\n",
    "                            test_size=1164,\n",
    "                            random_state=0)\n",
    "\n",
    "\n",
    "\n",
    "classifier = DecisionTreeClassifier(random_state=42)\n",
    "classifier.fit(X_train, y_train)\n",
    "\n",
    "y_test_pred = classifier.predict(X_test)\n",
    "confusion_table(y_test_pred, y_test)\n"
   ]
  },
  {
   "cell_type": "markdown",
   "id": "6168b088-c8bb-4b28-be85-49170d5e06a3",
   "metadata": {},
   "source": [
    "Calculer le score de notre métrique: tp/(tp+fp)"
   ]
  },
  {
   "cell_type": "code",
   "execution_count": 176,
   "id": "9ff11d6c-908a-441d-a54b-322abf6d4428",
   "metadata": {},
   "outputs": [
    {
     "data": {
      "text/plain": [
       "0.15294117647058825"
      ]
     },
     "execution_count": 176,
     "metadata": {},
     "output_type": "execute_result"
    }
   ],
   "source": [
    "13/(13+72)"
   ]
  },
  {
   "cell_type": "markdown",
   "id": "72312b3a-d654-44f0-aa2c-4e443f007637",
   "metadata": {},
   "source": [
    "15,3%: pas encore mieux que knn où l'on atteignait 15,8%"
   ]
  },
  {
   "cell_type": "markdown",
   "id": "579b0cb5-001a-47f6-9894-e46203c97477",
   "metadata": {},
   "source": [
    "Quel est l'effet de la normalisation avant l'entraînement d'un arbre de décision?\n",
    "\n",
    "La normalisation n'est pas utile pour les arbres de décision"
   ]
  },
  {
   "cell_type": "markdown",
   "id": "707c0574-3930-4ec4-b599-e63bbbfacd76",
   "metadata": {},
   "source": [
    "Définition d'une fonction pour mesurer notre métrique:"
   ]
  },
  {
   "cell_type": "code",
   "execution_count": 177,
   "id": "c11c27cf-832d-430f-ba6f-ac16ab72a627",
   "metadata": {},
   "outputs": [
    {
     "data": {
      "text/plain": [
       "array([[1015,   72],\n",
       "       [  64,   13]])"
      ]
     },
     "execution_count": 177,
     "metadata": {},
     "output_type": "execute_result"
    }
   ],
   "source": [
    "from sklearn.metrics import confusion_matrix\n",
    "cm = confusion_matrix(y_test, y_test_pred)  # ! inversé par rapport à la fonction de ISLP\n",
    "cm # ! affichage transposé par rapport à celui de ISLP"
   ]
  },
  {
   "cell_type": "code",
   "execution_count": 178,
   "id": "d13ce52e-8554-4417-b2e1-3c78544a83ba",
   "metadata": {},
   "outputs": [
    {
     "data": {
      "text/plain": [
       "0.15294117647058825"
      ]
     },
     "execution_count": 178,
     "metadata": {},
     "output_type": "execute_result"
    }
   ],
   "source": [
    "fp = cm[0][1]\n",
    "tp = cm[1][1]\n",
    "\n",
    "tp/(tp+fp)"
   ]
  },
  {
   "cell_type": "markdown",
   "id": "ce74ed78-3d43-4726-b9bc-40a091a0daf0",
   "metadata": {},
   "source": [
    "Définition d'une fonction pour mesurer notre métrique:"
   ]
  },
  {
   "cell_type": "code",
   "execution_count": 179,
   "id": "7ceb9d3b-9adf-4484-a600-3437358a1b75",
   "metadata": {},
   "outputs": [],
   "source": [
    "from sklearn.metrics import confusion_matrix\n",
    "\n",
    "# La valeur prédictive positive : Positive predictive value (PPV), precision\n",
    "def metric(y_true, y_pred):\n",
    "    cm = confusion_matrix(y_true, y_pred)\n",
    "    fp = cm[0][1]\n",
    "    tp = cm[1][1]\n",
    "    \n",
    "    return tp/(tp+fp)"
   ]
  },
  {
   "cell_type": "code",
   "execution_count": 180,
   "id": "45917123-6410-4779-ae00-47712273b69b",
   "metadata": {},
   "outputs": [
    {
     "data": {
      "text/plain": [
       "0.15294117647058825"
      ]
     },
     "execution_count": 180,
     "metadata": {},
     "output_type": "execute_result"
    }
   ],
   "source": [
    "metric(y_test, y_test_pred)"
   ]
  },
  {
   "cell_type": "markdown",
   "id": "e6a11a5f-ee63-4ffe-a6c0-af0e65b1860e",
   "metadata": {},
   "source": [
    "Métrique classique appelée la valeur prédictive positive (en anglais: `Positive predictive value (PPV), precision`)"
   ]
  },
  {
   "cell_type": "code",
   "execution_count": 181,
   "id": "e2104a28-16a3-42c3-a05e-e82a68688835",
   "metadata": {},
   "outputs": [
    {
     "data": {
      "text/plain": [
       "0.15294117647058825"
      ]
     },
     "execution_count": 181,
     "metadata": {},
     "output_type": "execute_result"
    }
   ],
   "source": [
    "from sklearn.metrics import precision_score\n",
    "\n",
    "precision_score(y_test, y_test_pred)"
   ]
  },
  {
   "cell_type": "markdown",
   "id": "ca25e93a-1c70-4f3a-be04-3c84ab3d6a0b",
   "metadata": {},
   "source": [
    "## Exploration des hyperparamètres\n",
    "\n",
    "On peut ensuite faire une exploration des hyperparamètres pour essayer d'améliorer ce résultat.\n",
    "\n",
    "Paramètres de la fonction [DecisionTreeClassifier](https://scikit-learn.org/stable/modules/generated/sklearn.tree.DecisionTreeClassifier.html) de scikit-learn à explorer (a minima):\n",
    "- criterion\n",
    "- max_depth\n",
    "\n",
    "Quelle est la meilleur combinaison d'hyperparamètres?"
   ]
  },
  {
   "cell_type": "code",
   "execution_count": 182,
   "id": "ad191295-f9de-4c37-af22-3cefc1a5ea36",
   "metadata": {},
   "outputs": [
    {
     "data": {
      "text/plain": [
       "[(0.08, 'entropy', 10),\n",
       " (0.08, 'log_loss', 10),\n",
       " (0.15294117647058825, 'gini', None),\n",
       " (0.16216216216216217, 'entropy', None),\n",
       " (0.16216216216216217, 'log_loss', None),\n",
       " (0.1694915254237288, 'gini', 15),\n",
       " (0.17142857142857143, 'entropy', 20),\n",
       " (0.17142857142857143, 'log_loss', 20),\n",
       " (0.17307692307692307, 'entropy', 15),\n",
       " (0.17307692307692307, 'log_loss', 15),\n",
       " (0.17647058823529413, 'entropy', 5),\n",
       " (0.17647058823529413, 'log_loss', 5),\n",
       " (0.18181818181818182, 'gini', 20),\n",
       " (0.22727272727272727, 'gini', 10),\n",
       " (0.2857142857142857, 'gini', 5),\n",
       " (0.3333333333333333, 'entropy', 3),\n",
       " (0.3333333333333333, 'log_loss', 3),\n",
       " (0.375, 'gini', 3)]"
      ]
     },
     "execution_count": 182,
     "metadata": {},
     "output_type": "execute_result"
    }
   ],
   "source": [
    "criterions =['gini', 'entropy', 'log_loss']\n",
    "max_depths = [3, 5, 10, 15, 20, None]\n",
    "\n",
    "results = []\n",
    "for criterion in criterions:\n",
    "    for max_depth in max_depths:\n",
    "        classifier = DecisionTreeClassifier(criterion=criterion,\n",
    "                                            max_depth=max_depth,\n",
    "                                            random_state=42)\n",
    "        classifier.fit(X_train, y_train)\n",
    "        \n",
    "        y_test_pred = classifier.predict(X_test)\n",
    "        results.append((precision_score(y_test, y_test_pred), criterion, max_depth))\n",
    "\n",
    "sorted(results)"
   ]
  },
  {
   "cell_type": "code",
   "execution_count": 183,
   "id": "8bfd23f7-caae-41b3-a08b-a468b01827a2",
   "metadata": {},
   "outputs": [
    {
     "data": {
      "text/html": [
       "<div>\n",
       "<style scoped>\n",
       "    .dataframe tbody tr th:only-of-type {\n",
       "        vertical-align: middle;\n",
       "    }\n",
       "\n",
       "    .dataframe tbody tr th {\n",
       "        vertical-align: top;\n",
       "    }\n",
       "\n",
       "    .dataframe thead th {\n",
       "        text-align: right;\n",
       "    }\n",
       "</style>\n",
       "<table border=\"1\" class=\"dataframe\">\n",
       "  <thead>\n",
       "    <tr style=\"text-align: right;\">\n",
       "      <th>Truth</th>\n",
       "      <th>0</th>\n",
       "      <th>1</th>\n",
       "    </tr>\n",
       "    <tr>\n",
       "      <th>Predicted</th>\n",
       "      <th></th>\n",
       "      <th></th>\n",
       "    </tr>\n",
       "  </thead>\n",
       "  <tbody>\n",
       "    <tr>\n",
       "      <th>0</th>\n",
       "      <td>1085</td>\n",
       "      <td>76</td>\n",
       "    </tr>\n",
       "    <tr>\n",
       "      <th>1</th>\n",
       "      <td>2</td>\n",
       "      <td>1</td>\n",
       "    </tr>\n",
       "  </tbody>\n",
       "</table>\n",
       "</div>"
      ],
      "text/plain": [
       "Truth         0   1\n",
       "Predicted          \n",
       "0          1085  76\n",
       "1             2   1"
      ]
     },
     "execution_count": 183,
     "metadata": {},
     "output_type": "execute_result"
    }
   ],
   "source": [
    "classifier = DecisionTreeClassifier(criterion='entropy', max_depth=3, random_state=42)\n",
    "classifier.fit(X_train, y_train)\n",
    "\n",
    "y_test_pred = classifier.predict(X_test)\n",
    "confusion_table(y_test_pred, y_test)"
   ]
  },
  {
   "cell_type": "markdown",
   "id": "3b24b980-8948-45c0-9011-62110b945e8b",
   "metadata": {},
   "source": [
    "On a certes un bon score, mais très peu de valeurs sélectionnées. Pour réussir à vendre nos contrats d'assurance, c'est pas terrible.\n",
    "\n",
    "Si on veut que nos commerciaux aient un nombre suffisant de prospects à appeler il faudrait contraindre notre solution a choisir un algorithme qui renvoit un nombre suffisant de résultats prédits positifs.\n",
    "\n",
    "Disons au minium `19`, ce qu'on avait avec knn.\n",
    "\n",
    "Quelle est dans ce cas la meilleur combinaison d'hyperparamètres?"
   ]
  },
  {
   "cell_type": "code",
   "execution_count": 184,
   "id": "81a61247-0adc-4958-a46c-cf9dfdba979d",
   "metadata": {},
   "outputs": [
    {
     "data": {
      "text/plain": [
       "[(0.08, 'entropy', 10),\n",
       " (0.08, 'log_loss', 10),\n",
       " (0.15294117647058825, 'gini', None),\n",
       " (0.16216216216216217, 'entropy', None),\n",
       " (0.16216216216216217, 'log_loss', None),\n",
       " (0.1694915254237288, 'gini', 15),\n",
       " (0.17142857142857143, 'entropy', 20),\n",
       " (0.17142857142857143, 'log_loss', 20),\n",
       " (0.17307692307692307, 'entropy', 15),\n",
       " (0.17307692307692307, 'log_loss', 15),\n",
       " (0.18181818181818182, 'gini', 20),\n",
       " (0.22727272727272727, 'gini', 10)]"
      ]
     },
     "execution_count": 184,
     "metadata": {},
     "output_type": "execute_result"
    }
   ],
   "source": [
    "criterions =['gini', 'entropy', 'log_loss']\n",
    "max_depths = [3, 5, 10, 15, 20, None]\n",
    "\n",
    "results = []\n",
    "for criterion in criterions:\n",
    "    for max_depth in max_depths:\n",
    "        classifier = DecisionTreeClassifier(criterion=criterion,\n",
    "                                            max_depth=max_depth,\n",
    "                                            random_state=42)\n",
    "        classifier.fit(X_train, y_train)\n",
    "        \n",
    "        y_test_pred = classifier.predict(X_test)\n",
    "        if sum(y_test_pred) >= 19:\n",
    "            results.append((precision_score(y_test, y_test_pred), criterion, max_depth))\n",
    "\n",
    "sorted(results)"
   ]
  },
  {
   "cell_type": "markdown",
   "id": "ba6ec880-2edc-44d6-9c5f-8dd279e0133a",
   "metadata": {},
   "source": [
    "## Meilleur résultat"
   ]
  },
  {
   "cell_type": "code",
   "execution_count": 185,
   "id": "3c254230-8266-4718-b27b-61c5625822ab",
   "metadata": {},
   "outputs": [
    {
     "data": {
      "text/html": [
       "<div>\n",
       "<style scoped>\n",
       "    .dataframe tbody tr th:only-of-type {\n",
       "        vertical-align: middle;\n",
       "    }\n",
       "\n",
       "    .dataframe tbody tr th {\n",
       "        vertical-align: top;\n",
       "    }\n",
       "\n",
       "    .dataframe thead th {\n",
       "        text-align: right;\n",
       "    }\n",
       "</style>\n",
       "<table border=\"1\" class=\"dataframe\">\n",
       "  <thead>\n",
       "    <tr style=\"text-align: right;\">\n",
       "      <th>Truth</th>\n",
       "      <th>0</th>\n",
       "      <th>1</th>\n",
       "    </tr>\n",
       "    <tr>\n",
       "      <th>Predicted</th>\n",
       "      <th></th>\n",
       "      <th></th>\n",
       "    </tr>\n",
       "  </thead>\n",
       "  <tbody>\n",
       "    <tr>\n",
       "      <th>0</th>\n",
       "      <td>1053</td>\n",
       "      <td>67</td>\n",
       "    </tr>\n",
       "    <tr>\n",
       "      <th>1</th>\n",
       "      <td>34</td>\n",
       "      <td>10</td>\n",
       "    </tr>\n",
       "  </tbody>\n",
       "</table>\n",
       "</div>"
      ],
      "text/plain": [
       "Truth         0   1\n",
       "Predicted          \n",
       "0          1053  67\n",
       "1            34  10"
      ]
     },
     "execution_count": 185,
     "metadata": {},
     "output_type": "execute_result"
    }
   ],
   "source": [
    "classifier = DecisionTreeClassifier(criterion='gini', max_depth=10, random_state=42)\n",
    "classifier.fit(X_train, y_train)\n",
    "\n",
    "y_test_pred = classifier.predict(X_test)\n",
    "confusion_table(y_test_pred, y_test)"
   ]
  },
  {
   "cell_type": "code",
   "execution_count": 186,
   "id": "ac3b15de-3d9b-4b52-93d9-b7db76a17915",
   "metadata": {},
   "outputs": [
    {
     "data": {
      "text/plain": [
       "0.22727272727272727"
      ]
     },
     "execution_count": 186,
     "metadata": {},
     "output_type": "execute_result"
    }
   ],
   "source": [
    "precision_score(y_test, y_test_pred)"
   ]
  },
  {
   "cell_type": "markdown",
   "id": "bf758adc-042c-418b-b9de-f2ba5e3abcfc",
   "metadata": {},
   "source": [
    "## Affinons la solution"
   ]
  },
  {
   "cell_type": "markdown",
   "id": "03f0185e-de25-47db-9f6c-a9e65d5bb37f",
   "metadata": {},
   "source": [
    "Est-il possible d'améliorer le résultat obtenu?"
   ]
  },
  {
   "cell_type": "code",
   "execution_count": 187,
   "id": "fc2070a8-44f7-4603-bc99-542d2daf20b5",
   "metadata": {},
   "outputs": [
    {
     "data": {
      "text/plain": [
       "[(0.2222222222222222, 'gini', 11),\n",
       " (0.2222222222222222, 'gini', 14),\n",
       " (0.22448979591836735, 'gini', 12),\n",
       " (0.22727272727272727, 'gini', 10),\n",
       " (0.24528301886792453, 'gini', 13),\n",
       " (0.25, 'gini', 7),\n",
       " (0.25, 'gini', 9),\n",
       " (0.2727272727272727, 'gini', 8)]"
      ]
     },
     "execution_count": 187,
     "metadata": {},
     "output_type": "execute_result"
    }
   ],
   "source": [
    "criterion='gini'\n",
    "max_depths = list(range(7,15))\n",
    "\n",
    "results = []\n",
    "for max_depth in max_depths:\n",
    "    classifier = DecisionTreeClassifier(criterion=criterion,\n",
    "                                        max_depth=max_depth,\n",
    "                                        random_state=42)\n",
    "    classifier.fit(X_train, y_train)\n",
    "    \n",
    "    y_test_pred = classifier.predict(X_test)\n",
    "    if sum(y_test_pred) >= 19:\n",
    "        results.append((precision_score(y_test, y_test_pred), criterion, max_depth))\n",
    "\n",
    "sorted(results)"
   ]
  },
  {
   "cell_type": "code",
   "execution_count": 188,
   "id": "90c5ffda-1d78-4f8e-b114-59ebcc7e7c8b",
   "metadata": {},
   "outputs": [
    {
     "name": "stdout",
     "output_type": "stream",
     "text": [
      "valeur prédictive positive: 27 %\n"
     ]
    },
    {
     "data": {
      "text/html": [
       "<div>\n",
       "<style scoped>\n",
       "    .dataframe tbody tr th:only-of-type {\n",
       "        vertical-align: middle;\n",
       "    }\n",
       "\n",
       "    .dataframe tbody tr th {\n",
       "        vertical-align: top;\n",
       "    }\n",
       "\n",
       "    .dataframe thead th {\n",
       "        text-align: right;\n",
       "    }\n",
       "</style>\n",
       "<table border=\"1\" class=\"dataframe\">\n",
       "  <thead>\n",
       "    <tr style=\"text-align: right;\">\n",
       "      <th>Truth</th>\n",
       "      <th>0</th>\n",
       "      <th>1</th>\n",
       "    </tr>\n",
       "    <tr>\n",
       "      <th>Predicted</th>\n",
       "      <th></th>\n",
       "      <th></th>\n",
       "    </tr>\n",
       "  </thead>\n",
       "  <tbody>\n",
       "    <tr>\n",
       "      <th>0</th>\n",
       "      <td>1071</td>\n",
       "      <td>71</td>\n",
       "    </tr>\n",
       "    <tr>\n",
       "      <th>1</th>\n",
       "      <td>16</td>\n",
       "      <td>6</td>\n",
       "    </tr>\n",
       "  </tbody>\n",
       "</table>\n",
       "</div>"
      ],
      "text/plain": [
       "Truth         0   1\n",
       "Predicted          \n",
       "0          1071  71\n",
       "1            16   6"
      ]
     },
     "execution_count": 188,
     "metadata": {},
     "output_type": "execute_result"
    }
   ],
   "source": [
    "classifier = DecisionTreeClassifier(criterion='gini', max_depth=8, random_state=42)\n",
    "classifier.fit(X_train, y_train)\n",
    "\n",
    "y_test_pred = classifier.predict(X_test)\n",
    "print('valeur prédictive positive: {0:0.0f} %'.format(precision_score(y_test,\n",
    "                                                                      y_test_pred)*100))\n",
    "confusion_table(y_test_pred, y_test)"
   ]
  },
  {
   "cell_type": "code",
   "execution_count": null,
   "id": "8edd1355-d557-4d72-b84b-d1e249c53ee1",
   "metadata": {},
   "outputs": [],
   "source": []
  }
 ],
 "metadata": {
  "kernelspec": {
   "display_name": "ml",
   "language": "python",
   "name": "ml"
  },
  "language_info": {
   "codemirror_mode": {
    "name": "ipython",
    "version": 3
   },
   "file_extension": ".py",
   "mimetype": "text/x-python",
   "name": "python",
   "nbconvert_exporter": "python",
   "pygments_lexer": "ipython3",
   "version": "3.11.8"
  }
 },
 "nbformat": 4,
 "nbformat_minor": 5
}
