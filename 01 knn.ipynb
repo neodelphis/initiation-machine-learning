{
 "cells": [
  {
   "cell_type": "markdown",
   "id": "181869c4-5bbf-4753-a978-4eeffcb9a89c",
   "metadata": {},
   "source": [
    "# Algorithme des plus proches voisins\n",
    "\n",
    "knn : k nearest neighbors"
   ]
  },
  {
   "cell_type": "markdown",
   "id": "d1b74334-f556-4c14-9b63-bf39a763379d",
   "metadata": {},
   "source": [
    "## Génération de données d'exemple"
   ]
  },
  {
   "cell_type": "code",
   "execution_count": 1,
   "id": "8f4a6f58-64e3-4aab-982d-60df72386a97",
   "metadata": {},
   "outputs": [],
   "source": [
    "points_bleus = []\n",
    "points_rouges = []"
   ]
  },
  {
   "cell_type": "markdown",
   "id": "fcbabcf4-85c6-4503-be96-f7aa60cbfcbf",
   "metadata": {},
   "source": [
    "Dans un premier exemple les points au dessus de la diagonale sont bleus et ceux en dessous sont rouges."
   ]
  },
  {
   "cell_type": "markdown",
   "id": "eeb05a08-5733-45b7-9af8-708aa587bd11",
   "metadata": {},
   "source": [
    "[random — Generate pseudo-random numbers](https://docs.python.org/3/library/random.html)\n",
    "\n",
    "    random.randint(a, b)\n",
    "    Return a random integer N such that a <= N <= b. Alias for randrange(a, b+1).\n"
   ]
  },
  {
   "cell_type": "code",
   "execution_count": 2,
   "id": "3f0209ee-1754-4a3c-ac64-33d76c77474e",
   "metadata": {},
   "outputs": [
    {
     "data": {
      "text/plain": [
       "41"
      ]
     },
     "execution_count": 2,
     "metadata": {},
     "output_type": "execute_result"
    }
   ],
   "source": [
    "import random\n",
    "random.randint(0,100)"
   ]
  },
  {
   "cell_type": "code",
   "execution_count": 3,
   "id": "bf6aa587-4564-45ff-b8af-86d5e3eaee14",
   "metadata": {},
   "outputs": [],
   "source": [
    "random.seed(42)"
   ]
  },
  {
   "cell_type": "code",
   "execution_count": 4,
   "id": "dfe6fdff-180c-4931-a4dc-704f06995144",
   "metadata": {},
   "outputs": [
    {
     "data": {
      "text/plain": [
       "81"
      ]
     },
     "execution_count": 4,
     "metadata": {},
     "output_type": "execute_result"
    }
   ],
   "source": [
    "random.randint(0,100)"
   ]
  },
  {
   "cell_type": "markdown",
   "id": "543bc86d-1516-4a1a-a67f-2b52fd251a7b",
   "metadata": {},
   "source": [
    "Génération de 10 points de chaque couleur:"
   ]
  },
  {
   "cell_type": "code",
   "execution_count": 5,
   "id": "a82e40c4-1c3a-4295-ac78-f523be82eda9",
   "metadata": {},
   "outputs": [],
   "source": [
    "n = 10  # Nombre de points par couleur\n",
    "\n",
    "while len(points_bleus)!=n or len(points_rouges)!=n:\n",
    "    x = random.randint(0,100)\n",
    "    y = random.randint(0,100)\n",
    "    if y >= x and len(points_bleus)<n:\n",
    "        points_bleus.append((x,y))\n",
    "    elif y < x and len(points_rouges)<n:\n",
    "        points_rouges.append((x,y))"
   ]
  },
  {
   "cell_type": "code",
   "execution_count": 6,
   "id": "87cb6974-8343-4a1e-9b29-9239a3db03d9",
   "metadata": {},
   "outputs": [
    {
     "data": {
      "text/plain": [
       "[(17, 94),\n",
       " (13, 86),\n",
       " (11, 75),\n",
       " (3, 11),\n",
       " (27, 29),\n",
       " (64, 77),\n",
       " (3, 71),\n",
       " (25, 91),\n",
       " (83, 89),\n",
       " (28, 57)]"
      ]
     },
     "execution_count": 6,
     "metadata": {},
     "output_type": "execute_result"
    }
   ],
   "source": [
    "points_bleus"
   ]
  },
  {
   "cell_type": "code",
   "execution_count": 7,
   "id": "ae75433b-317c-43d1-b2ef-ee30cf470df0",
   "metadata": {},
   "outputs": [
    {
     "data": {
      "text/plain": [
       "[(14, 3),\n",
       " (94, 35),\n",
       " (31, 28),\n",
       " (94, 69),\n",
       " (54, 4),\n",
       " (69, 53),\n",
       " (75, 35),\n",
       " (54, 43),\n",
       " (35, 19),\n",
       " (43, 13)]"
      ]
     },
     "execution_count": 7,
     "metadata": {},
     "output_type": "execute_result"
    }
   ],
   "source": [
    "points_rouges"
   ]
  },
  {
   "cell_type": "markdown",
   "id": "cecf8889-ab0f-4096-9d77-360f676c6767",
   "metadata": {},
   "source": [
    "## Visualisation\n",
    "\n",
    "[matplotlib scatter plot](https://matplotlib.org/stable/gallery/shapes_and_collections/scatter.html)\n",
    "\n",
    "[Les couleurs sous matplotlib](https://matplotlib.org/stable/gallery/color/color_demo.html)"
   ]
  },
  {
   "cell_type": "code",
   "execution_count": 9,
   "id": "189c4876-9397-4c03-939e-7cc01950ef5c",
   "metadata": {},
   "outputs": [
    {
     "data": {
      "image/png": "[encoded data removed]",
      "text/plain": [
       "<Figure size 640x480 with 1 Axes>"
      ]
     },
     "metadata": {},
     "output_type": "display_data"
    }
   ],
   "source": [
    "import matplotlib.pyplot as plt\n",
    "import numpy as np\n",
    "\n",
    "# points_bleus puis points_rouges\n",
    "\n",
    "abscisses = []\n",
    "ordonnées = []\n",
    "couleurs = []\n",
    "\n",
    "for x,y in points_bleus:\n",
    "    abscisses.append(x)\n",
    "    ordonnées.append(y)\n",
    "    couleurs.append('tab:blue')\n",
    "for x,y in points_rouges:\n",
    "    abscisses.append(x)\n",
    "    ordonnées.append(y)\n",
    "    couleurs.append('tab:red')\n",
    "\n",
    "plt.scatter(abscisses, ordonnées, c=couleurs, alpha=0.5)\n",
    "plt.show()"
   ]
  },
  {
   "cell_type": "markdown",
   "id": "0c4fd054-2d45-402a-8655-b1284b2298fb",
   "metadata": {},
   "source": [
    "## Classification d'un nouveau point pris au hasard\n",
    "\n",
    "exemple avec k = 3"
   ]
  },
  {
   "cell_type": "code",
   "execution_count": 10,
   "id": "856ce2e9-d5fd-43ce-9d26-e9809092fdd6",
   "metadata": {},
   "outputs": [],
   "source": [
    "# nouveau_point = (random.randint(0,100), random.randint(0,100))\n",
    "nouveau_point = (11, 48)"
   ]
  },
  {
   "cell_type": "code",
   "execution_count": 12,
   "id": "e448c894-4fbf-4876-b175-8a35a6375c27",
   "metadata": {},
   "outputs": [
    {
     "data": {
      "image/png": "[encoded data removed]",
      "text/plain": [
       "<Figure size 640x480 with 1 Axes>"
      ]
     },
     "metadata": {},
     "output_type": "display_data"
    }
   ],
   "source": [
    "# Visualisation du jeu de données et des points que l'on cherche à classer (ici représentés en vert)\n",
    "abscisses.append(11)\n",
    "ordonnées.append(48)\n",
    "abscisses.append(25)\n",
    "ordonnées.append(26)\n",
    "couleurs.append('black')\n",
    "couleurs.append('black')\n",
    "plt.scatter(abscisses, ordonnées, c=couleurs, alpha=0.5)\n",
    "plt.show()"
   ]
  },
  {
   "cell_type": "markdown",
   "id": "2dbb46dd-4214-4193-965f-01051af887e3",
   "metadata": {},
   "source": [
    "## Jeu de données initial et étiquettes associées"
   ]
  },
  {
   "cell_type": "code",
   "execution_count": 13,
   "id": "35877062-16e1-4ebb-b58d-009d4f329921",
   "metadata": {},
   "outputs": [],
   "source": [
    "points = points_bleus + points_rouges\n",
    "couleurs = ['bleu']*10 + ['rouge']*10"
   ]
  },
  {
   "cell_type": "code",
   "execution_count": 14,
   "id": "23ae2fb5-c864-4ef6-bced-920bce074aaf",
   "metadata": {},
   "outputs": [
    {
     "data": {
      "text/plain": [
       "['bleu',\n",
       " 'bleu',\n",
       " 'bleu',\n",
       " 'bleu',\n",
       " 'bleu',\n",
       " 'bleu',\n",
       " 'bleu',\n",
       " 'bleu',\n",
       " 'bleu',\n",
       " 'bleu',\n",
       " 'rouge',\n",
       " 'rouge',\n",
       " 'rouge',\n",
       " 'rouge',\n",
       " 'rouge',\n",
       " 'rouge',\n",
       " 'rouge',\n",
       " 'rouge',\n",
       " 'rouge',\n",
       " 'rouge']"
      ]
     },
     "execution_count": 14,
     "metadata": {},
     "output_type": "execute_result"
    }
   ],
   "source": [
    "couleurs"
   ]
  },
  {
   "cell_type": "markdown",
   "id": "2f4e8a15-4f9b-4ca4-8597-23855c6283ed",
   "metadata": {},
   "source": [
    "## Etapes de l'algorithme"
   ]
  },
  {
   "cell_type": "markdown",
   "id": "73aaa648-666a-491b-94e2-6453b61d013f",
   "metadata": {},
   "source": [
    "Distance entre deux points A et B du plan:\n",
    "\n",
    "$$ L_2(A,B) = \\sqrt{(x_A-x_B)^2+(y_A-y_B)^2}$$"
   ]
  },
  {
   "cell_type": "markdown",
   "id": "6b05308f-04b6-473c-947a-41d03e86b411",
   "metadata": {},
   "source": [
    "[python library math](https://docs.python.org/3/library/math.html)\n",
    " \n",
    "    math.dist(p, q)\n",
    "\n",
    "    Return the Euclidean distance between two points p and q, each given as a sequence (or iterable) of coordinates. The two points must have the same dimension."
   ]
  },
  {
   "cell_type": "code",
   "execution_count": 15,
   "id": "670aaf96-1318-4631-8dae-811a84b3d2f4",
   "metadata": {},
   "outputs": [
    {
     "data": {
      "text/plain": [
       "1.4142135623730951"
      ]
     },
     "execution_count": 15,
     "metadata": {},
     "output_type": "execute_result"
    }
   ],
   "source": [
    "import math\n",
    "\n",
    "origine = (0,0)\n",
    "unité = (1,1)\n",
    "math.dist(origine, unité)"
   ]
  },
  {
   "cell_type": "markdown",
   "id": "62368c1b-e80a-4337-be30-b597efdf659b",
   "metadata": {},
   "source": [
    "Calcul de l'ensemble des distances du nouveau point aux points du jeu de données initiales"
   ]
  },
  {
   "cell_type": "code",
   "execution_count": 16,
   "id": "53319b26-0e45-4afe-898d-7bf2882668da",
   "metadata": {},
   "outputs": [],
   "source": [
    "distances = [math.dist(point, nouveau_point) for point in points]"
   ]
  },
  {
   "cell_type": "code",
   "execution_count": 17,
   "id": "3cfe0bb4-d087-4094-a46c-8a5ff0f4e50f",
   "metadata": {},
   "outputs": [],
   "source": [
    "# La ligne précédente est équivalente à :\n",
    "distances = []\n",
    "for point in points:\n",
    "    distances.append(math.dist(point, nouveau_point))"
   ]
  },
  {
   "cell_type": "markdown",
   "id": "099ea76d-a8fe-42b0-9ce1-49e494207e2e",
   "metadata": {},
   "source": [
    "[realpython list comprehension](https://realpython.com/list-comprehension-python/)"
   ]
  },
  {
   "cell_type": "code",
   "execution_count": 18,
   "id": "5bdcbb87-87c7-403d-bce6-9e4bd3b648e8",
   "metadata": {},
   "outputs": [
    {
     "data": {
      "text/plain": [
       "[46.389654018972806,\n",
       " 38.05259518088089,\n",
       " 27.0,\n",
       " 37.8549864614954,\n",
       " 24.839484696748443,\n",
       " 60.41522986797286,\n",
       " 24.351591323771842,\n",
       " 45.221676218380054,\n",
       " 82.85529554590944,\n",
       " 19.235384061671343,\n",
       " 45.09988913511872,\n",
       " 84.01190391843289,\n",
       " 28.284271247461902,\n",
       " 85.61541917201598,\n",
       " 61.5223536610881,\n",
       " 58.215118311311535,\n",
       " 65.30696746902278,\n",
       " 43.289721643826724,\n",
       " 37.64306044943742,\n",
       " 47.4236228055175]"
      ]
     },
     "execution_count": 18,
     "metadata": {},
     "output_type": "execute_result"
    }
   ],
   "source": [
    "distances"
   ]
  },
  {
   "cell_type": "code",
   "execution_count": 19,
   "id": "015aedf7-7cdf-456e-83f5-424417a41826",
   "metadata": {},
   "outputs": [
    {
     "data": {
      "text/plain": [
       "[(46.389654018972806, 'bleu'),\n",
       " (38.05259518088089, 'bleu'),\n",
       " (27.0, 'bleu'),\n",
       " (37.8549864614954, 'bleu'),\n",
       " (24.839484696748443, 'bleu'),\n",
       " (60.41522986797286, 'bleu'),\n",
       " (24.351591323771842, 'bleu'),\n",
       " (45.221676218380054, 'bleu'),\n",
       " (82.85529554590944, 'bleu'),\n",
       " (19.235384061671343, 'bleu'),\n",
       " (45.09988913511872, 'rouge'),\n",
       " (84.01190391843289, 'rouge'),\n",
       " (28.284271247461902, 'rouge'),\n",
       " (85.61541917201598, 'rouge'),\n",
       " (61.5223536610881, 'rouge'),\n",
       " (58.215118311311535, 'rouge'),\n",
       " (65.30696746902278, 'rouge'),\n",
       " (43.289721643826724, 'rouge'),\n",
       " (37.64306044943742, 'rouge'),\n",
       " (47.4236228055175, 'rouge')]"
      ]
     },
     "execution_count": 19,
     "metadata": {},
     "output_type": "execute_result"
    }
   ],
   "source": [
    "# Liste des distances associées aux couleurs de points\n",
    "[(d, c) for (d,c) in zip(distances, couleurs)]"
   ]
  },
  {
   "cell_type": "code",
   "execution_count": 20,
   "id": "a04f0e27-f0cf-45c9-ae65-4f1f255b8799",
   "metadata": {},
   "outputs": [
    {
     "data": {
      "text/plain": [
       "[(19.235384061671343, 'bleu'),\n",
       " (24.351591323771842, 'bleu'),\n",
       " (24.839484696748443, 'bleu'),\n",
       " (27.0, 'bleu'),\n",
       " (28.284271247461902, 'rouge'),\n",
       " (37.64306044943742, 'rouge'),\n",
       " (37.8549864614954, 'bleu'),\n",
       " (38.05259518088089, 'bleu'),\n",
       " (43.289721643826724, 'rouge'),\n",
       " (45.09988913511872, 'rouge'),\n",
       " (45.221676218380054, 'bleu'),\n",
       " (46.389654018972806, 'bleu'),\n",
       " (47.4236228055175, 'rouge'),\n",
       " (58.215118311311535, 'rouge'),\n",
       " (60.41522986797286, 'bleu'),\n",
       " (61.5223536610881, 'rouge'),\n",
       " (65.30696746902278, 'rouge'),\n",
       " (82.85529554590944, 'bleu'),\n",
       " (84.01190391843289, 'rouge'),\n",
       " (85.61541917201598, 'rouge')]"
      ]
     },
     "execution_count": 20,
     "metadata": {},
     "output_type": "execute_result"
    }
   ],
   "source": [
    "distances_classées = sorted([(d, c) for (d,c) in zip(distances, couleurs)])\n",
    "distances_classées"
   ]
  },
  {
   "cell_type": "code",
   "execution_count": 21,
   "id": "97772c12-c3f1-4eeb-b4c1-64f8033678e5",
   "metadata": {},
   "outputs": [
    {
     "data": {
      "text/plain": [
       "[(19.235384061671343, 'bleu'),\n",
       " (24.351591323771842, 'bleu'),\n",
       " (24.839484696748443, 'bleu')]"
      ]
     },
     "execution_count": 21,
     "metadata": {},
     "output_type": "execute_result"
    }
   ],
   "source": [
    "k=3\n",
    "distances_classées[:k]"
   ]
  },
  {
   "cell_type": "markdown",
   "id": "012c19ad-8d51-4ea3-8ddd-464bcb0ded08",
   "metadata": {},
   "source": [
    "Cas d'une classification erronée (dûe au manque de points dans le jeu de données initial)"
   ]
  },
  {
   "cell_type": "code",
   "execution_count": 22,
   "id": "56cc86c0-03b4-4ef1-bf2a-0de22a9b8ab5",
   "metadata": {},
   "outputs": [
    {
     "data": {
      "text/plain": [
       "[(3.605551275463989, 'bleu'),\n",
       " (6.324555320336759, 'rouge'),\n",
       " (12.206555615733702, 'rouge')]"
      ]
     },
     "execution_count": 22,
     "metadata": {},
     "output_type": "execute_result"
    }
   ],
   "source": [
    "nouveau_point = (25, 26)  # devrait être classé en bleu\n",
    "distances = [math.dist(point, nouveau_point) for point in points]\n",
    "plus_petites_distances = sorted([(d, c) for (d,c) in zip(distances, couleurs)])[:k]\n",
    "plus_petites_distances"
   ]
  },
  {
   "cell_type": "markdown",
   "id": "8f5202e8-7942-4284-9002-1feb242a9abb",
   "metadata": {},
   "source": [
    "Extraction de la couleur la plus fréquente:"
   ]
  },
  {
   "cell_type": "code",
   "execution_count": 23,
   "id": "e4b47109-2d4c-4123-b8d7-4f35d193d400",
   "metadata": {},
   "outputs": [
    {
     "data": {
      "text/plain": [
       "'rouge'"
      ]
     },
     "execution_count": 23,
     "metadata": {},
     "output_type": "execute_result"
    }
   ],
   "source": [
    "from collections import Counter\n",
    "Counter([couleur for _, couleur in plus_petites_distances]).most_common(1)[0][0]"
   ]
  },
  {
   "cell_type": "markdown",
   "id": "9f99f88e-1341-49ff-87f0-5dd1ab39aad4",
   "metadata": {},
   "source": [
    "## Fonction kNN"
   ]
  },
  {
   "cell_type": "code",
   "execution_count": 24,
   "id": "ea0a7a9b-4651-40a0-bc84-1772961933a1",
   "metadata": {},
   "outputs": [],
   "source": [
    "from collections import Counter\n",
    "\n",
    "def kNN(X, y, new_x, k=3):\n",
    "    \"\"\"\n",
    "    X: jeu de données initiales\n",
    "    y: classes associées aux éléments de X \n",
    "    new_x: nouveau point que l'on souhaite classer\n",
    "    k: nombre de voisins pris dans l'évaluation\n",
    "    \"\"\"\n",
    "    distances = [math.dist(new_x, x) for x in X]\n",
    "    plus_petites_distances = sorted([(d, c) for (d,c) in zip(distances, y)])[:k]\n",
    "    counter = Counter([classe for _, classe in plus_petites_distances])\n",
    "    \n",
    "    return counter.most_common(1)[0][0]"
   ]
  },
  {
   "cell_type": "code",
   "execution_count": 25,
   "id": "2cd0cc21-558c-469d-a32f-4fdead0abc64",
   "metadata": {},
   "outputs": [
    {
     "data": {
      "text/plain": [
       "'rouge'"
      ]
     },
     "execution_count": 25,
     "metadata": {},
     "output_type": "execute_result"
    }
   ],
   "source": [
    "kNN(points, couleurs, (25, 26))  # devrait être classé en bleu"
   ]
  },
  {
   "cell_type": "code",
   "execution_count": 26,
   "id": "8808139e-effc-4bf4-a983-8a2b943dfa7e",
   "metadata": {},
   "outputs": [
    {
     "data": {
      "text/plain": [
       "'bleu'"
      ]
     },
     "execution_count": 26,
     "metadata": {},
     "output_type": "execute_result"
    }
   ],
   "source": [
    "kNN(points, couleurs, (11, 48))  # devrait être classé en bleu"
   ]
  },
  {
   "cell_type": "markdown",
   "id": "25433692-d2ec-41d9-9ee8-4a731b25a153",
   "metadata": {},
   "source": [
    "## Références\n",
    "\n",
    "[StatQuest: K-nearest neighbors, Clearly Explained](https://www.youtube.com/watch?v=HVXime0nQeI)"
   ]
  },
  {
   "cell_type": "code",
   "execution_count": null,
   "id": "dabaf90b-90ee-425e-ab85-4e3e86b7db34",
   "metadata": {},
   "outputs": [],
   "source": []
  }
 ],
 "metadata": {
  "kernelspec": {
   "display_name": "ml",
   "language": "python",
   "name": "ml"
  },
  "language_info": {
   "codemirror_mode": {
    "name": "ipython",
    "version": 3
   },
   "file_extension": ".py",
   "mimetype": "text/x-python",
   "name": "python",
   "nbconvert_exporter": "python",
   "pygments_lexer": "ipython3",
   "version": "3.11.8"
  }
 },
 "nbformat": 4,
 "nbformat_minor": 5
}
